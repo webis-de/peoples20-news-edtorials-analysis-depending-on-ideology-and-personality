{
 "cells": [
  {
   "cell_type": "code",
   "execution_count": 1,
   "metadata": {},
   "outputs": [
    {
     "name": "stdout",
     "output_type": "stream",
     "text": [
      "C:\\Users\\elba_ro\\Documents\\projects\\nlpcss2020-editorials-analysis\n"
     ]
    },
    {
     "name": "stderr",
     "output_type": "stream",
     "text": [
      "[nltk_data] Downloading package wordnet to\n",
      "[nltk_data]     C:\\Users\\elba_ro\\AppData\\Roaming\\nltk_data...\n",
      "[nltk_data]   Package wordnet is already up-to-date!\n",
      "[nltk_data] Downloading package wordnet to\n",
      "[nltk_data]     C:\\Users\\elba_ro\\AppData\\Roaming\\nltk_data...\n",
      "[nltk_data]   Package wordnet is already up-to-date!\n",
      "[nltk_data] Downloading package wordnet to\n",
      "[nltk_data]     C:\\Users\\elba_ro\\AppData\\Roaming\\nltk_data...\n",
      "[nltk_data]   Package wordnet is already up-to-date!\n"
     ]
    }
   ],
   "source": [
    "import pandas as pd\n",
    "from collections import Counter\n",
    "from langdetect import detect\n",
    "import langdetect\n",
    "import numpy as np\n",
    "import importlib\n",
    "import os\n",
    "current_dir = os.getcwd()\n",
    "%cd ..\n",
    "import textmining.text_miner \n",
    "import textmining.loader  as loader\n",
    "import textmining.topic_modeler as tm\n",
    "import textmining.significance_testing as significance_testing\n",
    "import textmining.utility as utility\n",
    "import textmining.analysis as analysis\n",
    "import textmining.cluster_analysis as cluster_analysis\n",
    "import textmining.machine_learning as machine_learning\n",
    "import textmining.news_editorials_experiments as experiment\n",
    "import textmining.cross_models_significance as cross\n",
    "\n",
    "importlib.reload(textmining.machine_learning)\n",
    "importlib.reload(textmining.news_editorials_experiments)\n",
    "importlib.reload(textmining.cross_models_significance)\n",
    "importlib.reload(textmining.cluster_analysis)\n",
    "importlib.reload(textmining.text_miner)\n",
    "\n",
    "importlib.reload(textmining.text_miner)\n",
    "importlib.reload(textmining.topic_modeler)\n",
    "importlib.reload(textmining.analysis)\n",
    "importlib.reload(textmining.loader)\n",
    "os.chdir(current_dir)\n",
    "\n",
    "%matplotlib inline\n",
    "\n",
    "import matplotlib\n",
    "import matplotlib.pyplot as plt"
   ]
  },
  {
   "cell_type": "code",
   "execution_count": 15,
   "metadata": {},
   "outputs": [],
   "source": [
    "trait = 'neuroticism'"
   ]
  },
  {
   "cell_type": "code",
   "execution_count": 16,
   "metadata": {},
   "outputs": [
    {
     "name": "stdout",
     "output_type": "stream",
     "text": [
      "\"corpus\" is set. It contains the 6000 annotation\n"
     ]
    }
   ],
   "source": [
    "load = loader.loader()"
   ]
  },
  {
   "cell_type": "code",
   "execution_count": 17,
   "metadata": {},
   "outputs": [],
   "source": [
    "personality_df = load.load_personality_traits()\n",
    "personality_df.set_index('id', inplace=True)\n"
   ]
  },
  {
   "cell_type": "code",
   "execution_count": 18,
   "metadata": {},
   "outputs": [
    {
     "data": {
      "text/plain": [
       "LOW        10\n",
       "HIGH        9\n",
       "AVERAGE     5\n",
       "Name: neuroticism, dtype: int64"
      ]
     },
     "execution_count": 18,
     "metadata": {},
     "output_type": "execute_result"
    }
   ],
   "source": [
    "# Traints\n",
    "def set_avg_to_low(row):\n",
    "    row[trait] = 'HIGH' if row[trait] == 'AVERAGE' else row[trait]\n",
    "    return row\n",
    "#personality_df = personality_df.apply(set_avg_to_low, axis=1)\n",
    "personality_df[[trait]]\n",
    "personality_df[trait].value_counts()"
   ]
  },
  {
   "cell_type": "code",
   "execution_count": 19,
   "metadata": {},
   "outputs": [
    {
     "name": "stdout",
     "output_type": "stream",
     "text": [
      "\"corpus\" is set with personality: \"a\" , \"b\", ...\n"
     ]
    }
   ],
   "source": [
    "corpus = load.corpus\n",
    "corpus = load.add_personality_label(personality_df[[trait]], trait)\n"
   ]
  },
  {
   "cell_type": "code",
   "execution_count": 20,
   "metadata": {
    "scrolled": true
   },
   "outputs": [
    {
     "data": {
      "text/plain": [
       "LOW        2500\n",
       "HIGH       2250\n",
       "AVERAGE    1250\n",
       "Name: neuroticism, dtype: int64"
      ]
     },
     "execution_count": 20,
     "metadata": {},
     "output_type": "execute_result"
    }
   ],
   "source": [
    "corpus[trait].value_counts()"
   ]
  },
  {
   "cell_type": "code",
   "execution_count": 21,
   "metadata": {},
   "outputs": [
    {
     "name": "stdout",
     "output_type": "stream",
     "text": [
      "\n",
      "\n"
     ]
    },
    {
     "data": {
      "text/plain": [
       "(effect_abstracted    1    2     3\n",
       " neuroticism                      \n",
       " AVERAGE            111  381   758\n",
       " HIGH               257  913  1080\n",
       " LOW                319  696  1485,\n",
       " None,\n",
       " None,\n",
       " effect        1    2    3     4    5\n",
       " neuroticism                         \n",
       " AVERAGE      16   95  381   568  190\n",
       " HIGH         52  205  913   625  455\n",
       " LOW          75  244  696  1007  478)"
      ]
     },
     "execution_count": 21,
     "metadata": {},
     "output_type": "execute_result"
    }
   ],
   "source": [
    "pd.crosstab(corpus[trait], corpus.effect_abstracted), print(''),print(''), pd.crosstab(corpus[trait], corpus.effect)"
   ]
  },
  {
   "cell_type": "code",
   "execution_count": 22,
   "metadata": {
    "scrolled": true
   },
   "outputs": [
    {
     "name": "stdout",
     "output_type": "stream",
     "text": [
      "articles dataframe for ideology AVERAGE was created\n",
      "The id of the df is the article id without txt\n",
      "total con: 737\n",
      "rounded TRAINGING data:  590\n",
      "rounded Validation data:  0\n",
      "rounded Test data:  147\n",
      "total con: 1000\n",
      "rounded TRAINGING data:  800\n",
      "rounded Validation data:  0\n",
      "rounded Test data:  200\n",
      "\"data_division\" is set as dict with keys  dict_keys(['train', 'test'])\n",
      "\"corpus\" is set with split_label: \"train\" \"test\"\n",
      "\"data_division\" is set as dict with keys  dict_keys(['train', 'test'])\n",
      "length of self.df:  737\n",
      "length of self.data_division_df:  737\n",
      "length of self.df:  737\n",
      "articles dataframe for ideology HIGH was created\n",
      "The id of the df is the article id without txt\n",
      "total con: 979\n",
      "rounded TRAINGING data:  783\n",
      "rounded Validation data:  0\n",
      "rounded Test data:  196\n",
      "total con: 1000\n",
      "rounded TRAINGING data:  800\n",
      "rounded Validation data:  0\n",
      "rounded Test data:  200\n",
      "\"data_division\" is set as dict with keys  dict_keys(['train', 'test'])\n",
      "\"corpus\" is set with split_label: \"train\" \"test\"\n",
      "\"data_division\" is set as dict with keys  dict_keys(['train', 'test'])\n",
      "length of self.df:  979\n",
      "length of self.data_division_df:  979\n",
      "length of self.df:  979\n",
      "articles dataframe for ideology LOW was created\n",
      "The id of the df is the article id without txt\n",
      "total con: 979\n",
      "rounded TRAINGING data:  783\n",
      "rounded Validation data:  0\n",
      "rounded Test data:  196\n",
      "total con: 1000\n",
      "rounded TRAINGING data:  800\n",
      "rounded Validation data:  0\n",
      "rounded Test data:  200\n",
      "\"data_division\" is set as dict with keys  dict_keys(['train', 'test'])\n",
      "\"corpus\" is set with split_label: \"train\" \"test\"\n",
      "\"data_division\" is set as dict with keys  dict_keys(['train', 'test'])\n",
      "length of self.df:  979\n",
      "length of self.data_division_df:  979\n",
      "length of self.df:  979\n"
     ]
    }
   ],
   "source": [
    "consc_maj_df = load.get_article_dfs_per_ideology(ideology = trait, include_content = True)"
   ]
  },
  {
   "cell_type": "code",
   "execution_count": 23,
   "metadata": {},
   "outputs": [],
   "source": [
    "high_df = consc_maj_df['HIGH']\n",
    "average_df = consc_maj_df['AVERAGE']\n",
    "low_df = consc_maj_df['LOW']"
   ]
  },
  {
   "cell_type": "code",
   "execution_count": null,
   "metadata": {},
   "outputs": [],
   "source": [
    "def check_if_all_0(df):\n",
    "    df\n",
    "    return  df[(df['challenging']== 1) & (df['no_effect']== 0) & (df['reinforcing']== 0)]\n",
    "\n",
    "high_df['sum_']= high_df['challenging'] + high_df['no_effect'] +high_df['reinforcing']\n",
    "\n",
    "low_df['sum_']= low_df['challenging'] + low_df['no_effect'] +low_df['reinforcing']\n",
    "high_df['sum_'].value_counts(), low_df['sum_'].value_counts(),"
   ]
  },
  {
   "cell_type": "code",
   "execution_count": 24,
   "metadata": {},
   "outputs": [
    {
     "name": "stdout",
     "output_type": "stream",
     "text": [
      "reinforcing    619\n",
      "challenging    220\n",
      "no_effect      140\n",
      "Name: majority, dtype: int64\n",
      "\n",
      "reinforcing    492\n",
      "no_effect      142\n",
      "challenging    103\n",
      "Name: majority, dtype: int64\n",
      "\n",
      "reinforcing    488\n",
      "no_effect      381\n",
      "challenging    110\n",
      "Name: majority, dtype: int64\n"
     ]
    }
   ],
   "source": [
    "print(low_df.majority.value_counts())\n",
    "\n",
    "print()\n",
    "\n",
    "print(average_df.majority.value_counts())\n",
    "print()\n",
    "\n",
    "print(high_df.majority.value_counts())\n"
   ]
  },
  {
   "cell_type": "code",
   "execution_count": 26,
   "metadata": {},
   "outputs": [
    {
     "name": "stdout",
     "output_type": "stream",
     "text": [
      "train    783\n",
      "test     196\n",
      "Name: split_label, dtype: int64\n",
      "\n",
      "train    590\n",
      "test     147\n",
      "Name: split_label, dtype: int64\n",
      "\n",
      "train    783\n",
      "test     196\n",
      "Name: split_label, dtype: int64\n",
      "\n",
      "\n",
      "split_label  test  train\n",
      "majority                \n",
      "challenging    39    181\n",
      "no_effect      36    104\n",
      "reinforcing   121    498\n",
      "\n",
      "split_label  test  train\n",
      "majority                \n",
      "challenging    23     80\n",
      "no_effect      28    114\n",
      "reinforcing    96    396\n",
      "\n",
      "split_label  test  train\n",
      "majority                \n",
      "challenging    15     95\n",
      "no_effect      70    311\n",
      "reinforcing   111    377\n"
     ]
    }
   ],
   "source": [
    "print(high_df.split_label.value_counts())\n",
    "print()\n",
    "print(average_df.split_label.value_counts())\n",
    "print()\n",
    "print(low_df.split_label.value_counts())\n",
    "print()\n",
    "print()\n",
    "print(pd.crosstab(low_df.majority, low_df.split_label))\n",
    "print()\n",
    "print(pd.crosstab(average_df.majority, average_df.split_label))\n",
    "print()\n",
    "print(pd.crosstab(high_df.majority, high_df.split_label))"
   ]
  },
  {
   "cell_type": "code",
   "execution_count": null,
   "metadata": {},
   "outputs": [],
   "source": [
    "high_df.rename(columns = {'majority': trait+'_high_majority'}, inplace = True)\n",
    "#average_df.rename(columns = {'majority': trait+'_average_majority'}, inplace = True)\n",
    "low_df.rename(columns = {'majority': trait+'_low_majority'}, inplace = True)"
   ]
  },
  {
   "cell_type": "code",
   "execution_count": null,
   "metadata": {},
   "outputs": [],
   "source": [
    "data = pd.read_json('../data/articles_with_adu_liwc_lexicons_content.json', orient='records')\n",
    "data.set_index('idx', inplace=True)\n",
    "print(len(data))\n",
    "data = data.merge(high_df[[trait+'_high_majority']], how=\"inner\",left_index=True, right_index=True )\n",
    "#data = data.merge(average_df[[trait+'_average_majority']], how=\"inner\",left_index=True, right_index=True )\n",
    "data = data.merge(low_df[[trait+'_low_majority']], how=\"inner\",left_index=True, right_index=True )\n",
    "\n",
    "data.drop(['liberal_majority', 'conservative_majority'], axis=1, inplace=True)\n",
    "data.to_csv('../data/'+trait+'_HL_all_features.csv')"
   ]
  },
  {
   "cell_type": "code",
   "execution_count": null,
   "metadata": {},
   "outputs": [],
   "source": [
    "training_df, test_df = analysis.get_train_test(data)"
   ]
  },
  {
   "cell_type": "markdown",
   "metadata": {},
   "source": [
    "# Training models"
   ]
  },
  {
   "cell_type": "code",
   "execution_count": 8,
   "metadata": {},
   "outputs": [],
   "source": [
    "df = pd.read_csv('../data/'+trait+'_HAL_all_features.csv', index_col='idx')\n"
   ]
  },
  {
   "cell_type": "code",
   "execution_count": null,
   "metadata": {
    "scrolled": true
   },
   "outputs": [
    {
     "name": "stdout",
     "output_type": "stream",
     "text": [
      "running experiments for ideologies:  ['neuroticism_high_majority'] \n",
      " remove_outliers:  True \n",
      " normalize:  sqrt\n",
      "preprocessing data...\n",
      "removing outliers by clipping values...\n",
      "getting only numeric features from the training set...\n",
      "There are 428  numeric features out of 434\n",
      "getting X y data...\n",
      "Normalizing by using sqrt scaler...\n",
      "normalized\n",
      "end of get_x_y.\n",
      "END of preprocessing\n",
      "neuroticism_high_majority\n",
      "+++++++++++++++++++++++++++++++++++++++++++++\n",
      "('liwc',)\n",
      "performing gridsearch\n",
      "training and testing\n",
      "macro-f1:  0.29 time(s):  6.981\n",
      "-------------------------------------------\n",
      "('nrc',)\n",
      "performing gridsearch\n",
      "training and testing\n",
      "macro-f1:  0.32 time(s):  1.632\n",
      "-------------------------------------------\n",
      "('mpqa_arg',)\n",
      "performing gridsearch\n"
     ]
    }
   ],
   "source": [
    "\n",
    "experiment.run_experiments(df, ideologies=[trait+'_high_majority', \n",
    "                                                          #trait+'_average_majority',\n",
    "                                                         #trait+'_low_majority',\n",
    "                                          ],\n",
    "                                          filename=\"../out/style_content_models_results/\"+trait+\"_HL_experiments_sqrt\",\n",
    "                                          remove_outliers=True,\n",
    "                                          normalize=\"sqrt\")"
   ]
  },
  {
   "cell_type": "code",
   "execution_count": 5,
   "metadata": {},
   "outputs": [
    {
     "name": "stdout",
     "output_type": "stream",
     "text": [
      "removing outliers by clipping values...\n",
      "getting only numeric features from the training set...\n",
      "There are 428  numeric features out of 434\n",
      "getting X y data...\n",
      "Normalizing by using standard scaler...\n",
      "Normalizing by using standard scaler...\n",
      "normalized\n",
      "end of get_x_y.\n"
     ]
    },
    {
     "data": {
      "text/plain": [
       "{'macro': 0.3,\n",
       " 'micro': 0.34,\n",
       " 'challenging': 0.1,\n",
       " 'no_effect': 0.4,\n",
       " 'reinforcing': 0.4}"
      ]
     },
     "execution_count": 5,
     "metadata": {},
     "output_type": "execute_result"
    }
   ],
   "source": [
    "experiment.train_baseline(df, trait+'_high_majority')"
   ]
  },
  {
   "cell_type": "code",
   "execution_count": null,
   "metadata": {},
   "outputs": [],
   "source": [
    "experiment.train_baseline(df, trait+'_average_majority')"
   ]
  },
  {
   "cell_type": "code",
   "execution_count": 6,
   "metadata": {},
   "outputs": [
    {
     "name": "stdout",
     "output_type": "stream",
     "text": [
      "removing outliers by clipping values...\n",
      "getting only numeric features from the training set...\n",
      "There are 428  numeric features out of 434\n",
      "getting X y data...\n",
      "Normalizing by using standard scaler...\n",
      "Normalizing by using standard scaler...\n",
      "normalized\n",
      "end of get_x_y.\n"
     ]
    },
    {
     "data": {
      "text/plain": [
       "{'macro': 0.31,\n",
       " 'micro': 0.32,\n",
       " 'challenging': 0.29,\n",
       " 'no_effect': 0.27,\n",
       " 'reinforcing': 0.37}"
      ]
     },
     "execution_count": 6,
     "metadata": {},
     "output_type": "execute_result"
    }
   ],
   "source": [
    "experiment.train_baseline(df, trait+'_low_majority')"
   ]
  },
  {
   "cell_type": "code",
   "execution_count": 9,
   "metadata": {},
   "outputs": [
    {
     "name": "stdout",
     "output_type": "stream",
     "text": [
      "low\n"
     ]
    },
    {
     "ename": "NameError",
     "evalue": "name 'results_sqrt' is not defined",
     "output_type": "error",
     "traceback": [
      "\u001b[1;31m---------------------------------------------------------------------------\u001b[0m",
      "\u001b[1;31mNameError\u001b[0m                                 Traceback (most recent call last)",
      "\u001b[1;32m<ipython-input-9-8bb1042ad48d>\u001b[0m in \u001b[0;36m<module>\u001b[1;34m\u001b[0m\n\u001b[0;32m      3\u001b[0m     \u001b[1;31m#print(results_minmax[ '{}_{}_majority'.format(trait, l)].macro.max() )\u001b[0m\u001b[1;33m\u001b[0m\u001b[1;33m\u001b[0m\u001b[1;33m\u001b[0m\u001b[0m\n\u001b[0;32m      4\u001b[0m     \u001b[1;31m#print(results_log[ '{}_{}_majority'.format(trait, l)].macro.max() )\u001b[0m\u001b[1;33m\u001b[0m\u001b[1;33m\u001b[0m\u001b[1;33m\u001b[0m\u001b[0m\n\u001b[1;32m----> 5\u001b[1;33m     \u001b[0mprint\u001b[0m\u001b[1;33m(\u001b[0m\u001b[0mresults_sqrt\u001b[0m\u001b[1;33m[\u001b[0m \u001b[1;34m'{}_{}_majority'\u001b[0m\u001b[1;33m.\u001b[0m\u001b[0mformat\u001b[0m\u001b[1;33m(\u001b[0m\u001b[0mtrait\u001b[0m\u001b[1;33m,\u001b[0m \u001b[0ml\u001b[0m\u001b[1;33m)\u001b[0m\u001b[1;33m]\u001b[0m\u001b[1;33m.\u001b[0m\u001b[0mmacro\u001b[0m\u001b[1;33m.\u001b[0m\u001b[0mmax\u001b[0m\u001b[1;33m(\u001b[0m\u001b[1;33m)\u001b[0m \u001b[1;33m)\u001b[0m\u001b[1;33m\u001b[0m\u001b[1;33m\u001b[0m\u001b[0m\n\u001b[0m\u001b[0;32m      6\u001b[0m     \u001b[1;31m#print(results_standard[ '{}_{}_majority'.format(trait, l)].macro.max() )\u001b[0m\u001b[1;33m\u001b[0m\u001b[1;33m\u001b[0m\u001b[1;33m\u001b[0m\u001b[0m\n",
      "\u001b[1;31mNameError\u001b[0m: name 'results_sqrt' is not defined"
     ]
    }
   ],
   "source": [
    "for l in ['low', 'high']:\n",
    "    print(l)\n",
    "    #print(results_minmax[ '{}_{}_majority'.format(trait, l)].macro.max() )\n",
    "    #print(results_log[ '{}_{}_majority'.format(trait, l)].macro.max() )\n",
    "    print(results_sqrt[ '{}_{}_majority'.format(trait, l)].macro.max() )\n",
    "    #print(results_standard[ '{}_{}_majority'.format(trait, l)].macro.max() )\n"
   ]
  },
  {
   "cell_type": "code",
   "execution_count": null,
   "metadata": {},
   "outputs": [],
   "source": []
  },
  {
   "cell_type": "code",
   "execution_count": 10,
   "metadata": {
    "scrolled": true
   },
   "outputs": [
    {
     "name": "stdout",
     "output_type": "stream",
     "text": [
      "preprocessing data...\n",
      "removing outliers by clipping values...\n",
      "getting only numeric features from the training set...\n",
      "There are 428  numeric features out of 435\n",
      "getting X y data...\n",
      "Normalizing by using sqrt scaler...\n",
      "normalized\n",
      "end of get_x_y.\n",
      "END of preprocessing\n",
      "neuroticism_high_majority\n",
      "+++++++++++++++++++++++++++++++++++++++++++++\n",
      "(('dummy',), ('lemma',)) 2\n",
      "('dummy',)\n",
      "('lemma',)\n",
      "preprocessing data...\n",
      "removing outliers by clipping values...\n",
      "getting only numeric features from the training set...\n",
      "There are 428  numeric features out of 435\n"
     ]
    },
    {
     "name": "stderr",
     "output_type": "stream",
     "text": [
      "c:\\programdata\\miniconda3\\lib\\site-packages\\scipy\\stats\\morestats.py:2879: UserWarning: Sample size too small for normal approximation.\n",
      "  warnings.warn(\"Sample size too small for normal approximation.\")\n"
     ]
    },
    {
     "name": "stdout",
     "output_type": "stream",
     "text": [
      "getting X y data...\n",
      "Normalizing by using sqrt scaler...\n",
      "normalized\n",
      "end of get_x_y.\n",
      "END of preprocessing\n",
      "neuroticism_high_majority\n",
      "+++++++++++++++++++++++++++++++++++++++++++++\n",
      "(('dummy',), ('nrc',)) 2\n",
      "('dummy',)\n",
      "('nrc',)\n",
      "preprocessing data...\n",
      "removing outliers by clipping values...\n",
      "getting only numeric features from the training set...\n",
      "There are 428  numeric features out of 435\n"
     ]
    },
    {
     "name": "stderr",
     "output_type": "stream",
     "text": [
      "c:\\programdata\\miniconda3\\lib\\site-packages\\scipy\\stats\\morestats.py:2879: UserWarning: Sample size too small for normal approximation.\n",
      "  warnings.warn(\"Sample size too small for normal approximation.\")\n"
     ]
    },
    {
     "name": "stdout",
     "output_type": "stream",
     "text": [
      "getting X y data...\n",
      "Normalizing by using sqrt scaler...\n",
      "normalized\n",
      "end of get_x_y.\n",
      "END of preprocessing\n",
      "neuroticism_high_majority\n",
      "+++++++++++++++++++++++++++++++++++++++++++++\n",
      "(('dummy',), ('nrc', 'lemma')) 2\n",
      "('dummy',)\n",
      "('nrc', 'lemma')\n",
      "preprocessing data...\n",
      "removing outliers by clipping values...\n",
      "getting only numeric features from the training set...\n",
      "There are 428  numeric features out of 435"
     ]
    },
    {
     "name": "stderr",
     "output_type": "stream",
     "text": [
      "c:\\programdata\\miniconda3\\lib\\site-packages\\scipy\\stats\\morestats.py:2879: UserWarning: Sample size too small for normal approximation.\n",
      "  warnings.warn(\"Sample size too small for normal approximation.\")\n"
     ]
    },
    {
     "name": "stdout",
     "output_type": "stream",
     "text": [
      "\n",
      "getting X y data...\n",
      "Normalizing by using sqrt scaler...\n",
      "normalized\n",
      "end of get_x_y.\n",
      "END of preprocessing\n",
      "neuroticism_high_majority\n",
      "+++++++++++++++++++++++++++++++++++++++++++++\n",
      "(('lemma',), ('nrc',)) 2\n",
      "('lemma',)\n",
      "('nrc',)\n",
      "preprocessing data...\n",
      "removing outliers by clipping values...\n",
      "getting only numeric features from the training set...\n",
      "There are 428  numeric features out of 435\n"
     ]
    },
    {
     "name": "stderr",
     "output_type": "stream",
     "text": [
      "c:\\programdata\\miniconda3\\lib\\site-packages\\scipy\\stats\\morestats.py:2879: UserWarning: Sample size too small for normal approximation.\n",
      "  warnings.warn(\"Sample size too small for normal approximation.\")\n"
     ]
    },
    {
     "name": "stdout",
     "output_type": "stream",
     "text": [
      "getting X y data...\n",
      "Normalizing by using sqrt scaler...\n",
      "normalized\n",
      "end of get_x_y.\n",
      "END of preprocessing\n",
      "neuroticism_high_majority\n",
      "+++++++++++++++++++++++++++++++++++++++++++++\n",
      "(('lemma',), ('nrc', 'lemma')) 2\n",
      "('lemma',)\n",
      "('nrc', 'lemma')\n",
      "preprocessing data...\n",
      "removing outliers by clipping values...\n",
      "getting only numeric features from the training set...\n",
      "There are 428  numeric features out of 435\n"
     ]
    },
    {
     "name": "stderr",
     "output_type": "stream",
     "text": [
      "c:\\programdata\\miniconda3\\lib\\site-packages\\scipy\\stats\\morestats.py:2879: UserWarning: Sample size too small for normal approximation.\n",
      "  warnings.warn(\"Sample size too small for normal approximation.\")\n"
     ]
    },
    {
     "name": "stdout",
     "output_type": "stream",
     "text": [
      "getting X y data...\n",
      "Normalizing by using sqrt scaler...\n",
      "normalized\n",
      "end of get_x_y.\n",
      "END of preprocessing\n",
      "neuroticism_high_majority\n",
      "+++++++++++++++++++++++++++++++++++++++++++++\n",
      "(('nrc',), ('nrc', 'lemma')) 2\n",
      "('nrc',)\n",
      "('nrc', 'lemma')\n"
     ]
    },
    {
     "name": "stderr",
     "output_type": "stream",
     "text": [
      "c:\\programdata\\miniconda3\\lib\\site-packages\\scipy\\stats\\morestats.py:2879: UserWarning: Sample size too small for normal approximation.\n",
      "  warnings.warn(\"Sample size too small for normal approximation.\")\n"
     ]
    }
   ],
   "source": [
    "level= 'high'\n",
    "PATH_RESULT= '../out/style_content_models_results/{}_HAL_experiments_{}_{}_{}_majority.csv'\n",
    "\n",
    "high_cross_models_sqrt_df    = cross.run_model_pairs_significance(PATH_RESULT.format(trait,'sqrt',trait, level), \n",
    "                                                                  df, '{}_{}_majority'.format(trait, level), \n",
    "                                                                  'sqrt'    , 'sqrt_{}_{}'.format(trait, level) \n",
    "                                                                 )\n",
    "\n"
   ]
  },
  {
   "cell_type": "code",
   "execution_count": 11,
   "metadata": {},
   "outputs": [
    {
     "data": {
      "text/html": [
       "<div>\n",
       "<style scoped>\n",
       "    .dataframe tbody tr th:only-of-type {\n",
       "        vertical-align: middle;\n",
       "    }\n",
       "\n",
       "    .dataframe tbody tr th {\n",
       "        vertical-align: top;\n",
       "    }\n",
       "\n",
       "    .dataframe thead th {\n",
       "        text-align: right;\n",
       "    }\n",
       "</style>\n",
       "<table border=\"1\" class=\"dataframe\">\n",
       "  <thead>\n",
       "    <tr style=\"text-align: right;\">\n",
       "      <th></th>\n",
       "      <th>model_pair</th>\n",
       "      <th>is_normal</th>\n",
       "      <th>stat</th>\n",
       "      <th>p_val</th>\n",
       "      <th>wilk_stat</th>\n",
       "      <th>wilk_p_val</th>\n",
       "      <th>significant</th>\n",
       "      <th>data</th>\n",
       "    </tr>\n",
       "  </thead>\n",
       "  <tbody>\n",
       "    <tr>\n",
       "      <th>0</th>\n",
       "      <td>((dummy,), (lemma,))</td>\n",
       "      <td>True</td>\n",
       "      <td>-1.007664</td>\n",
       "      <td>0.370623</td>\n",
       "      <td>4.0</td>\n",
       "      <td>0.345231</td>\n",
       "      <td>False</td>\n",
       "      <td>{'('dummy',)': [0.19, 0.46, 0.2, 0.31, 0.23], ...</td>\n",
       "    </tr>\n",
       "    <tr>\n",
       "      <th>1</th>\n",
       "      <td>((dummy,), (nrc,))</td>\n",
       "      <td>True</td>\n",
       "      <td>-1.604733</td>\n",
       "      <td>0.183822</td>\n",
       "      <td>3.0</td>\n",
       "      <td>0.224916</td>\n",
       "      <td>False</td>\n",
       "      <td>{'('dummy',)': [0.19, 0.46, 0.2, 0.31, 0.23], ...</td>\n",
       "    </tr>\n",
       "    <tr>\n",
       "      <th>2</th>\n",
       "      <td>((dummy,), (nrc, lemma))</td>\n",
       "      <td>True</td>\n",
       "      <td>-2.267891</td>\n",
       "      <td>0.085928</td>\n",
       "      <td>0.0</td>\n",
       "      <td>0.043114</td>\n",
       "      <td>False</td>\n",
       "      <td>{'('dummy',)': [0.19, 0.46, 0.2, 0.31, 0.23], ...</td>\n",
       "    </tr>\n",
       "    <tr>\n",
       "      <th>3</th>\n",
       "      <td>((lemma,), (nrc,))</td>\n",
       "      <td>True</td>\n",
       "      <td>-0.770423</td>\n",
       "      <td>0.484029</td>\n",
       "      <td>5.0</td>\n",
       "      <td>0.500184</td>\n",
       "      <td>False</td>\n",
       "      <td>{'('lemma',)': [0.28296703296703296, 0.3442802...</td>\n",
       "    </tr>\n",
       "    <tr>\n",
       "      <th>4</th>\n",
       "      <td>((lemma,), (nrc, lemma))</td>\n",
       "      <td>True</td>\n",
       "      <td>-2.000324</td>\n",
       "      <td>0.116074</td>\n",
       "      <td>3.0</td>\n",
       "      <td>0.224916</td>\n",
       "      <td>False</td>\n",
       "      <td>{'('lemma',)': [0.28296703296703296, 0.3442802...</td>\n",
       "    </tr>\n",
       "    <tr>\n",
       "      <th>5</th>\n",
       "      <td>((nrc,), (nrc, lemma))</td>\n",
       "      <td>True</td>\n",
       "      <td>-1.388688</td>\n",
       "      <td>0.237252</td>\n",
       "      <td>3.0</td>\n",
       "      <td>0.224916</td>\n",
       "      <td>False</td>\n",
       "      <td>{'('nrc',)': [0.337037037037037, 0.40566959921...</td>\n",
       "    </tr>\n",
       "  </tbody>\n",
       "</table>\n",
       "</div>"
      ],
      "text/plain": [
       "                 model_pair  is_normal      stat     p_val  wilk_stat  \\\n",
       "0      ((dummy,), (lemma,))       True -1.007664  0.370623        4.0   \n",
       "1        ((dummy,), (nrc,))       True -1.604733  0.183822        3.0   \n",
       "2  ((dummy,), (nrc, lemma))       True -2.267891  0.085928        0.0   \n",
       "3        ((lemma,), (nrc,))       True -0.770423  0.484029        5.0   \n",
       "4  ((lemma,), (nrc, lemma))       True -2.000324  0.116074        3.0   \n",
       "5    ((nrc,), (nrc, lemma))       True -1.388688  0.237252        3.0   \n",
       "\n",
       "   wilk_p_val  significant                                               data  \n",
       "0    0.345231        False  {'('dummy',)': [0.19, 0.46, 0.2, 0.31, 0.23], ...  \n",
       "1    0.224916        False  {'('dummy',)': [0.19, 0.46, 0.2, 0.31, 0.23], ...  \n",
       "2    0.043114        False  {'('dummy',)': [0.19, 0.46, 0.2, 0.31, 0.23], ...  \n",
       "3    0.500184        False  {'('lemma',)': [0.28296703296703296, 0.3442802...  \n",
       "4    0.224916        False  {'('lemma',)': [0.28296703296703296, 0.3442802...  \n",
       "5    0.224916        False  {'('nrc',)': [0.337037037037037, 0.40566959921...  "
      ]
     },
     "execution_count": 11,
     "metadata": {},
     "output_type": "execute_result"
    }
   ],
   "source": [
    "high_cross_models_sqrt_df"
   ]
  },
  {
   "cell_type": "code",
   "execution_count": 12,
   "metadata": {},
   "outputs": [
    {
     "name": "stdout",
     "output_type": "stream",
     "text": [
      "preprocessing data...\n",
      "removing outliers by clipping values...\n",
      "getting only numeric features from the training set...\n",
      "There are 428  numeric features out of 435\n",
      "getting X y data...\n",
      "Normalizing by using sqrt scaler...\n",
      "normalized\n",
      "end of get_x_y.\n",
      "END of preprocessing\n",
      "neuroticism_average_majority\n",
      "+++++++++++++++++++++++++++++++++++++++++++++\n",
      "(('dummy',), ('lemma',)) 2\n",
      "('dummy',)\n",
      "('lemma',)\n",
      "preprocessing data...\n",
      "removing outliers by clipping values...\n",
      "getting only numeric features from the training set...\n",
      "There are 428  numeric features out of 435\n"
     ]
    },
    {
     "name": "stderr",
     "output_type": "stream",
     "text": [
      "c:\\programdata\\miniconda3\\lib\\site-packages\\scipy\\stats\\morestats.py:2879: UserWarning: Sample size too small for normal approximation.\n",
      "  warnings.warn(\"Sample size too small for normal approximation.\")\n"
     ]
    },
    {
     "name": "stdout",
     "output_type": "stream",
     "text": [
      "getting X y data...\n",
      "Normalizing by using sqrt scaler...\n",
      "normalized\n",
      "end of get_x_y.\n",
      "END of preprocessing\n",
      "neuroticism_average_majority\n",
      "+++++++++++++++++++++++++++++++++++++++++++++\n",
      "(('dummy',), ('mpqa_subjobg',)) 2\n",
      "('dummy',)\n",
      "('mpqa_subjobg',)\n",
      "preprocessing data...\n",
      "removing outliers by clipping values...\n",
      "getting only numeric features from the training set...\n",
      "There are 428  numeric features out of 435\n"
     ]
    },
    {
     "name": "stderr",
     "output_type": "stream",
     "text": [
      "c:\\programdata\\miniconda3\\lib\\site-packages\\scipy\\stats\\morestats.py:2879: UserWarning: Sample size too small for normal approximation.\n",
      "  warnings.warn(\"Sample size too small for normal approximation.\")\n"
     ]
    },
    {
     "name": "stdout",
     "output_type": "stream",
     "text": [
      "getting X y data...\n",
      "Normalizing by using sqrt scaler...\n",
      "normalized\n",
      "end of get_x_y.\n",
      "END of preprocessing\n",
      "neuroticism_average_majority\n",
      "+++++++++++++++++++++++++++++++++++++++++++++\n",
      "(('dummy',), ('liwc', 'nrc', 'adu')) 2\n",
      "('dummy',)\n",
      "('liwc', 'nrc', 'adu')\n",
      "preprocessing data...\n",
      "removing outliers by clipping values...\n",
      "getting only numeric features from the training set...\n",
      "There are 428  numeric features out of 435\n"
     ]
    },
    {
     "name": "stderr",
     "output_type": "stream",
     "text": [
      "c:\\programdata\\miniconda3\\lib\\site-packages\\scipy\\stats\\morestats.py:2879: UserWarning: Sample size too small for normal approximation.\n",
      "  warnings.warn(\"Sample size too small for normal approximation.\")\n"
     ]
    },
    {
     "name": "stdout",
     "output_type": "stream",
     "text": [
      "getting X y data...\n",
      "Normalizing by using sqrt scaler...\n",
      "normalized\n",
      "end of get_x_y.\n",
      "END of preprocessing\n",
      "neuroticism_average_majority\n",
      "+++++++++++++++++++++++++++++++++++++++++++++\n",
      "(('dummy',), ('mpqa_subjobg', 'adu', 'lemma')) 2\n",
      "('dummy',)\n",
      "('mpqa_subjobg', 'adu', 'lemma')\n",
      "preprocessing data...\n",
      "removing outliers by clipping values...\n",
      "getting only numeric features from the training set...\n",
      "There are 428  numeric features out of 435"
     ]
    },
    {
     "name": "stderr",
     "output_type": "stream",
     "text": [
      "c:\\programdata\\miniconda3\\lib\\site-packages\\scipy\\stats\\morestats.py:2879: UserWarning: Sample size too small for normal approximation.\n",
      "  warnings.warn(\"Sample size too small for normal approximation.\")\n"
     ]
    },
    {
     "name": "stdout",
     "output_type": "stream",
     "text": [
      "\n",
      "getting X y data...\n",
      "Normalizing by using sqrt scaler...\n",
      "normalized\n",
      "end of get_x_y.\n",
      "END of preprocessing\n",
      "neuroticism_average_majority\n",
      "+++++++++++++++++++++++++++++++++++++++++++++\n",
      "(('lemma',), ('mpqa_subjobg',)) 2\n",
      "('lemma',)\n",
      "('mpqa_subjobg',)\n",
      "preprocessing data...\n",
      "removing outliers by clipping values...\n",
      "getting only numeric features from the training set...\n",
      "There are 428  numeric features out of 435\n"
     ]
    },
    {
     "name": "stderr",
     "output_type": "stream",
     "text": [
      "c:\\programdata\\miniconda3\\lib\\site-packages\\scipy\\stats\\morestats.py:2879: UserWarning: Sample size too small for normal approximation.\n",
      "  warnings.warn(\"Sample size too small for normal approximation.\")\n"
     ]
    },
    {
     "name": "stdout",
     "output_type": "stream",
     "text": [
      "getting X y data...\n",
      "Normalizing by using sqrt scaler...\n",
      "normalized\n",
      "end of get_x_y.\n",
      "END of preprocessing\n",
      "neuroticism_average_majority\n",
      "+++++++++++++++++++++++++++++++++++++++++++++\n",
      "(('lemma',), ('liwc', 'nrc', 'adu')) 2\n",
      "('lemma',)\n",
      "('liwc', 'nrc', 'adu')\n",
      "preprocessing data...\n",
      "removing outliers by clipping values...\n",
      "getting only numeric features from the training set...\n",
      "There are 428  numeric features out of 435\n"
     ]
    },
    {
     "name": "stderr",
     "output_type": "stream",
     "text": [
      "c:\\programdata\\miniconda3\\lib\\site-packages\\scipy\\stats\\morestats.py:2879: UserWarning: Sample size too small for normal approximation.\n",
      "  warnings.warn(\"Sample size too small for normal approximation.\")\n"
     ]
    },
    {
     "name": "stdout",
     "output_type": "stream",
     "text": [
      "getting X y data...\n",
      "Normalizing by using sqrt scaler...\n",
      "normalized\n",
      "end of get_x_y.\n",
      "END of preprocessing\n",
      "neuroticism_average_majority\n",
      "+++++++++++++++++++++++++++++++++++++++++++++\n",
      "(('lemma',), ('mpqa_subjobg', 'adu', 'lemma')) 2\n",
      "('lemma',)\n",
      "('mpqa_subjobg', 'adu', 'lemma')\n"
     ]
    },
    {
     "name": "stderr",
     "output_type": "stream",
     "text": [
      "c:\\programdata\\miniconda3\\lib\\site-packages\\scipy\\stats\\morestats.py:2879: UserWarning: Sample size too small for normal approximation.\n",
      "  warnings.warn(\"Sample size too small for normal approximation.\")\n"
     ]
    },
    {
     "name": "stdout",
     "output_type": "stream",
     "text": [
      "preprocessing data...\n",
      "removing outliers by clipping values...\n",
      "getting only numeric features from the training set...\n",
      "There are 428  numeric features out of 435\n",
      "getting X y data...\n",
      "Normalizing by using sqrt scaler...\n",
      "normalized\n",
      "end of get_x_y.\n",
      "END of preprocessing\n",
      "neuroticism_average_majority\n",
      "+++++++++++++++++++++++++++++++++++++++++++++\n",
      "(('mpqa_subjobg',), ('liwc', 'nrc', 'adu')) 2\n",
      "('mpqa_subjobg',)\n",
      "('liwc', 'nrc', 'adu')\n",
      "preprocessing data...\n",
      "removing outliers by clipping values...\n",
      "getting only numeric features from the training set...\n",
      "There are 428  numeric features out of 435\n"
     ]
    },
    {
     "name": "stderr",
     "output_type": "stream",
     "text": [
      "c:\\programdata\\miniconda3\\lib\\site-packages\\scipy\\stats\\morestats.py:2879: UserWarning: Sample size too small for normal approximation.\n",
      "  warnings.warn(\"Sample size too small for normal approximation.\")\n"
     ]
    },
    {
     "name": "stdout",
     "output_type": "stream",
     "text": [
      "getting X y data...\n",
      "Normalizing by using sqrt scaler...\n",
      "normalized\n",
      "end of get_x_y.\n",
      "END of preprocessing\n",
      "neuroticism_average_majority\n",
      "+++++++++++++++++++++++++++++++++++++++++++++\n",
      "(('mpqa_subjobg',), ('mpqa_subjobg', 'adu', 'lemma')) 2\n",
      "('mpqa_subjobg',)\n",
      "('mpqa_subjobg', 'adu', 'lemma')\n",
      "preprocessing data...\n",
      "removing outliers by clipping values...\n",
      "getting only numeric features from the training set...\n",
      "There are 428  numeric features out of 435\n"
     ]
    },
    {
     "name": "stderr",
     "output_type": "stream",
     "text": [
      "c:\\programdata\\miniconda3\\lib\\site-packages\\scipy\\stats\\morestats.py:2879: UserWarning: Sample size too small for normal approximation.\n",
      "  warnings.warn(\"Sample size too small for normal approximation.\")\n"
     ]
    },
    {
     "name": "stdout",
     "output_type": "stream",
     "text": [
      "getting X y data...\n",
      "Normalizing by using sqrt scaler...\n",
      "normalized\n",
      "end of get_x_y.\n",
      "END of preprocessing\n",
      "neuroticism_average_majority\n",
      "+++++++++++++++++++++++++++++++++++++++++++++\n",
      "(('liwc', 'nrc', 'adu'), ('mpqa_subjobg', 'adu', 'lemma')) 2\n",
      "('liwc', 'nrc', 'adu')\n",
      "('mpqa_subjobg', 'adu', 'lemma')\n"
     ]
    },
    {
     "name": "stderr",
     "output_type": "stream",
     "text": [
      "c:\\programdata\\miniconda3\\lib\\site-packages\\scipy\\stats\\morestats.py:2879: UserWarning: Sample size too small for normal approximation.\n",
      "  warnings.warn(\"Sample size too small for normal approximation.\")\n"
     ]
    }
   ],
   "source": [
    "level= 'average'\n",
    "\n",
    "average_cross_models_sqrt_df    = cross.run_model_pairs_significance(PATH_RESULT.format(trait,'sqrt',trait, level), \n",
    "                                                                  df, '{}_{}_majority'.format(trait, level), \n",
    "                                                                  'sqrt'    , 'sqrt_{}_{}'.format(trait, level) \n",
    "                                                                 )"
   ]
  },
  {
   "cell_type": "code",
   "execution_count": 13,
   "metadata": {},
   "outputs": [
    {
     "data": {
      "text/html": [
       "<div>\n",
       "<style scoped>\n",
       "    .dataframe tbody tr th:only-of-type {\n",
       "        vertical-align: middle;\n",
       "    }\n",
       "\n",
       "    .dataframe tbody tr th {\n",
       "        vertical-align: top;\n",
       "    }\n",
       "\n",
       "    .dataframe thead th {\n",
       "        text-align: right;\n",
       "    }\n",
       "</style>\n",
       "<table border=\"1\" class=\"dataframe\">\n",
       "  <thead>\n",
       "    <tr style=\"text-align: right;\">\n",
       "      <th></th>\n",
       "      <th>model_pair</th>\n",
       "      <th>is_normal</th>\n",
       "      <th>stat</th>\n",
       "      <th>p_val</th>\n",
       "      <th>wilk_stat</th>\n",
       "      <th>wilk_p_val</th>\n",
       "      <th>significant</th>\n",
       "      <th>data</th>\n",
       "    </tr>\n",
       "  </thead>\n",
       "  <tbody>\n",
       "    <tr>\n",
       "      <th>0</th>\n",
       "      <td>((dummy,), (lemma,))</td>\n",
       "      <td>True</td>\n",
       "      <td>-1.974696</td>\n",
       "      <td>0.119525</td>\n",
       "      <td>2.0</td>\n",
       "      <td>0.138011</td>\n",
       "      <td>False</td>\n",
       "      <td>{'('dummy',)': [0.4, 0.22, 0.35, 0.2, 0.34], '...</td>\n",
       "    </tr>\n",
       "    <tr>\n",
       "      <th>1</th>\n",
       "      <td>((dummy,), (mpqa_subjobg,))</td>\n",
       "      <td>True</td>\n",
       "      <td>-0.358929</td>\n",
       "      <td>0.737792</td>\n",
       "      <td>6.0</td>\n",
       "      <td>0.685830</td>\n",
       "      <td>False</td>\n",
       "      <td>{'('dummy',)': [0.4, 0.22, 0.35, 0.2, 0.34], '...</td>\n",
       "    </tr>\n",
       "    <tr>\n",
       "      <th>2</th>\n",
       "      <td>((dummy,), (liwc, nrc, adu))</td>\n",
       "      <td>True</td>\n",
       "      <td>-0.739998</td>\n",
       "      <td>0.500380</td>\n",
       "      <td>6.0</td>\n",
       "      <td>0.685830</td>\n",
       "      <td>False</td>\n",
       "      <td>{'('dummy',)': [0.4, 0.22, 0.35, 0.2, 0.34], '...</td>\n",
       "    </tr>\n",
       "    <tr>\n",
       "      <th>3</th>\n",
       "      <td>((dummy,), (mpqa_subjobg, adu, lemma))</td>\n",
       "      <td>True</td>\n",
       "      <td>-1.754702</td>\n",
       "      <td>0.154167</td>\n",
       "      <td>2.0</td>\n",
       "      <td>0.138011</td>\n",
       "      <td>False</td>\n",
       "      <td>{'('dummy',)': [0.4, 0.22, 0.35, 0.2, 0.34], '...</td>\n",
       "    </tr>\n",
       "    <tr>\n",
       "      <th>4</th>\n",
       "      <td>((lemma,), (mpqa_subjobg,))</td>\n",
       "      <td>True</td>\n",
       "      <td>0.820298</td>\n",
       "      <td>0.458114</td>\n",
       "      <td>5.0</td>\n",
       "      <td>0.500184</td>\n",
       "      <td>False</td>\n",
       "      <td>{'('lemma',)': [0.3120879120879121, 0.39661572...</td>\n",
       "    </tr>\n",
       "    <tr>\n",
       "      <th>5</th>\n",
       "      <td>((lemma,), (liwc, nrc, adu))</td>\n",
       "      <td>True</td>\n",
       "      <td>1.694459</td>\n",
       "      <td>0.165426</td>\n",
       "      <td>2.0</td>\n",
       "      <td>0.138011</td>\n",
       "      <td>False</td>\n",
       "      <td>{'('lemma',)': [0.3120879120879121, 0.39661572...</td>\n",
       "    </tr>\n",
       "    <tr>\n",
       "      <th>6</th>\n",
       "      <td>((lemma,), (mpqa_subjobg, adu, lemma))</td>\n",
       "      <td>True</td>\n",
       "      <td>0.201426</td>\n",
       "      <td>0.850194</td>\n",
       "      <td>5.0</td>\n",
       "      <td>0.500184</td>\n",
       "      <td>False</td>\n",
       "      <td>{'('lemma',)': [0.3120879120879121, 0.39661572...</td>\n",
       "    </tr>\n",
       "    <tr>\n",
       "      <th>7</th>\n",
       "      <td>((mpqa_subjobg,), (liwc, nrc, adu))</td>\n",
       "      <td>True</td>\n",
       "      <td>-0.089308</td>\n",
       "      <td>0.933130</td>\n",
       "      <td>7.0</td>\n",
       "      <td>0.892738</td>\n",
       "      <td>False</td>\n",
       "      <td>{'('mpqa_subjobg',)': [0.2108974358974359, 0.5...</td>\n",
       "    </tr>\n",
       "    <tr>\n",
       "      <th>8</th>\n",
       "      <td>((mpqa_subjobg,), (mpqa_subjobg, adu, lemma))</td>\n",
       "      <td>True</td>\n",
       "      <td>-0.860991</td>\n",
       "      <td>0.437794</td>\n",
       "      <td>5.0</td>\n",
       "      <td>0.500184</td>\n",
       "      <td>False</td>\n",
       "      <td>{'('mpqa_subjobg',)': [0.2108974358974359, 0.5...</td>\n",
       "    </tr>\n",
       "    <tr>\n",
       "      <th>9</th>\n",
       "      <td>((liwc, nrc, adu), (mpqa_subjobg, adu, lemma))</td>\n",
       "      <td>True</td>\n",
       "      <td>-1.307117</td>\n",
       "      <td>0.261249</td>\n",
       "      <td>3.0</td>\n",
       "      <td>0.224916</td>\n",
       "      <td>False</td>\n",
       "      <td>{'('liwc', 'nrc', 'adu')': [0.2771672771672771...</td>\n",
       "    </tr>\n",
       "  </tbody>\n",
       "</table>\n",
       "</div>"
      ],
      "text/plain": [
       "                                       model_pair  is_normal      stat  \\\n",
       "0                            ((dummy,), (lemma,))       True -1.974696   \n",
       "1                     ((dummy,), (mpqa_subjobg,))       True -0.358929   \n",
       "2                    ((dummy,), (liwc, nrc, adu))       True -0.739998   \n",
       "3          ((dummy,), (mpqa_subjobg, adu, lemma))       True -1.754702   \n",
       "4                     ((lemma,), (mpqa_subjobg,))       True  0.820298   \n",
       "5                    ((lemma,), (liwc, nrc, adu))       True  1.694459   \n",
       "6          ((lemma,), (mpqa_subjobg, adu, lemma))       True  0.201426   \n",
       "7             ((mpqa_subjobg,), (liwc, nrc, adu))       True -0.089308   \n",
       "8   ((mpqa_subjobg,), (mpqa_subjobg, adu, lemma))       True -0.860991   \n",
       "9  ((liwc, nrc, adu), (mpqa_subjobg, adu, lemma))       True -1.307117   \n",
       "\n",
       "      p_val  wilk_stat  wilk_p_val  significant  \\\n",
       "0  0.119525        2.0    0.138011        False   \n",
       "1  0.737792        6.0    0.685830        False   \n",
       "2  0.500380        6.0    0.685830        False   \n",
       "3  0.154167        2.0    0.138011        False   \n",
       "4  0.458114        5.0    0.500184        False   \n",
       "5  0.165426        2.0    0.138011        False   \n",
       "6  0.850194        5.0    0.500184        False   \n",
       "7  0.933130        7.0    0.892738        False   \n",
       "8  0.437794        5.0    0.500184        False   \n",
       "9  0.261249        3.0    0.224916        False   \n",
       "\n",
       "                                                data  \n",
       "0  {'('dummy',)': [0.4, 0.22, 0.35, 0.2, 0.34], '...  \n",
       "1  {'('dummy',)': [0.4, 0.22, 0.35, 0.2, 0.34], '...  \n",
       "2  {'('dummy',)': [0.4, 0.22, 0.35, 0.2, 0.34], '...  \n",
       "3  {'('dummy',)': [0.4, 0.22, 0.35, 0.2, 0.34], '...  \n",
       "4  {'('lemma',)': [0.3120879120879121, 0.39661572...  \n",
       "5  {'('lemma',)': [0.3120879120879121, 0.39661572...  \n",
       "6  {'('lemma',)': [0.3120879120879121, 0.39661572...  \n",
       "7  {'('mpqa_subjobg',)': [0.2108974358974359, 0.5...  \n",
       "8  {'('mpqa_subjobg',)': [0.2108974358974359, 0.5...  \n",
       "9  {'('liwc', 'nrc', 'adu')': [0.2771672771672771...  "
      ]
     },
     "execution_count": 13,
     "metadata": {},
     "output_type": "execute_result"
    }
   ],
   "source": [
    "average_cross_models_sqrt_df"
   ]
  },
  {
   "cell_type": "code",
   "execution_count": 14,
   "metadata": {},
   "outputs": [
    {
     "name": "stdout",
     "output_type": "stream",
     "text": [
      "preprocessing data...\n",
      "removing outliers by clipping values...\n",
      "getting only numeric features from the training set...\n",
      "There are 428  numeric features out of 435\n",
      "getting X y data...\n",
      "Normalizing by using sqrt scaler...\n",
      "normalized\n",
      "end of get_x_y.\n",
      "END of preprocessing\n",
      "neuroticism_low_majority\n",
      "+++++++++++++++++++++++++++++++++++++++++++++\n",
      "(('dummy',), ('lemma',)) 2\n",
      "('dummy',)\n",
      "('lemma',)\n",
      "preprocessing data...\n",
      "removing outliers by clipping values..."
     ]
    },
    {
     "name": "stderr",
     "output_type": "stream",
     "text": [
      "c:\\programdata\\miniconda3\\lib\\site-packages\\scipy\\stats\\morestats.py:2879: UserWarning: Sample size too small for normal approximation.\n",
      "  warnings.warn(\"Sample size too small for normal approximation.\")\n"
     ]
    },
    {
     "name": "stdout",
     "output_type": "stream",
     "text": [
      "\n",
      "getting only numeric features from the training set...\n",
      "There are 428  numeric features out of 435\n",
      "getting X y data...\n",
      "Normalizing by using sqrt scaler...\n",
      "normalized\n",
      "end of get_x_y.\n",
      "END of preprocessing\n",
      "neuroticism_low_majority\n",
      "+++++++++++++++++++++++++++++++++++++++++++++\n",
      "(('dummy',), ('liwc', 'mpqa_arg', 'mpqa_subjobg', 'adu')) 2\n",
      "('dummy',)\n",
      "('liwc', 'mpqa_arg', 'mpqa_subjobg', 'adu')\n",
      "preprocessing data...\n",
      "removing outliers by clipping values...\n",
      "getting only numeric features from the training set...\n",
      "There are 428  numeric features out of 435\n"
     ]
    },
    {
     "name": "stderr",
     "output_type": "stream",
     "text": [
      "c:\\programdata\\miniconda3\\lib\\site-packages\\scipy\\stats\\morestats.py:2879: UserWarning: Sample size too small for normal approximation.\n",
      "  warnings.warn(\"Sample size too small for normal approximation.\")\n"
     ]
    },
    {
     "name": "stdout",
     "output_type": "stream",
     "text": [
      "getting X y data...\n",
      "Normalizing by using sqrt scaler...\n",
      "normalized\n",
      "end of get_x_y.\n",
      "END of preprocessing\n",
      "neuroticism_low_majority\n",
      "+++++++++++++++++++++++++++++++++++++++++++++\n",
      "(('dummy',), ('liwc', 'mpqa_arg', 'lemma')) 2\n",
      "('dummy',)\n",
      "('liwc', 'mpqa_arg', 'lemma')\n"
     ]
    },
    {
     "name": "stderr",
     "output_type": "stream",
     "text": [
      "c:\\programdata\\miniconda3\\lib\\site-packages\\scipy\\stats\\morestats.py:2879: UserWarning: Sample size too small for normal approximation.\n",
      "  warnings.warn(\"Sample size too small for normal approximation.\")\n"
     ]
    },
    {
     "name": "stdout",
     "output_type": "stream",
     "text": [
      "preprocessing data...\n",
      "removing outliers by clipping values...\n",
      "getting only numeric features from the training set...\n",
      "There are 428  numeric features out of 435\n",
      "getting X y data...\n",
      "Normalizing by using sqrt scaler...\n",
      "normalized\n",
      "end of get_x_y.\n",
      "END of preprocessing\n",
      "neuroticism_low_majority\n",
      "+++++++++++++++++++++++++++++++++++++++++++++\n",
      "(('dummy',), ('mpqa_arg', 'mpqa_subjobg', 'lemma')) 2\n",
      "('dummy',)\n",
      "('mpqa_arg', 'mpqa_subjobg', 'lemma')\n",
      "preprocessing data...\n",
      "removing outliers by clipping values..."
     ]
    },
    {
     "name": "stderr",
     "output_type": "stream",
     "text": [
      "c:\\programdata\\miniconda3\\lib\\site-packages\\scipy\\stats\\morestats.py:2879: UserWarning: Sample size too small for normal approximation.\n",
      "  warnings.warn(\"Sample size too small for normal approximation.\")\n"
     ]
    },
    {
     "name": "stdout",
     "output_type": "stream",
     "text": [
      "\n",
      "getting only numeric features from the training set...\n",
      "There are 428  numeric features out of 435\n",
      "getting X y data...\n",
      "Normalizing by using sqrt scaler...\n",
      "normalized\n",
      "end of get_x_y.\n",
      "END of preprocessing\n",
      "neuroticism_low_majority\n",
      "+++++++++++++++++++++++++++++++++++++++++++++\n",
      "(('dummy',), ('mpqa_arg', 'lemma')) 2\n",
      "('dummy',)\n",
      "('mpqa_arg', 'lemma')\n",
      "preprocessing data..."
     ]
    },
    {
     "name": "stderr",
     "output_type": "stream",
     "text": [
      "c:\\programdata\\miniconda3\\lib\\site-packages\\scipy\\stats\\morestats.py:2879: UserWarning: Sample size too small for normal approximation.\n",
      "  warnings.warn(\"Sample size too small for normal approximation.\")\n"
     ]
    },
    {
     "name": "stdout",
     "output_type": "stream",
     "text": [
      "\n",
      "removing outliers by clipping values...\n",
      "getting only numeric features from the training set...\n",
      "There are 428  numeric features out of 435\n",
      "getting X y data...\n",
      "Normalizing by using sqrt scaler...\n",
      "normalized\n",
      "end of get_x_y.\n",
      "END of preprocessing\n",
      "neuroticism_low_majority\n",
      "+++++++++++++++++++++++++++++++++++++++++++++\n",
      "(('dummy',), ('liwc', 'mpqa_arg', 'adu', 'lemma')) 2\n",
      "('dummy',)\n",
      "('liwc', 'mpqa_arg', 'adu', 'lemma')\n",
      "preprocessing data...\n",
      "removing outliers by clipping values..."
     ]
    },
    {
     "name": "stderr",
     "output_type": "stream",
     "text": [
      "c:\\programdata\\miniconda3\\lib\\site-packages\\scipy\\stats\\morestats.py:2879: UserWarning: Sample size too small for normal approximation.\n",
      "  warnings.warn(\"Sample size too small for normal approximation.\")\n"
     ]
    },
    {
     "name": "stdout",
     "output_type": "stream",
     "text": [
      "\n",
      "getting only numeric features from the training set...\n",
      "There are 428  numeric features out of 435\n",
      "getting X y data...\n",
      "Normalizing by using sqrt scaler...\n",
      "normalized\n",
      "end of get_x_y.\n",
      "END of preprocessing\n",
      "neuroticism_low_majority\n",
      "+++++++++++++++++++++++++++++++++++++++++++++\n",
      "(('dummy',), ('mpqa_subjobg', 'lemma')) 2\n",
      "('dummy',)\n",
      "('mpqa_subjobg', 'lemma')\n"
     ]
    },
    {
     "name": "stderr",
     "output_type": "stream",
     "text": [
      "c:\\programdata\\miniconda3\\lib\\site-packages\\scipy\\stats\\morestats.py:2879: UserWarning: Sample size too small for normal approximation.\n",
      "  warnings.warn(\"Sample size too small for normal approximation.\")\n"
     ]
    },
    {
     "name": "stdout",
     "output_type": "stream",
     "text": [
      "preprocessing data...\n",
      "removing outliers by clipping values...\n",
      "getting only numeric features from the training set...\n",
      "There are 428  numeric features out of 435\n",
      "getting X y data...\n",
      "Normalizing by using sqrt scaler...\n",
      "normalized\n",
      "end of get_x_y.\n",
      "END of preprocessing\n",
      "neuroticism_low_majority\n",
      "+++++++++++++++++++++++++++++++++++++++++++++\n",
      "(('lemma',), ('liwc', 'mpqa_arg', 'mpqa_subjobg', 'adu')) 2\n",
      "('lemma',)\n",
      "('liwc', 'mpqa_arg', 'mpqa_subjobg', 'adu')\n",
      "preprocessing data...\n",
      "removing outliers by clipping values...\n",
      "getting only numeric features from the training set...\n",
      "There are 428  numeric features out of 435\n"
     ]
    },
    {
     "name": "stderr",
     "output_type": "stream",
     "text": [
      "c:\\programdata\\miniconda3\\lib\\site-packages\\scipy\\stats\\morestats.py:2879: UserWarning: Sample size too small for normal approximation.\n",
      "  warnings.warn(\"Sample size too small for normal approximation.\")\n"
     ]
    },
    {
     "name": "stdout",
     "output_type": "stream",
     "text": [
      "getting X y data...\n",
      "Normalizing by using sqrt scaler...\n",
      "normalized\n",
      "end of get_x_y.\n",
      "END of preprocessing\n",
      "neuroticism_low_majority\n",
      "+++++++++++++++++++++++++++++++++++++++++++++\n",
      "(('lemma',), ('liwc', 'mpqa_arg', 'lemma')) 2\n",
      "('lemma',)\n",
      "('liwc', 'mpqa_arg', 'lemma')\n"
     ]
    },
    {
     "name": "stderr",
     "output_type": "stream",
     "text": [
      "c:\\programdata\\miniconda3\\lib\\site-packages\\scipy\\stats\\morestats.py:2879: UserWarning: Sample size too small for normal approximation.\n",
      "  warnings.warn(\"Sample size too small for normal approximation.\")\n"
     ]
    },
    {
     "name": "stdout",
     "output_type": "stream",
     "text": [
      "preprocessing data...\n",
      "removing outliers by clipping values...\n",
      "getting only numeric features from the training set...\n",
      "There are 428  numeric features out of 435\n",
      "getting X y data...\n",
      "Normalizing by using sqrt scaler...\n",
      "normalized\n",
      "end of get_x_y.\n",
      "END of preprocessing\n",
      "neuroticism_low_majority\n",
      "+++++++++++++++++++++++++++++++++++++++++++++\n",
      "(('lemma',), ('mpqa_arg', 'mpqa_subjobg', 'lemma')) 2\n",
      "('lemma',)\n",
      "('mpqa_arg', 'mpqa_subjobg', 'lemma')\n",
      "preprocessing data...\n",
      "removing outliers by clipping values..."
     ]
    },
    {
     "name": "stderr",
     "output_type": "stream",
     "text": [
      "c:\\programdata\\miniconda3\\lib\\site-packages\\scipy\\stats\\morestats.py:2879: UserWarning: Sample size too small for normal approximation.\n",
      "  warnings.warn(\"Sample size too small for normal approximation.\")\n"
     ]
    },
    {
     "name": "stdout",
     "output_type": "stream",
     "text": [
      "\n",
      "getting only numeric features from the training set...\n",
      "There are 428  numeric features out of 435\n",
      "getting X y data...\n",
      "Normalizing by using sqrt scaler...\n",
      "normalized\n",
      "end of get_x_y.\n",
      "END of preprocessing\n",
      "neuroticism_low_majority\n",
      "+++++++++++++++++++++++++++++++++++++++++++++\n",
      "(('lemma',), ('mpqa_arg', 'lemma')) 2\n",
      "('lemma',)\n",
      "('mpqa_arg', 'lemma')\n",
      "preprocessing data...\n",
      "removing outliers by clipping values..."
     ]
    },
    {
     "name": "stderr",
     "output_type": "stream",
     "text": [
      "c:\\programdata\\miniconda3\\lib\\site-packages\\scipy\\stats\\morestats.py:2879: UserWarning: Sample size too small for normal approximation.\n",
      "  warnings.warn(\"Sample size too small for normal approximation.\")\n"
     ]
    },
    {
     "name": "stdout",
     "output_type": "stream",
     "text": [
      "\n",
      "getting only numeric features from the training set...\n",
      "There are 428  numeric features out of 435\n",
      "getting X y data...\n",
      "Normalizing by using sqrt scaler...\n",
      "normalized\n",
      "end of get_x_y.\n",
      "END of preprocessing\n",
      "neuroticism_low_majority\n",
      "+++++++++++++++++++++++++++++++++++++++++++++\n",
      "(('lemma',), ('liwc', 'mpqa_arg', 'adu', 'lemma')) 2\n",
      "('lemma',)\n",
      "('liwc', 'mpqa_arg', 'adu', 'lemma')\n"
     ]
    },
    {
     "name": "stderr",
     "output_type": "stream",
     "text": [
      "c:\\programdata\\miniconda3\\lib\\site-packages\\scipy\\stats\\morestats.py:2879: UserWarning: Sample size too small for normal approximation.\n",
      "  warnings.warn(\"Sample size too small for normal approximation.\")\n"
     ]
    },
    {
     "name": "stdout",
     "output_type": "stream",
     "text": [
      "preprocessing data...\n",
      "removing outliers by clipping values...\n",
      "getting only numeric features from the training set...\n",
      "There are 428  numeric features out of 435\n",
      "getting X y data...\n",
      "Normalizing by using sqrt scaler...\n",
      "normalized\n",
      "end of get_x_y.\n",
      "END of preprocessing\n",
      "neuroticism_low_majority\n",
      "+++++++++++++++++++++++++++++++++++++++++++++\n",
      "(('lemma',), ('mpqa_subjobg', 'lemma')) 2\n",
      "('lemma',)\n",
      "('mpqa_subjobg', 'lemma')\n"
     ]
    },
    {
     "name": "stderr",
     "output_type": "stream",
     "text": [
      "c:\\programdata\\miniconda3\\lib\\site-packages\\scipy\\stats\\morestats.py:2879: UserWarning: Sample size too small for normal approximation.\n",
      "  warnings.warn(\"Sample size too small for normal approximation.\")\n"
     ]
    },
    {
     "name": "stdout",
     "output_type": "stream",
     "text": [
      "preprocessing data...\n",
      "removing outliers by clipping values...\n",
      "getting only numeric features from the training set...\n",
      "There are 428  numeric features out of 435\n",
      "getting X y data...\n",
      "Normalizing by using sqrt scaler...\n",
      "normalized\n",
      "end of get_x_y.\n",
      "END of preprocessing\n",
      "neuroticism_low_majority\n",
      "+++++++++++++++++++++++++++++++++++++++++++++\n",
      "(('liwc', 'mpqa_arg', 'mpqa_subjobg', 'adu'), ('liwc', 'mpqa_arg', 'lemma')) 2\n",
      "('liwc', 'mpqa_arg', 'mpqa_subjobg', 'adu')\n",
      "('liwc', 'mpqa_arg', 'lemma')\n",
      "preprocessing data...\n",
      "removing outliers by clipping values...\n",
      "getting only numeric features from the training set...\n",
      "There are 428  numeric features out of 435\n"
     ]
    },
    {
     "name": "stderr",
     "output_type": "stream",
     "text": [
      "c:\\programdata\\miniconda3\\lib\\site-packages\\scipy\\stats\\morestats.py:2879: UserWarning: Sample size too small for normal approximation.\n",
      "  warnings.warn(\"Sample size too small for normal approximation.\")\n"
     ]
    },
    {
     "name": "stdout",
     "output_type": "stream",
     "text": [
      "getting X y data...\n",
      "Normalizing by using sqrt scaler...\n",
      "normalized\n",
      "end of get_x_y.\n",
      "END of preprocessing\n",
      "neuroticism_low_majority\n",
      "+++++++++++++++++++++++++++++++++++++++++++++\n",
      "(('liwc', 'mpqa_arg', 'mpqa_subjobg', 'adu'), ('mpqa_arg', 'mpqa_subjobg', 'lemma')) 2\n",
      "('liwc', 'mpqa_arg', 'mpqa_subjobg', 'adu')\n",
      "('mpqa_arg', 'mpqa_subjobg', 'lemma')\n",
      "preprocessing data...\n",
      "removing outliers by clipping values...\n",
      "getting only numeric features from the training set...\n",
      "There are 428  numeric features out of 435\n"
     ]
    },
    {
     "name": "stderr",
     "output_type": "stream",
     "text": [
      "c:\\programdata\\miniconda3\\lib\\site-packages\\scipy\\stats\\morestats.py:2879: UserWarning: Sample size too small for normal approximation.\n",
      "  warnings.warn(\"Sample size too small for normal approximation.\")\n"
     ]
    },
    {
     "name": "stdout",
     "output_type": "stream",
     "text": [
      "getting X y data...\n",
      "Normalizing by using sqrt scaler...\n",
      "normalized\n",
      "end of get_x_y.\n",
      "END of preprocessing\n",
      "neuroticism_low_majority\n",
      "+++++++++++++++++++++++++++++++++++++++++++++\n",
      "(('liwc', 'mpqa_arg', 'mpqa_subjobg', 'adu'), ('mpqa_arg', 'lemma')) 2\n",
      "('liwc', 'mpqa_arg', 'mpqa_subjobg', 'adu')\n",
      "('mpqa_arg', 'lemma')\n",
      "preprocessing data...\n",
      "removing outliers by clipping values...\n",
      "getting only numeric features from the training set...\n",
      "There are 428  numeric features out of 435\n"
     ]
    },
    {
     "name": "stderr",
     "output_type": "stream",
     "text": [
      "c:\\programdata\\miniconda3\\lib\\site-packages\\scipy\\stats\\morestats.py:2879: UserWarning: Sample size too small for normal approximation.\n",
      "  warnings.warn(\"Sample size too small for normal approximation.\")\n"
     ]
    },
    {
     "name": "stdout",
     "output_type": "stream",
     "text": [
      "getting X y data...\n",
      "Normalizing by using sqrt scaler...\n",
      "normalized\n",
      "end of get_x_y.\n",
      "END of preprocessing\n",
      "neuroticism_low_majority\n",
      "+++++++++++++++++++++++++++++++++++++++++++++\n",
      "(('liwc', 'mpqa_arg', 'mpqa_subjobg', 'adu'), ('liwc', 'mpqa_arg', 'adu', 'lemma')) 2\n",
      "('liwc', 'mpqa_arg', 'mpqa_subjobg', 'adu')\n",
      "('liwc', 'mpqa_arg', 'adu', 'lemma')\n",
      "preprocessing data...\n",
      "removing outliers by clipping values...\n",
      "getting only numeric features from the training set...\n",
      "There are 428  numeric features out of 435\n"
     ]
    },
    {
     "name": "stderr",
     "output_type": "stream",
     "text": [
      "c:\\programdata\\miniconda3\\lib\\site-packages\\scipy\\stats\\morestats.py:2879: UserWarning: Sample size too small for normal approximation.\n",
      "  warnings.warn(\"Sample size too small for normal approximation.\")\n"
     ]
    },
    {
     "name": "stdout",
     "output_type": "stream",
     "text": [
      "getting X y data...\n",
      "Normalizing by using sqrt scaler...\n",
      "normalized\n",
      "end of get_x_y.\n",
      "END of preprocessing\n",
      "neuroticism_low_majority\n",
      "+++++++++++++++++++++++++++++++++++++++++++++\n",
      "(('liwc', 'mpqa_arg', 'mpqa_subjobg', 'adu'), ('mpqa_subjobg', 'lemma')) 2\n",
      "('liwc', 'mpqa_arg', 'mpqa_subjobg', 'adu')\n",
      "('mpqa_subjobg', 'lemma')\n",
      "preprocessing data...\n",
      "removing outliers by clipping values...\n",
      "getting only numeric features from the training set...\n",
      "There are 428  numeric features out of 435\n"
     ]
    },
    {
     "name": "stderr",
     "output_type": "stream",
     "text": [
      "c:\\programdata\\miniconda3\\lib\\site-packages\\scipy\\stats\\morestats.py:2879: UserWarning: Sample size too small for normal approximation.\n",
      "  warnings.warn(\"Sample size too small for normal approximation.\")\n"
     ]
    },
    {
     "name": "stdout",
     "output_type": "stream",
     "text": [
      "getting X y data...\n",
      "Normalizing by using sqrt scaler...\n",
      "normalized\n",
      "end of get_x_y.\n",
      "END of preprocessing\n",
      "neuroticism_low_majority\n",
      "+++++++++++++++++++++++++++++++++++++++++++++\n",
      "(('liwc', 'mpqa_arg', 'lemma'), ('mpqa_arg', 'mpqa_subjobg', 'lemma')) 2\n",
      "('liwc', 'mpqa_arg', 'lemma')\n",
      "('mpqa_arg', 'mpqa_subjobg', 'lemma')\n"
     ]
    },
    {
     "name": "stderr",
     "output_type": "stream",
     "text": [
      "c:\\programdata\\miniconda3\\lib\\site-packages\\scipy\\stats\\morestats.py:2879: UserWarning: Sample size too small for normal approximation.\n",
      "  warnings.warn(\"Sample size too small for normal approximation.\")\n"
     ]
    },
    {
     "name": "stdout",
     "output_type": "stream",
     "text": [
      "preprocessing data...\n",
      "removing outliers by clipping values...\n",
      "getting only numeric features from the training set...\n",
      "There are 428  numeric features out of 435\n",
      "getting X y data...\n",
      "Normalizing by using sqrt scaler...\n",
      "normalized\n",
      "end of get_x_y.\n",
      "END of preprocessing\n",
      "neuroticism_low_majority\n",
      "+++++++++++++++++++++++++++++++++++++++++++++\n",
      "(('liwc', 'mpqa_arg', 'lemma'), ('mpqa_arg', 'lemma')) 2\n",
      "('liwc', 'mpqa_arg', 'lemma')\n",
      "('mpqa_arg', 'lemma')\n"
     ]
    },
    {
     "name": "stderr",
     "output_type": "stream",
     "text": [
      "c:\\programdata\\miniconda3\\lib\\site-packages\\scipy\\stats\\morestats.py:2879: UserWarning: Sample size too small for normal approximation.\n",
      "  warnings.warn(\"Sample size too small for normal approximation.\")\n"
     ]
    },
    {
     "name": "stdout",
     "output_type": "stream",
     "text": [
      "preprocessing data...\n",
      "removing outliers by clipping values...\n",
      "getting only numeric features from the training set...\n",
      "There are 428  numeric features out of 435\n",
      "getting X y data...\n",
      "Normalizing by using sqrt scaler...\n",
      "normalized\n",
      "end of get_x_y.\n",
      "END of preprocessing\n",
      "neuroticism_low_majority\n",
      "+++++++++++++++++++++++++++++++++++++++++++++\n",
      "(('liwc', 'mpqa_arg', 'lemma'), ('liwc', 'mpqa_arg', 'adu', 'lemma')) 2\n",
      "('liwc', 'mpqa_arg', 'lemma')\n",
      "('liwc', 'mpqa_arg', 'adu', 'lemma')\n"
     ]
    },
    {
     "name": "stderr",
     "output_type": "stream",
     "text": [
      "c:\\programdata\\miniconda3\\lib\\site-packages\\scipy\\stats\\morestats.py:2879: UserWarning: Sample size too small for normal approximation.\n",
      "  warnings.warn(\"Sample size too small for normal approximation.\")\n"
     ]
    },
    {
     "name": "stdout",
     "output_type": "stream",
     "text": [
      "preprocessing data...\n",
      "removing outliers by clipping values...\n",
      "getting only numeric features from the training set...\n",
      "There are 428  numeric features out of 435\n",
      "getting X y data...\n",
      "Normalizing by using sqrt scaler...\n",
      "normalized\n",
      "end of get_x_y.\n",
      "END of preprocessing\n",
      "neuroticism_low_majority\n",
      "+++++++++++++++++++++++++++++++++++++++++++++\n",
      "(('liwc', 'mpqa_arg', 'lemma'), ('mpqa_subjobg', 'lemma')) 2\n",
      "('liwc', 'mpqa_arg', 'lemma')\n",
      "('mpqa_subjobg', 'lemma')\n",
      "preprocessing data...\n",
      "removing outliers by clipping values..."
     ]
    },
    {
     "name": "stderr",
     "output_type": "stream",
     "text": [
      "c:\\programdata\\miniconda3\\lib\\site-packages\\scipy\\stats\\morestats.py:2879: UserWarning: Sample size too small for normal approximation.\n",
      "  warnings.warn(\"Sample size too small for normal approximation.\")\n"
     ]
    },
    {
     "name": "stdout",
     "output_type": "stream",
     "text": [
      "\n",
      "getting only numeric features from the training set...\n",
      "There are 428  numeric features out of 435\n",
      "getting X y data...\n",
      "Normalizing by using sqrt scaler...\n",
      "normalized\n",
      "end of get_x_y.\n",
      "END of preprocessing\n",
      "neuroticism_low_majority\n",
      "+++++++++++++++++++++++++++++++++++++++++++++\n",
      "(('mpqa_arg', 'mpqa_subjobg', 'lemma'), ('mpqa_arg', 'lemma')) 2\n",
      "('mpqa_arg', 'mpqa_subjobg', 'lemma')\n",
      "('mpqa_arg', 'lemma')\n",
      "preprocessing data...\n",
      "removing outliers by clipping values..."
     ]
    },
    {
     "name": "stderr",
     "output_type": "stream",
     "text": [
      "c:\\programdata\\miniconda3\\lib\\site-packages\\scipy\\stats\\morestats.py:2879: UserWarning: Sample size too small for normal approximation.\n",
      "  warnings.warn(\"Sample size too small for normal approximation.\")\n"
     ]
    },
    {
     "name": "stdout",
     "output_type": "stream",
     "text": [
      "\n",
      "getting only numeric features from the training set...\n",
      "There are 428  numeric features out of 435\n",
      "getting X y data...\n",
      "Normalizing by using sqrt scaler...\n",
      "normalized\n",
      "end of get_x_y.\n",
      "END of preprocessing\n",
      "neuroticism_low_majority\n",
      "+++++++++++++++++++++++++++++++++++++++++++++\n",
      "(('mpqa_arg', 'mpqa_subjobg', 'lemma'), ('liwc', 'mpqa_arg', 'adu', 'lemma')) 2\n",
      "('mpqa_arg', 'mpqa_subjobg', 'lemma')\n",
      "('liwc', 'mpqa_arg', 'adu', 'lemma')\n"
     ]
    },
    {
     "name": "stderr",
     "output_type": "stream",
     "text": [
      "c:\\programdata\\miniconda3\\lib\\site-packages\\scipy\\stats\\morestats.py:2879: UserWarning: Sample size too small for normal approximation.\n",
      "  warnings.warn(\"Sample size too small for normal approximation.\")\n"
     ]
    },
    {
     "name": "stdout",
     "output_type": "stream",
     "text": [
      "preprocessing data...\n",
      "removing outliers by clipping values...\n",
      "getting only numeric features from the training set...\n",
      "There are 428  numeric features out of 435\n",
      "getting X y data...\n",
      "Normalizing by using sqrt scaler...\n",
      "normalized\n",
      "end of get_x_y.\n",
      "END of preprocessing\n",
      "neuroticism_low_majority\n",
      "+++++++++++++++++++++++++++++++++++++++++++++\n",
      "(('mpqa_arg', 'mpqa_subjobg', 'lemma'), ('mpqa_subjobg', 'lemma')) 2\n",
      "('mpqa_arg', 'mpqa_subjobg', 'lemma')\n",
      "('mpqa_subjobg', 'lemma')\n",
      "preprocessing data...\n",
      "removing outliers by clipping values...\n"
     ]
    },
    {
     "name": "stderr",
     "output_type": "stream",
     "text": [
      "c:\\programdata\\miniconda3\\lib\\site-packages\\scipy\\stats\\morestats.py:2879: UserWarning: Sample size too small for normal approximation.\n",
      "  warnings.warn(\"Sample size too small for normal approximation.\")\n"
     ]
    },
    {
     "name": "stdout",
     "output_type": "stream",
     "text": [
      "getting only numeric features from the training set...\n",
      "There are 428  numeric features out of 435\n",
      "getting X y data...\n",
      "Normalizing by using sqrt scaler...\n",
      "normalized\n",
      "end of get_x_y.\n",
      "END of preprocessing\n",
      "neuroticism_low_majority\n",
      "+++++++++++++++++++++++++++++++++++++++++++++\n",
      "(('mpqa_arg', 'lemma'), ('liwc', 'mpqa_arg', 'adu', 'lemma')) 2\n",
      "('mpqa_arg', 'lemma')\n",
      "('liwc', 'mpqa_arg', 'adu', 'lemma')\n",
      "preprocessing data...\n",
      "removing outliers by clipping values..."
     ]
    },
    {
     "name": "stderr",
     "output_type": "stream",
     "text": [
      "c:\\programdata\\miniconda3\\lib\\site-packages\\scipy\\stats\\morestats.py:2879: UserWarning: Sample size too small for normal approximation.\n",
      "  warnings.warn(\"Sample size too small for normal approximation.\")\n"
     ]
    },
    {
     "name": "stdout",
     "output_type": "stream",
     "text": [
      "\n",
      "getting only numeric features from the training set...\n",
      "There are 428  numeric features out of 435\n",
      "getting X y data...\n",
      "Normalizing by using sqrt scaler...\n",
      "normalized\n",
      "end of get_x_y.\n",
      "END of preprocessing\n",
      "neuroticism_low_majority\n",
      "+++++++++++++++++++++++++++++++++++++++++++++\n",
      "(('mpqa_arg', 'lemma'), ('mpqa_subjobg', 'lemma')) 2\n",
      "('mpqa_arg', 'lemma')\n",
      "('mpqa_subjobg', 'lemma')\n",
      "preprocessing data...\n",
      "removing outliers by clipping values...\n",
      "getting only numeric features from the training set...\n",
      "There are 428  numeric features out of 435"
     ]
    },
    {
     "name": "stderr",
     "output_type": "stream",
     "text": [
      "c:\\programdata\\miniconda3\\lib\\site-packages\\scipy\\stats\\morestats.py:2879: UserWarning: Sample size too small for normal approximation.\n",
      "  warnings.warn(\"Sample size too small for normal approximation.\")\n"
     ]
    },
    {
     "name": "stdout",
     "output_type": "stream",
     "text": [
      "\n",
      "getting X y data...\n",
      "Normalizing by using sqrt scaler...\n",
      "normalized\n",
      "end of get_x_y.\n",
      "END of preprocessing\n",
      "neuroticism_low_majority\n",
      "+++++++++++++++++++++++++++++++++++++++++++++\n",
      "(('liwc', 'mpqa_arg', 'adu', 'lemma'), ('mpqa_subjobg', 'lemma')) 2\n",
      "('liwc', 'mpqa_arg', 'adu', 'lemma')\n",
      "('mpqa_subjobg', 'lemma')\n"
     ]
    },
    {
     "name": "stderr",
     "output_type": "stream",
     "text": [
      "c:\\programdata\\miniconda3\\lib\\site-packages\\scipy\\stats\\morestats.py:2879: UserWarning: Sample size too small for normal approximation.\n",
      "  warnings.warn(\"Sample size too small for normal approximation.\")\n"
     ]
    }
   ],
   "source": [
    "level= 'low'\n",
    "\n",
    "low_cross_models_sqrt_df    = cross.run_model_pairs_significance(PATH_RESULT.format(trait,'sqrt',trait, level), \n",
    "                                                                  df, '{}_{}_majority'.format(trait, level), \n",
    "                                                                  'sqrt'    , 'sqrt_{}_{}'.format(trait, level) \n",
    "                                                                 )\n",
    "\n"
   ]
  },
  {
   "cell_type": "code",
   "execution_count": 15,
   "metadata": {},
   "outputs": [
    {
     "data": {
      "text/html": [
       "<div>\n",
       "<style scoped>\n",
       "    .dataframe tbody tr th:only-of-type {\n",
       "        vertical-align: middle;\n",
       "    }\n",
       "\n",
       "    .dataframe tbody tr th {\n",
       "        vertical-align: top;\n",
       "    }\n",
       "\n",
       "    .dataframe thead th {\n",
       "        text-align: right;\n",
       "    }\n",
       "</style>\n",
       "<table border=\"1\" class=\"dataframe\">\n",
       "  <thead>\n",
       "    <tr style=\"text-align: right;\">\n",
       "      <th></th>\n",
       "      <th>model_pair</th>\n",
       "      <th>is_normal</th>\n",
       "      <th>stat</th>\n",
       "      <th>p_val</th>\n",
       "      <th>wilk_stat</th>\n",
       "      <th>wilk_p_val</th>\n",
       "      <th>significant</th>\n",
       "      <th>data</th>\n",
       "    </tr>\n",
       "  </thead>\n",
       "  <tbody>\n",
       "    <tr>\n",
       "      <th>0</th>\n",
       "      <td>((dummy,), (lemma,))</td>\n",
       "      <td>True</td>\n",
       "      <td>0.852921</td>\n",
       "      <td>0.441765</td>\n",
       "      <td>4.0</td>\n",
       "      <td>0.345231</td>\n",
       "      <td>False</td>\n",
       "      <td>{'('dummy',)': [0.22, 0.43, 0.47, 0.45, 0.35],...</td>\n",
       "    </tr>\n",
       "    <tr>\n",
       "      <th>1</th>\n",
       "      <td>((dummy,), (liwc, mpqa_arg, mpqa_subjobg, adu))</td>\n",
       "      <td>True</td>\n",
       "      <td>0.207749</td>\n",
       "      <td>0.845574</td>\n",
       "      <td>7.0</td>\n",
       "      <td>0.892738</td>\n",
       "      <td>False</td>\n",
       "      <td>{'('dummy',)': [0.22, 0.43, 0.47, 0.45, 0.35],...</td>\n",
       "    </tr>\n",
       "    <tr>\n",
       "      <th>2</th>\n",
       "      <td>((dummy,), (liwc, mpqa_arg, lemma))</td>\n",
       "      <td>True</td>\n",
       "      <td>0.401250</td>\n",
       "      <td>0.708748</td>\n",
       "      <td>5.0</td>\n",
       "      <td>0.500184</td>\n",
       "      <td>False</td>\n",
       "      <td>{'('dummy',)': [0.22, 0.43, 0.47, 0.45, 0.35],...</td>\n",
       "    </tr>\n",
       "    <tr>\n",
       "      <th>3</th>\n",
       "      <td>((dummy,), (mpqa_arg, mpqa_subjobg, lemma))</td>\n",
       "      <td>True</td>\n",
       "      <td>0.405668</td>\n",
       "      <td>0.705748</td>\n",
       "      <td>6.0</td>\n",
       "      <td>0.685830</td>\n",
       "      <td>False</td>\n",
       "      <td>{'('dummy',)': [0.22, 0.43, 0.47, 0.45, 0.35],...</td>\n",
       "    </tr>\n",
       "    <tr>\n",
       "      <th>4</th>\n",
       "      <td>((dummy,), (mpqa_arg, lemma))</td>\n",
       "      <td>True</td>\n",
       "      <td>0.539757</td>\n",
       "      <td>0.618010</td>\n",
       "      <td>5.0</td>\n",
       "      <td>0.500184</td>\n",
       "      <td>False</td>\n",
       "      <td>{'('dummy',)': [0.22, 0.43, 0.47, 0.45, 0.35],...</td>\n",
       "    </tr>\n",
       "    <tr>\n",
       "      <th>5</th>\n",
       "      <td>((dummy,), (liwc, mpqa_arg, adu, lemma))</td>\n",
       "      <td>True</td>\n",
       "      <td>0.419534</td>\n",
       "      <td>0.696378</td>\n",
       "      <td>5.0</td>\n",
       "      <td>0.500184</td>\n",
       "      <td>False</td>\n",
       "      <td>{'('dummy',)': [0.22, 0.43, 0.47, 0.45, 0.35],...</td>\n",
       "    </tr>\n",
       "    <tr>\n",
       "      <th>6</th>\n",
       "      <td>((dummy,), (mpqa_subjobg, lemma))</td>\n",
       "      <td>True</td>\n",
       "      <td>0.600445</td>\n",
       "      <td>0.580572</td>\n",
       "      <td>5.0</td>\n",
       "      <td>0.500184</td>\n",
       "      <td>False</td>\n",
       "      <td>{'('dummy',)': [0.22, 0.43, 0.47, 0.45, 0.35],...</td>\n",
       "    </tr>\n",
       "    <tr>\n",
       "      <th>7</th>\n",
       "      <td>((lemma,), (liwc, mpqa_arg, mpqa_subjobg, adu))</td>\n",
       "      <td>True</td>\n",
       "      <td>-0.372058</td>\n",
       "      <td>0.728722</td>\n",
       "      <td>6.0</td>\n",
       "      <td>0.685830</td>\n",
       "      <td>False</td>\n",
       "      <td>{'('lemma',)': [0.2735042735042735, 0.33333333...</td>\n",
       "    </tr>\n",
       "    <tr>\n",
       "      <th>8</th>\n",
       "      <td>((lemma,), (liwc, mpqa_arg, lemma))</td>\n",
       "      <td>True</td>\n",
       "      <td>-0.511403</td>\n",
       "      <td>0.636005</td>\n",
       "      <td>6.0</td>\n",
       "      <td>0.685830</td>\n",
       "      <td>False</td>\n",
       "      <td>{'('lemma',)': [0.2735042735042735, 0.33333333...</td>\n",
       "    </tr>\n",
       "    <tr>\n",
       "      <th>9</th>\n",
       "      <td>((lemma,), (mpqa_arg, mpqa_subjobg, lemma))</td>\n",
       "      <td>True</td>\n",
       "      <td>-0.189506</td>\n",
       "      <td>0.858924</td>\n",
       "      <td>7.0</td>\n",
       "      <td>0.892738</td>\n",
       "      <td>False</td>\n",
       "      <td>{'('lemma',)': [0.2735042735042735, 0.33333333...</td>\n",
       "    </tr>\n",
       "    <tr>\n",
       "      <th>10</th>\n",
       "      <td>((lemma,), (mpqa_arg, lemma))</td>\n",
       "      <td>True</td>\n",
       "      <td>-0.397630</td>\n",
       "      <td>0.711210</td>\n",
       "      <td>6.0</td>\n",
       "      <td>0.685830</td>\n",
       "      <td>False</td>\n",
       "      <td>{'('lemma',)': [0.2735042735042735, 0.33333333...</td>\n",
       "    </tr>\n",
       "    <tr>\n",
       "      <th>11</th>\n",
       "      <td>((lemma,), (liwc, mpqa_arg, adu, lemma))</td>\n",
       "      <td>True</td>\n",
       "      <td>-0.142565</td>\n",
       "      <td>0.893526</td>\n",
       "      <td>5.0</td>\n",
       "      <td>0.500184</td>\n",
       "      <td>False</td>\n",
       "      <td>{'('lemma',)': [0.2735042735042735, 0.33333333...</td>\n",
       "    </tr>\n",
       "    <tr>\n",
       "      <th>12</th>\n",
       "      <td>((lemma,), (mpqa_subjobg, lemma))</td>\n",
       "      <td>True</td>\n",
       "      <td>-0.607111</td>\n",
       "      <td>0.576552</td>\n",
       "      <td>5.0</td>\n",
       "      <td>0.500184</td>\n",
       "      <td>False</td>\n",
       "      <td>{'('lemma',)': [0.2735042735042735, 0.33333333...</td>\n",
       "    </tr>\n",
       "    <tr>\n",
       "      <th>13</th>\n",
       "      <td>((liwc, mpqa_arg, mpqa_subjobg, adu), (liwc, m...</td>\n",
       "      <td>True</td>\n",
       "      <td>0.203353</td>\n",
       "      <td>0.848785</td>\n",
       "      <td>7.0</td>\n",
       "      <td>0.892738</td>\n",
       "      <td>False</td>\n",
       "      <td>{'('liwc', 'mpqa_arg', 'mpqa_subjobg', 'adu')'...</td>\n",
       "    </tr>\n",
       "    <tr>\n",
       "      <th>14</th>\n",
       "      <td>((liwc, mpqa_arg, mpqa_subjobg, adu), (mpqa_ar...</td>\n",
       "      <td>True</td>\n",
       "      <td>0.256818</td>\n",
       "      <td>0.809988</td>\n",
       "      <td>6.0</td>\n",
       "      <td>0.685830</td>\n",
       "      <td>False</td>\n",
       "      <td>{'('liwc', 'mpqa_arg', 'mpqa_subjobg', 'adu')'...</td>\n",
       "    </tr>\n",
       "    <tr>\n",
       "      <th>15</th>\n",
       "      <td>((liwc, mpqa_arg, mpqa_subjobg, adu), (mpqa_ar...</td>\n",
       "      <td>True</td>\n",
       "      <td>0.300324</td>\n",
       "      <td>0.778892</td>\n",
       "      <td>6.0</td>\n",
       "      <td>0.685830</td>\n",
       "      <td>False</td>\n",
       "      <td>{'('liwc', 'mpqa_arg', 'mpqa_subjobg', 'adu')'...</td>\n",
       "    </tr>\n",
       "    <tr>\n",
       "      <th>16</th>\n",
       "      <td>((liwc, mpqa_arg, mpqa_subjobg, adu), (liwc, m...</td>\n",
       "      <td>True</td>\n",
       "      <td>0.323052</td>\n",
       "      <td>0.762839</td>\n",
       "      <td>7.0</td>\n",
       "      <td>0.892738</td>\n",
       "      <td>False</td>\n",
       "      <td>{'('liwc', 'mpqa_arg', 'mpqa_subjobg', 'adu')'...</td>\n",
       "    </tr>\n",
       "    <tr>\n",
       "      <th>17</th>\n",
       "      <td>((liwc, mpqa_arg, mpqa_subjobg, adu), (mpqa_su...</td>\n",
       "      <td>True</td>\n",
       "      <td>0.200365</td>\n",
       "      <td>0.850970</td>\n",
       "      <td>7.0</td>\n",
       "      <td>0.892738</td>\n",
       "      <td>False</td>\n",
       "      <td>{'('liwc', 'mpqa_arg', 'mpqa_subjobg', 'adu')'...</td>\n",
       "    </tr>\n",
       "    <tr>\n",
       "      <th>18</th>\n",
       "      <td>((liwc, mpqa_arg, lemma), (mpqa_arg, mpqa_subj...</td>\n",
       "      <td>True</td>\n",
       "      <td>0.232354</td>\n",
       "      <td>0.827667</td>\n",
       "      <td>6.0</td>\n",
       "      <td>0.685830</td>\n",
       "      <td>False</td>\n",
       "      <td>{'('liwc', 'mpqa_arg', 'lemma')': [0.306818181...</td>\n",
       "    </tr>\n",
       "    <tr>\n",
       "      <th>19</th>\n",
       "      <td>((liwc, mpqa_arg, lemma), (mpqa_arg, lemma))</td>\n",
       "      <td>True</td>\n",
       "      <td>0.403457</td>\n",
       "      <td>0.707249</td>\n",
       "      <td>6.0</td>\n",
       "      <td>0.685830</td>\n",
       "      <td>False</td>\n",
       "      <td>{'('liwc', 'mpqa_arg', 'lemma')': [0.306818181...</td>\n",
       "    </tr>\n",
       "    <tr>\n",
       "      <th>20</th>\n",
       "      <td>((liwc, mpqa_arg, lemma), (liwc, mpqa_arg, adu...</td>\n",
       "      <td>True</td>\n",
       "      <td>0.246159</td>\n",
       "      <td>0.817675</td>\n",
       "      <td>7.0</td>\n",
       "      <td>0.892738</td>\n",
       "      <td>False</td>\n",
       "      <td>{'('liwc', 'mpqa_arg', 'lemma')': [0.306818181...</td>\n",
       "    </tr>\n",
       "    <tr>\n",
       "      <th>21</th>\n",
       "      <td>((liwc, mpqa_arg, lemma), (mpqa_subjobg, lemma))</td>\n",
       "      <td>True</td>\n",
       "      <td>0.079671</td>\n",
       "      <td>0.940326</td>\n",
       "      <td>6.0</td>\n",
       "      <td>0.685830</td>\n",
       "      <td>False</td>\n",
       "      <td>{'('liwc', 'mpqa_arg', 'lemma')': [0.306818181...</td>\n",
       "    </tr>\n",
       "    <tr>\n",
       "      <th>22</th>\n",
       "      <td>((mpqa_arg, mpqa_subjobg, lemma), (mpqa_arg, l...</td>\n",
       "      <td>True</td>\n",
       "      <td>0.041077</td>\n",
       "      <td>0.969203</td>\n",
       "      <td>7.0</td>\n",
       "      <td>0.892738</td>\n",
       "      <td>False</td>\n",
       "      <td>{'('mpqa_arg', 'mpqa_subjobg', 'lemma')': [0.2...</td>\n",
       "    </tr>\n",
       "    <tr>\n",
       "      <th>23</th>\n",
       "      <td>((mpqa_arg, mpqa_subjobg, lemma), (liwc, mpqa_...</td>\n",
       "      <td>True</td>\n",
       "      <td>0.021168</td>\n",
       "      <td>0.984125</td>\n",
       "      <td>7.0</td>\n",
       "      <td>0.892738</td>\n",
       "      <td>False</td>\n",
       "      <td>{'('mpqa_arg', 'mpqa_subjobg', 'lemma')': [0.2...</td>\n",
       "    </tr>\n",
       "    <tr>\n",
       "      <th>24</th>\n",
       "      <td>((mpqa_arg, mpqa_subjobg, lemma), (mpqa_subjob...</td>\n",
       "      <td>True</td>\n",
       "      <td>-0.082531</td>\n",
       "      <td>0.938189</td>\n",
       "      <td>6.0</td>\n",
       "      <td>0.685830</td>\n",
       "      <td>False</td>\n",
       "      <td>{'('mpqa_arg', 'mpqa_subjobg', 'lemma')': [0.2...</td>\n",
       "    </tr>\n",
       "    <tr>\n",
       "      <th>25</th>\n",
       "      <td>((mpqa_arg, lemma), (liwc, mpqa_arg, adu, lemma))</td>\n",
       "      <td>True</td>\n",
       "      <td>-0.011051</td>\n",
       "      <td>0.991712</td>\n",
       "      <td>7.0</td>\n",
       "      <td>0.892738</td>\n",
       "      <td>False</td>\n",
       "      <td>{'('mpqa_arg', 'lemma')': [0.3158037408511792,...</td>\n",
       "    </tr>\n",
       "    <tr>\n",
       "      <th>26</th>\n",
       "      <td>((mpqa_arg, lemma), (mpqa_subjobg, lemma))</td>\n",
       "      <td>True</td>\n",
       "      <td>-0.225188</td>\n",
       "      <td>0.832870</td>\n",
       "      <td>7.0</td>\n",
       "      <td>0.892738</td>\n",
       "      <td>False</td>\n",
       "      <td>{'('mpqa_arg', 'lemma')': [0.3158037408511792,...</td>\n",
       "    </tr>\n",
       "    <tr>\n",
       "      <th>27</th>\n",
       "      <td>((liwc, mpqa_arg, adu, lemma), (mpqa_subjobg, ...</td>\n",
       "      <td>True</td>\n",
       "      <td>-0.137387</td>\n",
       "      <td>0.897363</td>\n",
       "      <td>7.0</td>\n",
       "      <td>0.892738</td>\n",
       "      <td>False</td>\n",
       "      <td>{'('liwc', 'mpqa_arg', 'adu', 'lemma')': [0.27...</td>\n",
       "    </tr>\n",
       "  </tbody>\n",
       "</table>\n",
       "</div>"
      ],
      "text/plain": [
       "                                           model_pair  is_normal      stat  \\\n",
       "0                                ((dummy,), (lemma,))       True  0.852921   \n",
       "1     ((dummy,), (liwc, mpqa_arg, mpqa_subjobg, adu))       True  0.207749   \n",
       "2                 ((dummy,), (liwc, mpqa_arg, lemma))       True  0.401250   \n",
       "3         ((dummy,), (mpqa_arg, mpqa_subjobg, lemma))       True  0.405668   \n",
       "4                       ((dummy,), (mpqa_arg, lemma))       True  0.539757   \n",
       "5            ((dummy,), (liwc, mpqa_arg, adu, lemma))       True  0.419534   \n",
       "6                   ((dummy,), (mpqa_subjobg, lemma))       True  0.600445   \n",
       "7     ((lemma,), (liwc, mpqa_arg, mpqa_subjobg, adu))       True -0.372058   \n",
       "8                 ((lemma,), (liwc, mpqa_arg, lemma))       True -0.511403   \n",
       "9         ((lemma,), (mpqa_arg, mpqa_subjobg, lemma))       True -0.189506   \n",
       "10                      ((lemma,), (mpqa_arg, lemma))       True -0.397630   \n",
       "11           ((lemma,), (liwc, mpqa_arg, adu, lemma))       True -0.142565   \n",
       "12                  ((lemma,), (mpqa_subjobg, lemma))       True -0.607111   \n",
       "13  ((liwc, mpqa_arg, mpqa_subjobg, adu), (liwc, m...       True  0.203353   \n",
       "14  ((liwc, mpqa_arg, mpqa_subjobg, adu), (mpqa_ar...       True  0.256818   \n",
       "15  ((liwc, mpqa_arg, mpqa_subjobg, adu), (mpqa_ar...       True  0.300324   \n",
       "16  ((liwc, mpqa_arg, mpqa_subjobg, adu), (liwc, m...       True  0.323052   \n",
       "17  ((liwc, mpqa_arg, mpqa_subjobg, adu), (mpqa_su...       True  0.200365   \n",
       "18  ((liwc, mpqa_arg, lemma), (mpqa_arg, mpqa_subj...       True  0.232354   \n",
       "19       ((liwc, mpqa_arg, lemma), (mpqa_arg, lemma))       True  0.403457   \n",
       "20  ((liwc, mpqa_arg, lemma), (liwc, mpqa_arg, adu...       True  0.246159   \n",
       "21   ((liwc, mpqa_arg, lemma), (mpqa_subjobg, lemma))       True  0.079671   \n",
       "22  ((mpqa_arg, mpqa_subjobg, lemma), (mpqa_arg, l...       True  0.041077   \n",
       "23  ((mpqa_arg, mpqa_subjobg, lemma), (liwc, mpqa_...       True  0.021168   \n",
       "24  ((mpqa_arg, mpqa_subjobg, lemma), (mpqa_subjob...       True -0.082531   \n",
       "25  ((mpqa_arg, lemma), (liwc, mpqa_arg, adu, lemma))       True -0.011051   \n",
       "26         ((mpqa_arg, lemma), (mpqa_subjobg, lemma))       True -0.225188   \n",
       "27  ((liwc, mpqa_arg, adu, lemma), (mpqa_subjobg, ...       True -0.137387   \n",
       "\n",
       "       p_val  wilk_stat  wilk_p_val  significant  \\\n",
       "0   0.441765        4.0    0.345231        False   \n",
       "1   0.845574        7.0    0.892738        False   \n",
       "2   0.708748        5.0    0.500184        False   \n",
       "3   0.705748        6.0    0.685830        False   \n",
       "4   0.618010        5.0    0.500184        False   \n",
       "5   0.696378        5.0    0.500184        False   \n",
       "6   0.580572        5.0    0.500184        False   \n",
       "7   0.728722        6.0    0.685830        False   \n",
       "8   0.636005        6.0    0.685830        False   \n",
       "9   0.858924        7.0    0.892738        False   \n",
       "10  0.711210        6.0    0.685830        False   \n",
       "11  0.893526        5.0    0.500184        False   \n",
       "12  0.576552        5.0    0.500184        False   \n",
       "13  0.848785        7.0    0.892738        False   \n",
       "14  0.809988        6.0    0.685830        False   \n",
       "15  0.778892        6.0    0.685830        False   \n",
       "16  0.762839        7.0    0.892738        False   \n",
       "17  0.850970        7.0    0.892738        False   \n",
       "18  0.827667        6.0    0.685830        False   \n",
       "19  0.707249        6.0    0.685830        False   \n",
       "20  0.817675        7.0    0.892738        False   \n",
       "21  0.940326        6.0    0.685830        False   \n",
       "22  0.969203        7.0    0.892738        False   \n",
       "23  0.984125        7.0    0.892738        False   \n",
       "24  0.938189        6.0    0.685830        False   \n",
       "25  0.991712        7.0    0.892738        False   \n",
       "26  0.832870        7.0    0.892738        False   \n",
       "27  0.897363        7.0    0.892738        False   \n",
       "\n",
       "                                                 data  \n",
       "0   {'('dummy',)': [0.22, 0.43, 0.47, 0.45, 0.35],...  \n",
       "1   {'('dummy',)': [0.22, 0.43, 0.47, 0.45, 0.35],...  \n",
       "2   {'('dummy',)': [0.22, 0.43, 0.47, 0.45, 0.35],...  \n",
       "3   {'('dummy',)': [0.22, 0.43, 0.47, 0.45, 0.35],...  \n",
       "4   {'('dummy',)': [0.22, 0.43, 0.47, 0.45, 0.35],...  \n",
       "5   {'('dummy',)': [0.22, 0.43, 0.47, 0.45, 0.35],...  \n",
       "6   {'('dummy',)': [0.22, 0.43, 0.47, 0.45, 0.35],...  \n",
       "7   {'('lemma',)': [0.2735042735042735, 0.33333333...  \n",
       "8   {'('lemma',)': [0.2735042735042735, 0.33333333...  \n",
       "9   {'('lemma',)': [0.2735042735042735, 0.33333333...  \n",
       "10  {'('lemma',)': [0.2735042735042735, 0.33333333...  \n",
       "11  {'('lemma',)': [0.2735042735042735, 0.33333333...  \n",
       "12  {'('lemma',)': [0.2735042735042735, 0.33333333...  \n",
       "13  {'('liwc', 'mpqa_arg', 'mpqa_subjobg', 'adu')'...  \n",
       "14  {'('liwc', 'mpqa_arg', 'mpqa_subjobg', 'adu')'...  \n",
       "15  {'('liwc', 'mpqa_arg', 'mpqa_subjobg', 'adu')'...  \n",
       "16  {'('liwc', 'mpqa_arg', 'mpqa_subjobg', 'adu')'...  \n",
       "17  {'('liwc', 'mpqa_arg', 'mpqa_subjobg', 'adu')'...  \n",
       "18  {'('liwc', 'mpqa_arg', 'lemma')': [0.306818181...  \n",
       "19  {'('liwc', 'mpqa_arg', 'lemma')': [0.306818181...  \n",
       "20  {'('liwc', 'mpqa_arg', 'lemma')': [0.306818181...  \n",
       "21  {'('liwc', 'mpqa_arg', 'lemma')': [0.306818181...  \n",
       "22  {'('mpqa_arg', 'mpqa_subjobg', 'lemma')': [0.2...  \n",
       "23  {'('mpqa_arg', 'mpqa_subjobg', 'lemma')': [0.2...  \n",
       "24  {'('mpqa_arg', 'mpqa_subjobg', 'lemma')': [0.2...  \n",
       "25  {'('mpqa_arg', 'lemma')': [0.3158037408511792,...  \n",
       "26  {'('mpqa_arg', 'lemma')': [0.3158037408511792,...  \n",
       "27  {'('liwc', 'mpqa_arg', 'adu', 'lemma')': [0.27...  "
      ]
     },
     "execution_count": 15,
     "metadata": {},
     "output_type": "execute_result"
    }
   ],
   "source": [
    "low_cross_models_sqrt_df"
   ]
  },
  {
   "cell_type": "code",
   "execution_count": null,
   "metadata": {},
   "outputs": [],
   "source": [
    "PATH_RESULT= '../out/style_content_models_results/{}_HAL_experiments_{}_{}_{}_majority.csv'\n",
    "\n",
    "#singles_low, low_res = cross.get_top_features_from_path(PATH_RESULT.format(trait,'sqrt',trait, 'low'))\n",
    "#singles_avg, avg_res = cross.get_top_features_from_path(PATH_RESULT.format(trait,'sqrt',trait, 'average'))\n",
    "singles_high, high_res = cross.get_top_features_from_path(PATH_RESULT.format(trait,'sqrt',trait, 'high'))\n",
    "\n"
   ]
  },
  {
   "cell_type": "code",
   "execution_count": null,
   "metadata": {},
   "outputs": [],
   "source": [
    "low_res['content+style'][['features','macro', 'ideology']]\n",
    "low_res['style'][['features','macro', 'ideology']]\n",
    "\n",
    "low_res['content'][['features','macro', 'ideology']]\n",
    "#singles_low[(singles_low['single'] == True )& (singles_low['type'] == 'style')][['features','macro', 'ideology']]"
   ]
  },
  {
   "cell_type": "code",
   "execution_count": null,
   "metadata": {},
   "outputs": [],
   "source": [
    "#avg_res['content+style'][['features','macro', 'ideology']]\n",
    "#avg_res['style'][['features','macro', 'ideology']]\n",
    "#avg_res['content'][['features','macro', 'ideology']]\n",
    "singles_avg[(singles_avg['single'] == True )& (singles_avg['type'] == 'style')][['features','macro', 'ideology']]"
   ]
  },
  {
   "cell_type": "code",
   "execution_count": null,
   "metadata": {},
   "outputs": [],
   "source": [
    "high_res['content+style'][['features','macro', 'ideology']]\n",
    "#high_res['style'][['features','macro', 'ideology']]\n",
    "#high_res['content'][['features','macro', 'ideology']]\n",
    "#singles_high[(singles_high['single'] == True )& (singles_high['type'] == 'style')][['features','macro', 'ideology']]"
   ]
  },
  {
   "cell_type": "code",
   "execution_count": null,
   "metadata": {},
   "outputs": [],
   "source": []
  }
 ],
 "metadata": {
  "kernelspec": {
   "display_name": "Python 3",
   "language": "python",
   "name": "python3"
  },
  "language_info": {
   "codemirror_mode": {
    "name": "ipython",
    "version": 3
   },
   "file_extension": ".py",
   "mimetype": "text/x-python",
   "name": "python",
   "nbconvert_exporter": "python",
   "pygments_lexer": "ipython3",
   "version": "3.7.3"
  }
 },
 "nbformat": 4,
 "nbformat_minor": 4
}
