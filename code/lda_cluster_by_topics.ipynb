{
 "cells": [
  {
   "cell_type": "code",
   "execution_count": 21,
   "metadata": {},
   "outputs": [
    {
     "name": "stdout",
     "output_type": "stream",
     "text": [
      "C:\\Users\\elba_ro\\Documents\\projects\\nlpcss2020-editorials-analysis\n"
     ]
    },
    {
     "name": "stderr",
     "output_type": "stream",
     "text": [
      "[nltk_data] Downloading package wordnet to\n",
      "[nltk_data]     C:\\Users\\elba_ro\\AppData\\Roaming\\nltk_data...\n",
      "[nltk_data]   Package wordnet is already up-to-date!\n"
     ]
    }
   ],
   "source": [
    "import pandas as pd\n",
    "from collections import Counter\n",
    "from langdetect import detect\n",
    "import langdetect\n",
    "import numpy as np\n",
    "import importlib\n",
    "import os\n",
    "current_dir = os.getcwd()\n",
    "%cd ..\n",
    "import textmining.text_miner \n",
    "import textmining.topic_modeler as tm\n",
    "\n",
    "importlib.reload(textmining.text_miner)\n",
    "importlib.reload(textmining.topic_modeler)\n",
    "os.chdir(current_dir)\n",
    "\n",
    "%matplotlib inline\n",
    "\n",
    "import matplotlib\n",
    "import matplotlib.pyplot as plt"
   ]
  },
  {
   "cell_type": "code",
   "execution_count": 22,
   "metadata": {},
   "outputs": [
    {
     "name": "stderr",
     "output_type": "stream",
     "text": [
      "[nltk_data] Downloading package stopwords to\n",
      "[nltk_data]     C:\\Users\\elba_ro\\AppData\\Roaming\\nltk_data...\n",
      "[nltk_data]   Package stopwords is already up-to-date!\n",
      "[nltk_data] Downloading package punkt to\n",
      "[nltk_data]     C:\\Users\\elba_ro\\AppData\\Roaming\\nltk_data...\n",
      "[nltk_data]   Package punkt is already up-to-date!\n",
      "[nltk_data] Downloading package averaged_perceptron_tagger to\n",
      "[nltk_data]     C:\\Users\\elba_ro\\AppData\\Roaming\\nltk_data...\n",
      "[nltk_data]   Package averaged_perceptron_tagger is already up-to-\n",
      "[nltk_data]       date!\n"
     ]
    }
   ],
   "source": [
    "data = pd.read_json('../data/articles_with_adu_liwc_lexicons_content.json', orient='records')\n",
    "data.set_index('idx', inplace=True)\n",
    "\n",
    "\n",
    "stop_words_extension = ['editor', 'editorial', 'mr']\n",
    "\n",
    "mallet_lda_modeler = tm.topic_modeler(data['content'].values.tolist(),\n",
    "                               stopwords_extension= stop_words_extension)"
   ]
  },
  {
   "cell_type": "markdown",
   "metadata": {},
   "source": [
    "## Plotting cohenrence for each K topics"
   ]
  },
  {
   "cell_type": "code",
   "execution_count": 23,
   "metadata": {},
   "outputs": [],
   "source": [
    "start= 18#125## 85 # 45\n",
    "step=1\n",
    "limit=19 # not included\n"
   ]
  },
  {
   "cell_type": "code",
   "execution_count": 24,
   "metadata": {},
   "outputs": [
    {
     "name": "stdout",
     "output_type": "stream",
     "text": [
      "removing stop words...\n",
      "end removing stop words.\n",
      "calling lemmatizing:\n",
      "lemmatization...\n",
      "end of lemmatization.\n",
      "Initializing the corpus after lemmatization\n",
      "training on BOW\n",
      "18 :    -    coherence: 0.523346385997832\n",
      "optimal model has a coherence value of  0.52  and # topics:  18\n"
     ]
    },
    {
     "data": {
      "image/png": "[encoded data removed]",
      "text/plain": [
       "<Figure size 432x288 with 1 Axes>"
      ]
     },
     "metadata": {
      "needs_background": "light"
     },
     "output_type": "display_data"
    }
   ],
   "source": [
    "_, coherence_values = mallet_lda_modeler.compute_coherence_values(limit, start=start, step=step, model_type='mallet')\n"
   ]
  },
  {
   "cell_type": "code",
   "execution_count": 25,
   "metadata": {},
   "outputs": [
    {
     "name": "stdout",
     "output_type": "stream",
     "text": [
      "best model has 18 topics\n"
     ]
    }
   ],
   "source": [
    "## Saving results \n",
    "n = mallet_lda_modeler.num_topics\n",
    "print('best model has {} topics'.format(n))\n",
    "\n",
    "coherence_vals_df =  pd.DataFrame({'Number of Topics':range(start, limit, step), 'Coherence Value':coherence_values} )\n",
    "#coherence_vals_df.to_csv('../out/feature_extraction/lda/ldamallet_coherence_values_{}_{}.csv'.format(start, (limit-1)))"
   ]
  },
  {
   "cell_type": "code",
   "execution_count": 26,
   "metadata": {},
   "outputs": [],
   "source": [
    "def save_model_info(modeler):\n",
    "    n = modeler.num_topics\n",
    "    print('get_doc_dominant_topic')\n",
    "    lda_readable_document_topics_df =  modeler.get_doc_dominant_topic(save_path= \"../out/feature_extraction/lda/ldamallet_readable_document_topics_{}.csv\".format(n))\n",
    "    \n",
    "    print('get_topics_terms')\n",
    "    lda_topic_words_df = modeler.get_topics_terms(save_path= \"../out/feature_extraction/lda/ldamallet_topic_words_{}.csv\".format(n))\n",
    "    \n",
    "    print('get_doc_topic_matrix')\n",
    "    lda_document_topics_df =  modeler.get_doc_topic_matrix(save_path= \"../out/feature_extraction/lda/ldamallet_document_topics_{}.csv\".format(n))\n",
    "    \n",
    "    return lda_readable_document_topics_df, lda_topic_words_df, lda_document_topics_df"
   ]
  },
  {
   "cell_type": "code",
   "execution_count": 27,
   "metadata": {},
   "outputs": [
    {
     "name": "stdout",
     "output_type": "stream",
     "text": [
      "get_doc_dominant_topic\n",
      "get_topics_terms\n",
      "get_doc_topic_matrix\n"
     ]
    }
   ],
   "source": [
    "lda_readable_document_topics_df, lda_topic_words_df, lda_document_topics_df = save_model_info(mallet_lda_modeler)"
   ]
  },
  {
   "cell_type": "code",
   "execution_count": 31,
   "metadata": {},
   "outputs": [
    {
     "data": {
      "text/html": [
       "<div>\n",
       "<style scoped>\n",
       "    .dataframe tbody tr th:only-of-type {\n",
       "        vertical-align: middle;\n",
       "    }\n",
       "\n",
       "    .dataframe tbody tr th {\n",
       "        vertical-align: top;\n",
       "    }\n",
       "\n",
       "    .dataframe thead th {\n",
       "        text-align: right;\n",
       "    }\n",
       "</style>\n",
       "<table border=\"1\" class=\"dataframe\">\n",
       "  <thead>\n",
       "    <tr style=\"text-align: right;\">\n",
       "      <th></th>\n",
       "      <th>dominant_topic</th>\n",
       "      <th>perc_contribution</th>\n",
       "      <th>topic_keywords</th>\n",
       "      <th>content</th>\n",
       "    </tr>\n",
       "  </thead>\n",
       "  <tbody>\n",
       "    <tr>\n",
       "      <th>0</th>\n",
       "      <td>11.0</td>\n",
       "      <td>0.3577</td>\n",
       "      <td>long, county, island, people, project, land, l...</td>\n",
       "      <td>''The familiar and the fancy are combined to s...</td>\n",
       "    </tr>\n",
       "    <tr>\n",
       "      <th>1</th>\n",
       "      <td>16.0</td>\n",
       "      <td>0.3150</td>\n",
       "      <td>state, year, pay, jersey, time, long, make, lo...</td>\n",
       "      <td>A $141,000 salary seems generous, but for judg...</td>\n",
       "    </tr>\n",
       "    <tr>\n",
       "      <th>2</th>\n",
       "      <td>12.0</td>\n",
       "      <td>0.2788</td>\n",
       "      <td>city, million, plan, space, mayor, bloomberg, ...</td>\n",
       "      <td>A State Supreme Court judge yesterday removed ...</td>\n",
       "    </tr>\n",
       "    <tr>\n",
       "      <th>3</th>\n",
       "      <td>11.0</td>\n",
       "      <td>0.3333</td>\n",
       "      <td>long, county, island, people, project, land, l...</td>\n",
       "      <td>A battle between Yonkers and its neighbors ove...</td>\n",
       "    </tr>\n",
       "    <tr>\n",
       "      <th>4</th>\n",
       "      <td>2.0</td>\n",
       "      <td>0.2073</td>\n",
       "      <td>drug, health, report, study, year, medical, tr...</td>\n",
       "      <td>A bill headed for a vote in the Senate would u...</td>\n",
       "    </tr>\n",
       "    <tr>\n",
       "      <th>...</th>\n",
       "      <td>...</td>\n",
       "      <td>...</td>\n",
       "      <td>...</td>\n",
       "      <td>...</td>\n",
       "    </tr>\n",
       "    <tr>\n",
       "      <th>974</th>\n",
       "      <td>0.0</td>\n",
       "      <td>0.4204</td>\n",
       "      <td>united, country, states, world, nuclear, progr...</td>\n",
       "      <td>Yesterday, Unocal shareholders agreed to be bo...</td>\n",
       "    </tr>\n",
       "    <tr>\n",
       "      <th>975</th>\n",
       "      <td>14.0</td>\n",
       "      <td>0.3467</td>\n",
       "      <td>iraq, american, war, military, force, iraqi, g...</td>\n",
       "      <td>Yesterday, the bloc of Shiite parties that won...</td>\n",
       "    </tr>\n",
       "    <tr>\n",
       "      <th>976</th>\n",
       "      <td>5.0</td>\n",
       "      <td>0.2889</td>\n",
       "      <td>work, people, worker, police, day, immigration...</td>\n",
       "      <td>You cannot abuse people through selective enfo...</td>\n",
       "    </tr>\n",
       "    <tr>\n",
       "      <th>977</th>\n",
       "      <td>12.0</td>\n",
       "      <td>0.2331</td>\n",
       "      <td>city, million, plan, space, mayor, bloomberg, ...</td>\n",
       "      <td>You don't have to be a space or climate expert...</td>\n",
       "    </tr>\n",
       "    <tr>\n",
       "      <th>978</th>\n",
       "      <td>14.0</td>\n",
       "      <td>0.4413</td>\n",
       "      <td>iraq, american, war, military, force, iraqi, g...</td>\n",
       "      <td>Zalmay Khalilzad, America's new ambassador to ...</td>\n",
       "    </tr>\n",
       "  </tbody>\n",
       "</table>\n",
       "<p>979 rows × 4 columns</p>\n",
       "</div>"
      ],
      "text/plain": [
       "     dominant_topic  perc_contribution  \\\n",
       "0              11.0             0.3577   \n",
       "1              16.0             0.3150   \n",
       "2              12.0             0.2788   \n",
       "3              11.0             0.3333   \n",
       "4               2.0             0.2073   \n",
       "..              ...                ...   \n",
       "974             0.0             0.4204   \n",
       "975            14.0             0.3467   \n",
       "976             5.0             0.2889   \n",
       "977            12.0             0.2331   \n",
       "978            14.0             0.4413   \n",
       "\n",
       "                                        topic_keywords  \\\n",
       "0    long, county, island, people, project, land, l...   \n",
       "1    state, year, pay, jersey, time, long, make, lo...   \n",
       "2    city, million, plan, space, mayor, bloomberg, ...   \n",
       "3    long, county, island, people, project, land, l...   \n",
       "4    drug, health, report, study, year, medical, tr...   \n",
       "..                                                 ...   \n",
       "974  united, country, states, world, nuclear, progr...   \n",
       "975  iraq, american, war, military, force, iraqi, g...   \n",
       "976  work, people, worker, police, day, immigration...   \n",
       "977  city, million, plan, space, mayor, bloomberg, ...   \n",
       "978  iraq, american, war, military, force, iraqi, g...   \n",
       "\n",
       "                                               content  \n",
       "0    ''The familiar and the fancy are combined to s...  \n",
       "1    A $141,000 salary seems generous, but for judg...  \n",
       "2    A State Supreme Court judge yesterday removed ...  \n",
       "3    A battle between Yonkers and its neighbors ove...  \n",
       "4    A bill headed for a vote in the Senate would u...  \n",
       "..                                                 ...  \n",
       "974  Yesterday, Unocal shareholders agreed to be bo...  \n",
       "975  Yesterday, the bloc of Shiite parties that won...  \n",
       "976  You cannot abuse people through selective enfo...  \n",
       "977  You don't have to be a space or climate expert...  \n",
       "978  Zalmay Khalilzad, America's new ambassador to ...  \n",
       "\n",
       "[979 rows x 4 columns]"
      ]
     },
     "execution_count": 31,
     "metadata": {},
     "output_type": "execute_result"
    }
   ],
   "source": [
    "lda_readable_document_topics_df.head()\n",
    "lda_readable_document_topics_df.columns = ['dominant_topic', 'perc_contribution', 'topic_keywords', 'content']\n",
    "lda_readable_document_topics_df"
   ]
  },
  {
   "cell_type": "code",
   "execution_count": 56,
   "metadata": {},
   "outputs": [],
   "source": [
    "#data_w_topic[data_w_topic['dominant_topic'] == 7][['content']].to_csv('../out/topic_7_content_trade.csv')\n",
    "#data_w_topic[data_w_topic['dominant_topic'] == 5][['content']].to_csv('../out/topic_5_imm.csv')"
   ]
  },
  {
   "cell_type": "code",
   "execution_count": 36,
   "metadata": {},
   "outputs": [],
   "source": [
    "\n",
    "\n",
    "def _add_topics_to_orig(row, doc_topic_df):\n",
    "    content = row['content']\n",
    "    found = False\n",
    "    for i, r in doc_topic_df.iterrows():\n",
    "        if r['content'] == content:\n",
    "            found = True\n",
    "            cols =  ['dominant_topic', 'perc_contribution', 'topic_keywords']\n",
    "            for c in cols :\n",
    "                row[c] = r[c]\n",
    "            break\n",
    "    if not found:\n",
    "        print('not found for ', row.name)\n",
    "    return row\n",
    "\n",
    "data_w_topic = data.apply(_add_topics_to_orig, args=(lda_readable_document_topics_df,)\n",
    "                          ,axis=1)"
   ]
  },
  {
   "cell_type": "code",
   "execution_count": 42,
   "metadata": {},
   "outputs": [
    {
     "data": {
      "text/plain": [
       "Index(['adu_anecdote', 'adu_other', 'adu_statistics', 'adu_testimony',\n",
       "       'conservative_majority', 'content', 'ids', 'liberal_majority',\n",
       "       'mpqa_arg_assessments', 'mpqa_arg_authority',\n",
       "       ...\n",
       "       'lemma3_world trade center', 'lemma3_world trade organ',\n",
       "       'lemma3_year presid bush', 'lemma3_york public research',\n",
       "       'lemma3_york state budget', 'lemma3_york state capitol',\n",
       "       'lemma3_york state legislatur', 'dominant_topic', 'perc_contribution',\n",
       "       'topic_keywords'],\n",
       "      dtype='object', length=437)"
      ]
     },
     "execution_count": 42,
     "metadata": {},
     "output_type": "execute_result"
    }
   ],
   "source": [
    "data_w_topic.columns"
   ]
  },
  {
   "cell_type": "code",
   "execution_count": 50,
   "metadata": {},
   "outputs": [],
   "source": [
    "def _add_str_topiid(row):\n",
    "    row['id_topic_words'] = str(row['dominant_topic'])+ ': ' + row['topic_keywords']\n",
    "    return row\n",
    "data_w_topic = data_w_topic.apply(_add_str_topiid, axis=1)\n"
   ]
  },
  {
   "cell_type": "code",
   "execution_count": 61,
   "metadata": {},
   "outputs": [],
   "source": [
    "grouping_topics = {'state': [1,12,11,9,16],\n",
    "                  'global': [0,7,10,14], #'national':[]}\n",
    "                  }\n",
    "\n",
    "def _add_topic_group(row):\n",
    "    group = 'national'\n",
    "    row['topic_group']= 'state' if row['dominant_topic'] in grouping_topics['state'] else (\n",
    "    'global' if row['dominant_topic'] in grouping_topics['global'] else 'national')\n",
    "\n",
    "    return row\n",
    "data_w_topic = data_w_topic.apply(_add_topic_group, axis=1)\n"
   ]
  },
  {
   "cell_type": "code",
   "execution_count": 65,
   "metadata": {},
   "outputs": [
    {
     "data": {
      "text/plain": [
       "national    475\n",
       "state       277\n",
       "global      227\n",
       "Name: topic_group, dtype: int64"
      ]
     },
     "execution_count": 65,
     "metadata": {},
     "output_type": "execute_result"
    }
   ],
   "source": [
    "data_w_topic['topic_group'].value_counts()"
   ]
  },
  {
   "cell_type": "code",
   "execution_count": 64,
   "metadata": {},
   "outputs": [
    {
     "data": {
      "text/plain": [
       "array([ 2.,  8.,  5.,  6.,  4., 17., 13.,  3., 15.])"
      ]
     },
     "execution_count": 64,
     "metadata": {},
     "output_type": "execute_result"
    }
   ],
   "source": [
    "data_w_topic[data_w_topic['topic_group'] == 'national']['dominant_topic'].unique()"
   ]
  },
  {
   "cell_type": "code",
   "execution_count": 68,
   "metadata": {},
   "outputs": [],
   "source": [
    "data_w_topic[['topic_group', 'dominant_topic']].to_csv('../out/editorials_topic_w_group.csv')"
   ]
  },
  {
   "cell_type": "code",
   "execution_count": 70,
   "metadata": {},
   "outputs": [
    {
     "data": {
      "text/html": [
       "<div>\n",
       "<style scoped>\n",
       "    .dataframe tbody tr th:only-of-type {\n",
       "        vertical-align: middle;\n",
       "    }\n",
       "\n",
       "    .dataframe tbody tr th {\n",
       "        vertical-align: top;\n",
       "    }\n",
       "\n",
       "    .dataframe thead th {\n",
       "        text-align: right;\n",
       "    }\n",
       "</style>\n",
       "<table border=\"1\" class=\"dataframe\">\n",
       "  <thead>\n",
       "    <tr style=\"text-align: right;\">\n",
       "      <th></th>\n",
       "      <th>topic_group</th>\n",
       "      <th>dominant_topic</th>\n",
       "    </tr>\n",
       "    <tr>\n",
       "      <th>idx</th>\n",
       "      <th></th>\n",
       "      <th></th>\n",
       "    </tr>\n",
       "  </thead>\n",
       "  <tbody>\n",
       "    <tr>\n",
       "      <th>1851784</th>\n",
       "      <td>state</td>\n",
       "      <td>11.0</td>\n",
       "    </tr>\n",
       "    <tr>\n",
       "      <th>1845399</th>\n",
       "      <td>state</td>\n",
       "      <td>16.0</td>\n",
       "    </tr>\n",
       "    <tr>\n",
       "      <th>1677322</th>\n",
       "      <td>state</td>\n",
       "      <td>12.0</td>\n",
       "    </tr>\n",
       "    <tr>\n",
       "      <th>1818732</th>\n",
       "      <td>state</td>\n",
       "      <td>11.0</td>\n",
       "    </tr>\n",
       "    <tr>\n",
       "      <th>1844646</th>\n",
       "      <td>national</td>\n",
       "      <td>2.0</td>\n",
       "    </tr>\n",
       "    <tr>\n",
       "      <th>...</th>\n",
       "      <td>...</td>\n",
       "      <td>...</td>\n",
       "    </tr>\n",
       "    <tr>\n",
       "      <th>1693956</th>\n",
       "      <td>global</td>\n",
       "      <td>0.0</td>\n",
       "    </tr>\n",
       "    <tr>\n",
       "      <th>1652153</th>\n",
       "      <td>global</td>\n",
       "      <td>14.0</td>\n",
       "    </tr>\n",
       "    <tr>\n",
       "      <th>1806988</th>\n",
       "      <td>national</td>\n",
       "      <td>5.0</td>\n",
       "    </tr>\n",
       "    <tr>\n",
       "      <th>1820483</th>\n",
       "      <td>state</td>\n",
       "      <td>12.0</td>\n",
       "    </tr>\n",
       "    <tr>\n",
       "      <th>1691684</th>\n",
       "      <td>global</td>\n",
       "      <td>14.0</td>\n",
       "    </tr>\n",
       "  </tbody>\n",
       "</table>\n",
       "<p>979 rows × 2 columns</p>\n",
       "</div>"
      ],
      "text/plain": [
       "        topic_group  dominant_topic\n",
       "idx                                \n",
       "1851784       state            11.0\n",
       "1845399       state            16.0\n",
       "1677322       state            12.0\n",
       "1818732       state            11.0\n",
       "1844646    national             2.0\n",
       "...             ...             ...\n",
       "1693956      global             0.0\n",
       "1652153      global            14.0\n",
       "1806988    national             5.0\n",
       "1820483       state            12.0\n",
       "1691684      global            14.0\n",
       "\n",
       "[979 rows x 2 columns]"
      ]
     },
     "execution_count": 70,
     "metadata": {},
     "output_type": "execute_result"
    }
   ],
   "source": [
    "pd.read_csv('../out/editorials_topic_w_group.csv').set_index('idx')"
   ]
  },
  {
   "cell_type": "markdown",
   "metadata": {},
   "source": [
    "## Topics Exploration"
   ]
  },
  {
   "cell_type": "markdown",
   "metadata": {},
   "source": [
    "#### Topics Keywords"
   ]
  },
  {
   "cell_type": "code",
   "execution_count": 8,
   "metadata": {},
   "outputs": [
    {
     "data": {
      "text/plain": [
       "[(0,\n",
       "  [('united', 0.03685569304727143),\n",
       "   ('country', 0.03187038191044245),\n",
       "   ('states', 0.024214368378883647),\n",
       "   ('world', 0.02287901718151874),\n",
       "   ('nuclear', 0.019229057242054662),\n",
       "   ('program', 0.013887652452595033),\n",
       "   ('weapon', 0.013887652452595033),\n",
       "   ('china', 0.01362058221312205),\n",
       "   ('international', 0.012997418321018427),\n",
       "   ('iran', 0.012107184189441823)]),\n",
       " (1,\n",
       "  [('state', 0.044611280014891105),\n",
       "   ('york', 0.03269839300117888),\n",
       "   ('public', 0.022150524291121177),\n",
       "   ('governor', 0.02184029285847242),\n",
       "   ('reform', 0.021405968852764162),\n",
       "   ('spitzer', 0.019854811689520382),\n",
       "   ('albany', 0.017993423093627847),\n",
       "   ('legislator', 0.01557361791896755),\n",
       "   ('money', 0.014270645901842774),\n",
       "   ('campaign', 0.013215859030837005)]),\n",
       " (2,\n",
       "  [('drug', 0.0211118930330753),\n",
       "   ('health', 0.014250527797325828),\n",
       "   ('report', 0.013546798029556651),\n",
       "   ('study', 0.012403237156931738),\n",
       "   ('year', 0.012227304714989444),\n",
       "   ('medical', 0.010380014074595356),\n",
       "   ('treatment', 0.01020408163265306),\n",
       "   ('find', 0.00994018296973962),\n",
       "   ('agency', 0.00967628430682618),\n",
       "   ('patient', 0.009236453201970444)]),\n",
       " (3,\n",
       "  [('bush', 0.08178156114615794),\n",
       "   ('president', 0.04613513718932887),\n",
       "   ('administration', 0.04499505966405715),\n",
       "   ('policy', 0.019229307592916318),\n",
       "   ('security', 0.0180892300676446),\n",
       "   ('national', 0.015657064680398267),\n",
       "   ('congress', 0.015277038838641028),\n",
       "   ('white_house', 0.013148894124800487),\n",
       "   ('americans', 0.0126928631146918),\n",
       "   ('nation', 0.01223683210458311)]),\n",
       " (4,\n",
       "  [('official', 0.02540650406504065),\n",
       "   ('department', 0.017699864498644986),\n",
       "   ('public', 0.016937669376693765),\n",
       "   ('report', 0.013719512195121951),\n",
       "   ('case', 0.012449186991869919),\n",
       "   ('question', 0.011348238482384823),\n",
       "   ('office', 0.009993224932249323),\n",
       "   ('ms', 0.009400406504065041),\n",
       "   ('fire', 0.009231029810298103),\n",
       "   ('government', 0.009061653116531166)]),\n",
       " (5,\n",
       "  [('work', 0.020488920154766093),\n",
       "   ('people', 0.01952163207879001),\n",
       "   ('worker', 0.016707703130495955),\n",
       "   ('police', 0.013542033063665143),\n",
       "   ('day', 0.01266268026732325),\n",
       "   ('immigration', 0.012486809708054871),\n",
       "   ('immigrant', 0.010024621878297573),\n",
       "   ('year', 0.010024621878297573),\n",
       "   ('man', 0.009584945480126627),\n",
       "   ('-PRON-', 0.00923320436158987)]),\n",
       " (6,\n",
       "  [('court', 0.03702586531935752),\n",
       "   ('law', 0.03393409245154966),\n",
       "   ('judge', 0.02277354648970666),\n",
       "   ('case', 0.018022773546489707),\n",
       "   ('rule', 0.017721137169142597),\n",
       "   ('justice', 0.01643918256541739),\n",
       "   ('legal', 0.014101500640977302),\n",
       "   ('prison', 0.013347409697609532),\n",
       "   ('supreme_court', 0.012065455093884323),\n",
       "   ('decision', 0.010180227735464897)]),\n",
       " (7,\n",
       "  [('trade', 0.016244154565591928),\n",
       "   ('price', 0.0159159898268931),\n",
       "   ('company', 0.015669866272868982),\n",
       "   ('market', 0.0134547542866519),\n",
       "   ('high', 0.011895971777832472),\n",
       "   ('job', 0.011403724669784232),\n",
       "   ('year', 0.009844942160964805),\n",
       "   ('economic', 0.009844942160964805),\n",
       "   ('american', 0.009598818606940684),\n",
       "   ('economy', 0.009188612683567151)]),\n",
       " (8,\n",
       "  [('bill', 0.06113867630981414),\n",
       "   ('senate', 0.03532083088049785),\n",
       "   ('house', 0.023379026154234296),\n",
       "   ('congress', 0.021612984610209402),\n",
       "   ('pass', 0.021192498528298714),\n",
       "   ('senator', 0.019005970902363133),\n",
       "   ('law', 0.017071734925573963),\n",
       "   ('measure', 0.015221596165166933),\n",
       "   ('committee', 0.013876040703052728),\n",
       "   ('support', 0.011100832562442183)]),\n",
       " (9,\n",
       "  [('school', 0.03915305284293146),\n",
       "   ('child', 0.019439627635301635),\n",
       "   ('high', 0.018800766633202518),\n",
       "   ('state', 0.01761431048644702),\n",
       "   ('student', 0.015880259195035138),\n",
       "   ('education', 0.012503422469654102),\n",
       "   ('make', 0.01076937117824222),\n",
       "   ('find', 0.00958291503148672),\n",
       "   ('problem', 0.00930911745915853),\n",
       "   ('work', 0.009217851601715798)]),\n",
       " (10,\n",
       "  [('israel', 0.015942028985507246),\n",
       "   ('talk', 0.011980676328502415),\n",
       "   ('government', 0.010144927536231883),\n",
       "   ('palestinian', 0.009855072463768115),\n",
       "   ('political', 0.009082125603864734),\n",
       "   ('peace', 0.008599033816425121),\n",
       "   ('hope', 0.008502415458937198),\n",
       "   ('long', 0.008405797101449276),\n",
       "   ('step', 0.008019323671497585),\n",
       "   ('leader', 0.00782608695652174)]),\n",
       " (11,\n",
       "  [('long', 0.03418580375782881),\n",
       "   ('county', 0.02383437717466945),\n",
       "   ('island', 0.019137091162143353),\n",
       "   ('people', 0.011917188587334725),\n",
       "   ('project', 0.01069937369519833),\n",
       "   ('land', 0.009568545581071676),\n",
       "   ('live', 0.00861169102296451),\n",
       "   ('thing', 0.007741823242867084),\n",
       "   ('sound', 0.007393876130828114),\n",
       "   ('westchester', 0.007393876130828114)]),\n",
       " (12,\n",
       "  [('city', 0.053331104238067376),\n",
       "   ('million', 0.016968987712112346),\n",
       "   ('plan', 0.01579871269748391),\n",
       "   ('space', 0.012873025160912814),\n",
       "   ('mayor', 0.012622251943492434),\n",
       "   ('bloomberg', 0.011953523363704756),\n",
       "   ('park', 0.011535568001337457),\n",
       "   ('york', 0.010532475131655939),\n",
       "   ('center', 0.010198110841762099),\n",
       "   ('site', 0.00986374655186826)]),\n",
       " (13,\n",
       "  [('tax', 0.04150211818769297),\n",
       "   ('billion', 0.02642349393264881),\n",
       "   ('budget', 0.02448481367128599),\n",
       "   ('cut', 0.023192360163710776),\n",
       "   ('cost', 0.020463847203274217),\n",
       "   ('money', 0.019961226394772744),\n",
       "   ('year', 0.018740575859840597),\n",
       "   ('pay', 0.017448122352265383),\n",
       "   ('million', 0.014935018309758024),\n",
       "   ('care', 0.014791412364471889)]),\n",
       " (14,\n",
       "  [('iraq', 0.03824493569807515),\n",
       "   ('american', 0.026897537194250653),\n",
       "   ('war', 0.021938303774060686),\n",
       "   ('military', 0.01916449525090359),\n",
       "   ('force', 0.015718248297890224),\n",
       "   ('iraqi', 0.011851727326216694),\n",
       "   ('government', 0.011179288896360428),\n",
       "   ('troop', 0.010843069681432295),\n",
       "   ('washington', 0.009834412036647894),\n",
       "   ('leader', 0.008993863999327561)]),\n",
       " (15,\n",
       "  [('election', 0.03222664895971669),\n",
       "   ('vote', 0.026383355467020805),\n",
       "   ('voter', 0.024435590969455512),\n",
       "   ('party', 0.016024789729969013),\n",
       "   ('political', 0.01416555998229305),\n",
       "   ('candidate', 0.014077025232403718),\n",
       "   ('democratic', 0.013899955732625055),\n",
       "   ('state', 0.013634351482957061),\n",
       "   ('republican', 0.013103142983621072),\n",
       "   ('record', 0.011243913235945108)]),\n",
       " (16,\n",
       "  [('state', 0.06827176781002639),\n",
       "   ('year', 0.036279683377308705),\n",
       "   ('pay', 0.01945910290237467),\n",
       "   ('jersey', 0.017067941952506598),\n",
       "   ('time', 0.015171503957783642),\n",
       "   ('long', 0.014759234828496042),\n",
       "   ('make', 0.014594327176781002),\n",
       "   ('local', 0.012615435356200527),\n",
       "   ('family', 0.012532981530343008),\n",
       "   ('change', 0.01129617414248021)]),\n",
       " (17,\n",
       "  [('plant', 0.01784243755146857),\n",
       "   ('power', 0.016012443956446153),\n",
       "   ('energy', 0.015280446518437185),\n",
       "   ('emission', 0.012169457406899075),\n",
       "   ('fuel', 0.011254460609387867),\n",
       "   ('control', 0.009332967334614329),\n",
       "   ('reduce', 0.008966968615609845),\n",
       "   ('clean', 0.008875468935858725),\n",
       "   ('make', 0.008692469576356483),\n",
       "   ('technology', 0.008509470216854241)])]"
      ]
     },
     "execution_count": 8,
     "metadata": {},
     "output_type": "execute_result"
    }
   ],
   "source": [
    "topics_with_perc_df = pd.DataFrame(mallet_lda_modeler.model.print_topics(num_topics=n, num_words=10), \n",
    "                                   columns=['Topic', 'Keywords'])\n",
    "#topics_with_perc_df.reset_index().to_csv('../../data/feature_extraction*/lda_topic_words_45.csv')\n",
    "mallet_lda_modeler.model.show_topics(num_topics=n, num_words=10, formatted=False)"
   ]
  },
  {
   "cell_type": "markdown",
   "metadata": {},
   "source": [
    "#### Docs dominant Topics"
   ]
  },
  {
   "cell_type": "code",
   "execution_count": null,
   "metadata": {},
   "outputs": [],
   "source": []
  },
  {
   "cell_type": "markdown",
   "metadata": {},
   "source": [
    "#### Topic Distribution - See below (Wordlcloud for topic top words)"
   ]
  },
  {
   "cell_type": "code",
   "execution_count": 9,
   "metadata": {},
   "outputs": [],
   "source": [
    "topic_dstr = mallet_lda_modeler.get_topic_distr()"
   ]
  },
  {
   "cell_type": "code",
   "execution_count": 10,
   "metadata": {},
   "outputs": [
    {
     "data": {
      "text/plain": [
       "<matplotlib.axes._subplots.AxesSubplot at 0x2449966bd30>"
      ]
     },
     "execution_count": 10,
     "metadata": {},
     "output_type": "execute_result"
    },
    {
     "data": {
      "image/png": "[encoded data removed]",
      "text/plain": [
       "<Figure size 432x288 with 1 Axes>"
      ]
     },
     "metadata": {
      "needs_background": "light"
     },
     "output_type": "display_data"
    }
   ],
   "source": [
    "topic_dstr['Dominant_Topic'].value_counts().plot(kind='bar')"
   ]
  },
  {
   "cell_type": "code",
   "execution_count": 11,
   "metadata": {},
   "outputs": [],
   "source": [
    "topic_dstr.to_csv('../out/feature_extraction/lda/ldamallet_topics_distribution_{}.csv'.format(n))"
   ]
  },
  {
   "cell_type": "markdown",
   "metadata": {},
   "source": [
    "#### Word Cloud for each Topic"
   ]
  },
  {
   "cell_type": "code",
   "execution_count": 12,
   "metadata": {},
   "outputs": [],
   "source": [
    "## word cloud\n",
    "from nltk.corpus import stopwords\n",
    "from matplotlib import pyplot as plt\n",
    "from wordcloud import WordCloud, STOPWORDS\n",
    "import matplotlib.colors as mcolors\n",
    "def show_word_cloud(model, topics, limit=10, stopwords_extension=[], topic_index=range(1,11)):\n",
    "    # 1. Wordcloud of Top N words in each topic\n",
    "\n",
    "\n",
    "    cols = [color for name, color in mcolors.TABLEAU_COLORS.items()]  # more colors: 'mcolors.XKCD_COLORS'\n",
    "\n",
    "    \n",
    "    stop_words  = stopwords.words('english')\n",
    "    stop_words.extend(stopwords_extension)\n",
    "        \n",
    "    cloud = WordCloud(stopwords=stop_words,\n",
    "                    background_color='white',\n",
    "                    width=2500,\n",
    "                    height=1800,\n",
    "                    max_words=10,\n",
    "                    colormap='tab10',\n",
    "                    color_func=lambda *args, **kwargs: cols[i],\n",
    "                    prefer_horizontal=1.0)\n",
    "\n",
    "    \n",
    "    fig, axes = plt.subplots( int(limit/2), 2, figsize=(10,10), sharex='all', sharey='all')\n",
    "\n",
    "\n",
    "    for i, ax in enumerate(axes.flatten()):\n",
    "        fig.add_subplot(ax)\n",
    "        topic_words = dict(topics[i][1])\n",
    "        cloud.generate_from_frequencies(topic_words, max_font_size=300)\n",
    "        plt.gca().imshow(cloud)\n",
    "        plt.gca().set_title('Topic ' + str(topic_index[i]), fontdict=dict(size=16))\n",
    "        plt.gca().axis('off')\n",
    "        if i> limit:\n",
    "            break\n",
    "\n",
    "\n",
    "    plt.subplots_adjust(wspace=0, hspace=0)\n",
    "    plt.axis('off')\n",
    "    plt.margins(x=0, y=0)\n",
    "    plt.tight_layout()\n",
    "    plt.show()"
   ]
  },
  {
   "cell_type": "code",
   "execution_count": 13,
   "metadata": {},
   "outputs": [],
   "source": [
    "topics = mallet_lda_modeler.model.show_topics(num_topics=n, num_words=10, formatted=False)\n"
   ]
  },
  {
   "cell_type": "code",
   "execution_count": 14,
   "metadata": {},
   "outputs": [
    {
     "data": {
      "image/png": "[encoded data removed]",
      "text/plain": [
       "<Figure size 720x720 with 10 Axes>"
      ]
     },
     "metadata": {
      "needs_background": "light"
     },
     "output_type": "display_data"
    }
   ],
   "source": [
    "show_word_cloud(mallet_lda_modeler.model, topics[:10],  limit=10, stopwords_extension=stop_words_extension, topic_index=range(0,10))"
   ]
  },
  {
   "cell_type": "code",
   "execution_count": 15,
   "metadata": {},
   "outputs": [
    {
     "data": {
      "image/png": "[encoded data removed]",
      "text/plain": [
       "<Figure size 720x720 with 6 Axes>"
      ]
     },
     "metadata": {
      "needs_background": "light"
     },
     "output_type": "display_data"
    }
   ],
   "source": [
    "show_word_cloud(mallet_lda_modeler.model, topics[10:17],  limit=7, stopwords_extension=stop_words_extension, topic_index=range(10,17))"
   ]
  },
  {
   "cell_type": "code",
   "execution_count": 16,
   "metadata": {},
   "outputs": [
    {
     "data": {
      "text/plain": [
       "18"
      ]
     },
     "execution_count": 16,
     "metadata": {},
     "output_type": "execute_result"
    }
   ],
   "source": [
    "n"
   ]
  },
  {
   "cell_type": "code",
   "execution_count": null,
   "metadata": {},
   "outputs": [],
   "source": [
    "len(pd.read_csv(\"../out/feature_extraction/lda/ldamallet_readable_document_topics_18.csv\"))\n",
    "pd.read_csv(\"../out/feature_extraction/lda/ldamallet_readable_document_topics_18.csv\").head()"
   ]
  },
  {
   "cell_type": "code",
   "execution_count": null,
   "metadata": {},
   "outputs": [],
   "source": [
    "pd.read_csv(\"../out/feature_extraction/lda/ldamallet_document_topics_18.csv\").head()"
   ]
  },
  {
   "cell_type": "code",
   "execution_count": null,
   "metadata": {},
   "outputs": [],
   "source": []
  }
 ],
 "metadata": {
  "kernelspec": {
   "display_name": "Python 3",
   "language": "python",
   "name": "python3"
  },
  "language_info": {
   "codemirror_mode": {
    "name": "ipython",
    "version": 3
   },
   "file_extension": ".py",
   "mimetype": "text/x-python",
   "name": "python",
   "nbconvert_exporter": "python",
   "pygments_lexer": "ipython3",
   "version": "3.7.3"
  }
 },
 "nbformat": 4,
 "nbformat_minor": 4
}
