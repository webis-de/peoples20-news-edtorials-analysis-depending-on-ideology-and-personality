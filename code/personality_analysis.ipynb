{
 "cells": [
  {
   "cell_type": "code",
   "execution_count": 1,
   "metadata": {},
   "outputs": [
    {
     "name": "stdout",
     "output_type": "stream",
     "text": [
      "C:\\Users\\elba_ro\\Documents\\projects\\nlpcss2020-editorials-analysis\n"
     ]
    },
    {
     "name": "stderr",
     "output_type": "stream",
     "text": [
      "[nltk_data] Downloading package wordnet to\n",
      "[nltk_data]     C:\\Users\\elba_ro\\AppData\\Roaming\\nltk_data...\n",
      "[nltk_data]   Package wordnet is already up-to-date!\n",
      "[nltk_data] Downloading package wordnet to\n",
      "[nltk_data]     C:\\Users\\elba_ro\\AppData\\Roaming\\nltk_data...\n",
      "[nltk_data]   Package wordnet is already up-to-date!\n",
      "[nltk_data] Downloading package wordnet to\n",
      "[nltk_data]     C:\\Users\\elba_ro\\AppData\\Roaming\\nltk_data...\n",
      "[nltk_data]   Package wordnet is already up-to-date!\n"
     ]
    }
   ],
   "source": [
    "import pandas as pd\n",
    "from collections import Counter\n",
    "from langdetect import detect\n",
    "import langdetect\n",
    "import numpy as np\n",
    "import importlib\n",
    "import os\n",
    "current_dir = os.getcwd()\n",
    "%cd ..\n",
    "import textmining.text_miner \n",
    "import textmining.loader  as loader\n",
    "import textmining.topic_modeler as tm\n",
    "import textmining.significance_testing as significance_testing\n",
    "import textmining.utility as utility\n",
    "import textmining.analysis as analysis\n",
    "import textmining.cluster_analysis as cluster_analysis\n",
    "import textmining.machine_learning as machine_learning\n",
    "import textmining.news_editorials_experiments as experiment\n",
    "import textmining.cross_models_significance as cross\n",
    "\n",
    "importlib.reload(textmining.machine_learning)\n",
    "importlib.reload(textmining.news_editorials_experiments)\n",
    "importlib.reload(textmining.cross_models_significance)\n",
    "importlib.reload(textmining.cluster_analysis)\n",
    "importlib.reload(textmining.text_miner)\n",
    "\n",
    "importlib.reload(textmining.text_miner)\n",
    "importlib.reload(textmining.topic_modeler)\n",
    "importlib.reload(textmining.analysis)\n",
    "importlib.reload(textmining.loader)\n",
    "os.chdir(current_dir)\n",
    "\n",
    "%matplotlib inline\n",
    "\n",
    "import matplotlib\n",
    "import matplotlib.pyplot as plt"
   ]
  },
  {
   "cell_type": "code",
   "execution_count": 2,
   "metadata": {},
   "outputs": [
    {
     "name": "stdout",
     "output_type": "stream",
     "text": [
      "\"corpus\" is set. It contains the 6000 annotation\n"
     ]
    }
   ],
   "source": [
    "load = loader.loader()"
   ]
  },
  {
   "cell_type": "markdown",
   "metadata": {},
   "source": [
    "# Clustering Personalities"
   ]
  },
  {
   "cell_type": "code",
   "execution_count": 3,
   "metadata": {},
   "outputs": [
    {
     "data": {
      "text/html": [
       "<div>\n",
       "<style scoped>\n",
       "    .dataframe tbody tr th:only-of-type {\n",
       "        vertical-align: middle;\n",
       "    }\n",
       "\n",
       "    .dataframe tbody tr th {\n",
       "        vertical-align: top;\n",
       "    }\n",
       "\n",
       "    .dataframe thead th {\n",
       "        text-align: right;\n",
       "    }\n",
       "</style>\n",
       "<table border=\"1\" class=\"dataframe\">\n",
       "  <thead>\n",
       "    <tr style=\"text-align: right;\">\n",
       "      <th></th>\n",
       "      <th>id</th>\n",
       "      <th>extraversion_num</th>\n",
       "      <th>agreeableness_num</th>\n",
       "      <th>conscientiousness_num</th>\n",
       "      <th>neuroticism_num</th>\n",
       "      <th>openness_num</th>\n",
       "      <th>extraversion</th>\n",
       "      <th>agreeableness</th>\n",
       "      <th>conscientiousness</th>\n",
       "      <th>neuroticism</th>\n",
       "      <th>openness</th>\n",
       "    </tr>\n",
       "  </thead>\n",
       "  <tbody>\n",
       "    <tr>\n",
       "      <th>0</th>\n",
       "      <td>L01</td>\n",
       "      <td>29</td>\n",
       "      <td>95</td>\n",
       "      <td>33</td>\n",
       "      <td>32</td>\n",
       "      <td>98</td>\n",
       "      <td>LOW</td>\n",
       "      <td>HIGH</td>\n",
       "      <td>AVERAGE</td>\n",
       "      <td>LOW</td>\n",
       "      <td>HIGH</td>\n",
       "    </tr>\n",
       "    <tr>\n",
       "      <th>1</th>\n",
       "      <td>L03</td>\n",
       "      <td>52</td>\n",
       "      <td>29</td>\n",
       "      <td>10</td>\n",
       "      <td>75</td>\n",
       "      <td>91</td>\n",
       "      <td>AVERAGE</td>\n",
       "      <td>LOW</td>\n",
       "      <td>LOW</td>\n",
       "      <td>LOW</td>\n",
       "      <td>HIGH</td>\n",
       "    </tr>\n",
       "    <tr>\n",
       "      <th>2</th>\n",
       "      <td>L07</td>\n",
       "      <td>11</td>\n",
       "      <td>31</td>\n",
       "      <td>61</td>\n",
       "      <td>69</td>\n",
       "      <td>29</td>\n",
       "      <td>LOW</td>\n",
       "      <td>LOW</td>\n",
       "      <td>AVERAGE</td>\n",
       "      <td>HIGH</td>\n",
       "      <td>LOW</td>\n",
       "    </tr>\n",
       "    <tr>\n",
       "      <th>3</th>\n",
       "      <td>C03</td>\n",
       "      <td>29</td>\n",
       "      <td>31</td>\n",
       "      <td>15</td>\n",
       "      <td>99</td>\n",
       "      <td>40</td>\n",
       "      <td>LOW</td>\n",
       "      <td>LOW</td>\n",
       "      <td>LOW</td>\n",
       "      <td>HIGH</td>\n",
       "      <td>AVERAGE</td>\n",
       "    </tr>\n",
       "    <tr>\n",
       "      <th>4</th>\n",
       "      <td>C09</td>\n",
       "      <td>89</td>\n",
       "      <td>77</td>\n",
       "      <td>53</td>\n",
       "      <td>30</td>\n",
       "      <td>94</td>\n",
       "      <td>HIGH</td>\n",
       "      <td>HIGH</td>\n",
       "      <td>AVERAGE</td>\n",
       "      <td>LOW</td>\n",
       "      <td>HIGH</td>\n",
       "    </tr>\n",
       "  </tbody>\n",
       "</table>\n",
       "</div>"
      ],
      "text/plain": [
       "    id  extraversion_num  agreeableness_num  conscientiousness_num  \\\n",
       "0  L01                29                 95                     33   \n",
       "1  L03                52                 29                     10   \n",
       "2  L07                11                 31                     61   \n",
       "3  C03                29                 31                     15   \n",
       "4  C09                89                 77                     53   \n",
       "\n",
       "   neuroticism_num  openness_num extraversion agreeableness conscientiousness  \\\n",
       "0               32            98          LOW          HIGH           AVERAGE   \n",
       "1               75            91      AVERAGE           LOW               LOW   \n",
       "2               69            29          LOW           LOW           AVERAGE   \n",
       "3               99            40          LOW           LOW               LOW   \n",
       "4               30            94         HIGH          HIGH           AVERAGE   \n",
       "\n",
       "  neuroticism openness  \n",
       "0         LOW     HIGH  \n",
       "1         LOW     HIGH  \n",
       "2        HIGH      LOW  \n",
       "3        HIGH  AVERAGE  \n",
       "4         LOW     HIGH  "
      ]
     },
     "execution_count": 3,
     "metadata": {},
     "output_type": "execute_result"
    }
   ],
   "source": [
    "personality_df = load.load_personality_traits()\n",
    "personality_df.head()"
   ]
  },
  {
   "cell_type": "code",
   "execution_count": 4,
   "metadata": {},
   "outputs": [],
   "source": [
    "personality_df['personality'] = personality_df.extraversion + personality_df.agreeableness  +  personality_df.conscientiousness +  personality_df.neuroticism  +  personality_df.openness\n",
    "personality_df['personality'] = personality_df.extraversion + personality_df.openness"
   ]
  },
  {
   "cell_type": "code",
   "execution_count": 5,
   "metadata": {},
   "outputs": [],
   "source": [
    "personality_df.set_index('id', inplace=True)"
   ]
  },
  {
   "cell_type": "code",
   "execution_count": 6,
   "metadata": {},
   "outputs": [
    {
     "name": "stderr",
     "output_type": "stream",
     "text": [
      "C:\\Users\\elba_ro\\Documents\\projects\\nlpcss2020-editorials-analysis\\textmining\\cluster_analysis.py:21: ConvergenceWarning: Number of distinct clusters (20) found smaller than n_clusters (21). Possibly due to duplicate points in X.\n",
      "  for i in k_range]\n",
      "C:\\Users\\elba_ro\\Documents\\projects\\nlpcss2020-editorials-analysis\\textmining\\cluster_analysis.py:21: ConvergenceWarning: Number of distinct clusters (20) found smaller than n_clusters (22). Possibly due to duplicate points in X.\n",
      "  for i in k_range]\n",
      "C:\\Users\\elba_ro\\Documents\\projects\\nlpcss2020-editorials-analysis\\textmining\\cluster_analysis.py:21: ConvergenceWarning: Number of distinct clusters (20) found smaller than n_clusters (23). Possibly due to duplicate points in X.\n",
      "  for i in k_range]\n"
     ]
    },
    {
     "data": {
      "image/png": "[encoded data removed]",
      "text/plain": [
       "<Figure size 432x288 with 1 Axes>"
      ]
     },
     "metadata": {
      "needs_background": "light"
     },
     "output_type": "display_data"
    },
    {
     "name": "stdout",
     "output_type": "stream",
     "text": [
      "k_optimal:  5\n",
      "cosine_kmeans - silhouette_score: 0.58516251268326\n",
      "1.0.0\n",
      "Plotting for:\n",
      "5\n",
      "5\n"
     ]
    },
    {
     "data": {
      "image/png": "[encoded data removed]",
      "text/plain": [
       "<Figure size 432x288 with 1 Axes>"
      ]
     },
     "metadata": {
      "needs_background": "light"
     },
     "output_type": "display_data"
    },
    {
     "data": {
      "text/html": [
       "<div>\n",
       "<style scoped>\n",
       "    .dataframe tbody tr th:only-of-type {\n",
       "        vertical-align: middle;\n",
       "    }\n",
       "\n",
       "    .dataframe tbody tr th {\n",
       "        vertical-align: top;\n",
       "    }\n",
       "\n",
       "    .dataframe thead th {\n",
       "        text-align: right;\n",
       "    }\n",
       "</style>\n",
       "<table border=\"1\" class=\"dataframe\">\n",
       "  <thead>\n",
       "    <tr style=\"text-align: right;\">\n",
       "      <th></th>\n",
       "      <th>Variable</th>\n",
       "      <th>Var</th>\n",
       "    </tr>\n",
       "  </thead>\n",
       "  <tbody>\n",
       "    <tr>\n",
       "      <th>1</th>\n",
       "      <td>agreeableness_num</td>\n",
       "      <td>0.284907</td>\n",
       "    </tr>\n",
       "    <tr>\n",
       "      <th>3</th>\n",
       "      <td>neuroticism_num</td>\n",
       "      <td>0.267538</td>\n",
       "    </tr>\n",
       "    <tr>\n",
       "      <th>0</th>\n",
       "      <td>extraversion_num</td>\n",
       "      <td>0.217105</td>\n",
       "    </tr>\n",
       "    <tr>\n",
       "      <th>2</th>\n",
       "      <td>conscientiousness_num</td>\n",
       "      <td>0.146585</td>\n",
       "    </tr>\n",
       "    <tr>\n",
       "      <th>4</th>\n",
       "      <td>openness_num</td>\n",
       "      <td>0.122059</td>\n",
       "    </tr>\n",
       "  </tbody>\n",
       "</table>\n",
       "</div>"
      ],
      "text/plain": [
       "                Variable       Var\n",
       "1      agreeableness_num  0.284907\n",
       "3        neuroticism_num  0.267538\n",
       "0       extraversion_num  0.217105\n",
       "2  conscientiousness_num  0.146585\n",
       "4           openness_num  0.122059"
      ]
     },
     "execution_count": 6,
     "metadata": {},
     "output_type": "execute_result"
    }
   ],
   "source": [
    "pers_cols = [x for x in personality_df.columns.values if x.endswith('_num') or x.endswith('extraversion_num')]\n",
    "df = personality_df[pers_cols].copy()\n",
    "k_optimal =  cluster_analysis.elbow(df, normalize=True, k_range= range(1, 24))\n",
    "print('k_optimal: ', k_optimal)\n",
    "k_optimal = 2\n",
    "analyzer_coskmeans = cluster_analysis.Analyzer(df)\n",
    "analyzer_coskmeans.set_algorithm(algorithm= 'cosine_kmeans', algorithm_args={'n_clusters':k_optimal})\n",
    "analyzer_coskmeans.evaluate_silhouette_score(metric=\"cosine\")\n",
    "\n",
    "predicted_df = analyzer_coskmeans.predict_labels('id', apply=True)\n",
    "print('Plotting for:')\n",
    "most_variant, plot_data = analyzer_coskmeans.top_vars('id', top=5, plot=True)\n",
    "most_variant"
   ]
  },
  {
   "cell_type": "code",
   "execution_count": 7,
   "metadata": {
    "scrolled": true
   },
   "outputs": [
    {
     "data": {
      "image/png": "[encoded data removed]",
      "text/plain": [
       "<Figure size 640x480 with 1 Axes>"
      ]
     },
     "metadata": {},
     "output_type": "display_data"
    }
   ],
   "source": [
    "import seaborn as sns\n",
    "\n",
    "import matplotlib.pyplot as plt\n",
    "\n",
    "%matplotlib inline\n",
    "\n",
    "sns.reset_defaults()\n",
    "sns.set(\n",
    "    #rc={'figure.figsize':(6,5)}, \n",
    "    #style=\"white\" # nicer layout\n",
    ")\n",
    "\n",
    "sns.barplot(x='cluster', y='value', hue='variable', data=plot_data, palette=sns.color_palette(\"mako_r\", 5))\n",
    "plt.xlabel('Personality Cluster')\n",
    "plt.ylabel('Personality Trait Value')\n",
    "#plt.xticks(np.arange(2), ['Agreeable', 'Non-Agreeable'])\n",
    "handles, labels = plt.gca().get_legend_handles_labels()\n",
    "plt.legend(handles, ['Agreeableness', 'Neuroticism', 'Extraversion', 'Conscientiousness', 'Openness'])\n",
    "plt.show()\n",
    "#plt.savefig(\"personaity-clusters.pdf\")"
   ]
  },
  {
   "cell_type": "code",
   "execution_count": null,
   "metadata": {},
   "outputs": [],
   "source": [
    "len(personality_df)"
   ]
  },
  {
   "cell_type": "code",
   "execution_count": null,
   "metadata": {},
   "outputs": [],
   "source": [
    "predicted_df.cluster.value_counts()"
   ]
  },
  {
   "cell_type": "code",
   "execution_count": null,
   "metadata": {},
   "outputs": [],
   "source": [
    "predicted_df.head()\n"
   ]
  },
  {
   "cell_type": "markdown",
   "metadata": {},
   "source": [
    "# Analysis"
   ]
  },
  {
   "cell_type": "code",
   "execution_count": null,
   "metadata": {},
   "outputs": [],
   "source": [
    "\n",
    "corpus = load.corpus\n",
    "corpus = load.add_personality_label(predicted_df)\n",
    "\n",
    "corpus.columns.values\n",
    "len(corpus)"
   ]
  },
  {
   "cell_type": "code",
   "execution_count": null,
   "metadata": {},
   "outputs": [],
   "source": [
    "corpus.personality.value_counts(), corpus.political_pole.value_counts() "
   ]
  },
  {
   "cell_type": "code",
   "execution_count": null,
   "metadata": {},
   "outputs": [],
   "source": [
    "pd.crosstab(corpus.personality, corpus.effect_abstracted), print(''),print(''), pd.crosstab(corpus.personality, corpus.effect)"
   ]
  },
  {
   "cell_type": "code",
   "execution_count": null,
   "metadata": {},
   "outputs": [],
   "source": [
    "intesity_maj_df = load.get_article_dfs_per_ideology(ideology = 'personality', include_content = True)"
   ]
  },
  {
   "cell_type": "code",
   "execution_count": null,
   "metadata": {},
   "outputs": [],
   "source": [
    "a_df = intesity_maj_df['a']\n",
    "b_df = intesity_maj_df['b']"
   ]
  },
  {
   "cell_type": "code",
   "execution_count": null,
   "metadata": {},
   "outputs": [],
   "source": [
    "a_df.columns.values"
   ]
  },
  {
   "cell_type": "code",
   "execution_count": null,
   "metadata": {},
   "outputs": [],
   "source": [
    "print(a_df.a_majority.value_counts())\n",
    "\n",
    "\n",
    "\n",
    "print(b_df.majority.value_counts())\n",
    "\n"
   ]
  },
  {
   "cell_type": "code",
   "execution_count": null,
   "metadata": {},
   "outputs": [],
   "source": [
    "print(a_df.split_label.value_counts())\n",
    "print()\n",
    "print(b_df.split_label.value_counts())\n",
    "print()\n",
    "print()\n",
    "print(pd.crosstab(a_df.personality_a_majority, a_df.split_label))\n",
    "print()\n",
    "print(pd.crosstab(b_df.personality_b_majority, b_df.split_label))"
   ]
  },
  {
   "cell_type": "code",
   "execution_count": null,
   "metadata": {},
   "outputs": [],
   "source": [
    "a_df.rename(columns = {'majority': 'personality_a_majority'}, inplace = True)\n",
    "b_df.rename(columns = {'majority': 'personality_b_majority'}, inplace = True)"
   ]
  },
  {
   "cell_type": "code",
   "execution_count": null,
   "metadata": {},
   "outputs": [],
   "source": [
    "data = pd.read_json('../data/articles_with_adu_liwc_lexicons_content.json', orient='records')\n",
    "data.set_index('idx', inplace=True)\n",
    "print(len(data))\n",
    "data = data.merge(a_df[['personality_a_majority']], how=\"inner\",left_index=True, right_index=True )\n",
    "data = data.merge(b_df[['personality_b_majority']], how=\"inner\",left_index=True, right_index=True )\n",
    "data.drop(['liberal_majority', 'conservative_majority'], axis=1, inplace=True)\n"
   ]
  },
  {
   "cell_type": "code",
   "execution_count": null,
   "metadata": {},
   "outputs": [],
   "source": [
    "data.drop(['liberal_majority', 'conservative_majority'], axis=1, inplace=True)\n",
    "#data.to_csv('../data/personality_all_features.csv')"
   ]
  },
  {
   "cell_type": "markdown",
   "metadata": {},
   "source": [
    "# Experiment 2"
   ]
  },
  {
   "cell_type": "code",
   "execution_count": 16,
   "metadata": {},
   "outputs": [
    {
     "data": {
      "text/plain": [
       "(array(['state', 'national', 'global'], dtype=object), 18, national    475\n",
       " state       277\n",
       " global      227\n",
       " Name: topic_group, dtype: int64)"
      ]
     },
     "execution_count": 16,
     "metadata": {},
     "output_type": "execute_result"
    }
   ],
   "source": [
    "def get-\n",
    "editorials_topics_df = pd.read_csv('../out/editorials_topic_w_group.csv').set_index('idx')\n",
    "editorials_topics_df.head()\n",
    "editorials_topics_df.topic_group.unique(), len(editorials_topics_df.dominant_topic.unique()), editorials_topics_df.topic_group.value_counts()"
   ]
  },
  {
   "cell_type": "code",
   "execution_count": 18,
   "metadata": {},
   "outputs": [
    {
     "data": {
      "text/plain": [
       "(array(['state', 'national', 'global'], dtype=object), 18, national    475\n",
       " state       277\n",
       " global      227\n",
       " Name: topic_group, dtype: int64)"
      ]
     },
     "execution_count": 18,
     "metadata": {},
     "output_type": "execute_result"
    }
   ],
   "source": [
    "data = pd.read_csv('../data/personality_all_features.csv')\n",
    "data.set_index('idx', inplace=True)\n",
    "data = data.join(editorials_topics_df, how='inner')\n",
    "\n",
    "data.topic_group.unique(), len(data.dominant_topic.unique()), data.topic_group.value_counts()"
   ]
  },
  {
   "cell_type": "code",
   "execution_count": 19,
   "metadata": {},
   "outputs": [],
   "source": [
    "training_df, test_df = analysis.get_train_test(data)"
   ]
  },
  {
   "cell_type": "code",
   "execution_count": 28,
   "metadata": {},
   "outputs": [
    {
     "data": {
      "text/html": [
       "<div>\n",
       "<style scoped>\n",
       "    .dataframe tbody tr th:only-of-type {\n",
       "        vertical-align: middle;\n",
       "    }\n",
       "\n",
       "    .dataframe tbody tr th {\n",
       "        vertical-align: top;\n",
       "    }\n",
       "\n",
       "    .dataframe thead th {\n",
       "        text-align: right;\n",
       "    }\n",
       "</style>\n",
       "<table border=\"1\" class=\"dataframe\">\n",
       "  <thead>\n",
       "    <tr style=\"text-align: right;\">\n",
       "      <th></th>\n",
       "      <th>adu_anecdote</th>\n",
       "      <th>adu_other</th>\n",
       "      <th>adu_statistics</th>\n",
       "      <th>adu_testimony</th>\n",
       "      <th>content</th>\n",
       "      <th>ids</th>\n",
       "      <th>mpqa_arg_assessments</th>\n",
       "      <th>mpqa_arg_authority</th>\n",
       "      <th>mpqa_arg_causation</th>\n",
       "      <th>mpqa_arg_conditionals</th>\n",
       "      <th>...</th>\n",
       "      <th>lemma3_world trade organ</th>\n",
       "      <th>lemma3_year presid bush</th>\n",
       "      <th>lemma3_york public research</th>\n",
       "      <th>lemma3_york state budget</th>\n",
       "      <th>lemma3_york state capitol</th>\n",
       "      <th>lemma3_york state legislatur</th>\n",
       "      <th>personality_a_majority</th>\n",
       "      <th>personality_b_majority</th>\n",
       "      <th>topic_group</th>\n",
       "      <th>dominant_topic</th>\n",
       "    </tr>\n",
       "    <tr>\n",
       "      <th>idx</th>\n",
       "      <th></th>\n",
       "      <th></th>\n",
       "      <th></th>\n",
       "      <th></th>\n",
       "      <th></th>\n",
       "      <th></th>\n",
       "      <th></th>\n",
       "      <th></th>\n",
       "      <th></th>\n",
       "      <th></th>\n",
       "      <th></th>\n",
       "      <th></th>\n",
       "      <th></th>\n",
       "      <th></th>\n",
       "      <th></th>\n",
       "      <th></th>\n",
       "      <th></th>\n",
       "      <th></th>\n",
       "      <th></th>\n",
       "      <th></th>\n",
       "      <th></th>\n",
       "    </tr>\n",
       "  </thead>\n",
       "  <tbody>\n",
       "    <tr>\n",
       "      <th>1677322</th>\n",
       "      <td>12</td>\n",
       "      <td>11</td>\n",
       "      <td>0</td>\n",
       "      <td>1</td>\n",
       "      <td>A State Supreme Court judge yesterday removed ...</td>\n",
       "      <td>1677322</td>\n",
       "      <td>0</td>\n",
       "      <td>0</td>\n",
       "      <td>0</td>\n",
       "      <td>0</td>\n",
       "      <td>...</td>\n",
       "      <td>0.0</td>\n",
       "      <td>0.0</td>\n",
       "      <td>0.0</td>\n",
       "      <td>0.0</td>\n",
       "      <td>0.0</td>\n",
       "      <td>0.0</td>\n",
       "      <td>challenging</td>\n",
       "      <td>reinforcing</td>\n",
       "      <td>state</td>\n",
       "      <td>12.0</td>\n",
       "    </tr>\n",
       "    <tr>\n",
       "      <th>1818732</th>\n",
       "      <td>7</td>\n",
       "      <td>8</td>\n",
       "      <td>0</td>\n",
       "      <td>0</td>\n",
       "      <td>A battle between Yonkers and its neighbors ove...</td>\n",
       "      <td>1818732</td>\n",
       "      <td>0</td>\n",
       "      <td>0</td>\n",
       "      <td>2</td>\n",
       "      <td>1</td>\n",
       "      <td>...</td>\n",
       "      <td>0.0</td>\n",
       "      <td>0.0</td>\n",
       "      <td>0.0</td>\n",
       "      <td>0.0</td>\n",
       "      <td>0.0</td>\n",
       "      <td>0.0</td>\n",
       "      <td>no_effect</td>\n",
       "      <td>no_effect</td>\n",
       "      <td>state</td>\n",
       "      <td>11.0</td>\n",
       "    </tr>\n",
       "    <tr>\n",
       "      <th>1680635</th>\n",
       "      <td>9</td>\n",
       "      <td>4</td>\n",
       "      <td>0</td>\n",
       "      <td>0</td>\n",
       "      <td>A bipartisan, Congressionally mandated task fo...</td>\n",
       "      <td>1680635</td>\n",
       "      <td>0</td>\n",
       "      <td>0</td>\n",
       "      <td>1</td>\n",
       "      <td>0</td>\n",
       "      <td>...</td>\n",
       "      <td>0.0</td>\n",
       "      <td>0.0</td>\n",
       "      <td>0.0</td>\n",
       "      <td>0.0</td>\n",
       "      <td>0.0</td>\n",
       "      <td>0.0</td>\n",
       "      <td>no_effect</td>\n",
       "      <td>reinforcing</td>\n",
       "      <td>global</td>\n",
       "      <td>0.0</td>\n",
       "    </tr>\n",
       "    <tr>\n",
       "      <th>1647477</th>\n",
       "      <td>10</td>\n",
       "      <td>6</td>\n",
       "      <td>0</td>\n",
       "      <td>4</td>\n",
       "      <td>A commission investigating the United Nations'...</td>\n",
       "      <td>1647477</td>\n",
       "      <td>0</td>\n",
       "      <td>1</td>\n",
       "      <td>2</td>\n",
       "      <td>0</td>\n",
       "      <td>...</td>\n",
       "      <td>0.0</td>\n",
       "      <td>0.0</td>\n",
       "      <td>0.0</td>\n",
       "      <td>0.0</td>\n",
       "      <td>0.0</td>\n",
       "      <td>0.0</td>\n",
       "      <td>no_effect</td>\n",
       "      <td>reinforcing</td>\n",
       "      <td>global</td>\n",
       "      <td>0.0</td>\n",
       "    </tr>\n",
       "    <tr>\n",
       "      <th>1785853</th>\n",
       "      <td>7</td>\n",
       "      <td>13</td>\n",
       "      <td>3</td>\n",
       "      <td>3</td>\n",
       "      <td>A federal study showing that fourth graders in...</td>\n",
       "      <td>1785853</td>\n",
       "      <td>0</td>\n",
       "      <td>0</td>\n",
       "      <td>2</td>\n",
       "      <td>0</td>\n",
       "      <td>...</td>\n",
       "      <td>0.0</td>\n",
       "      <td>0.0</td>\n",
       "      <td>0.0</td>\n",
       "      <td>0.0</td>\n",
       "      <td>0.0</td>\n",
       "      <td>0.0</td>\n",
       "      <td>challenging</td>\n",
       "      <td>reinforcing</td>\n",
       "      <td>state</td>\n",
       "      <td>9.0</td>\n",
       "    </tr>\n",
       "  </tbody>\n",
       "</table>\n",
       "<p>5 rows × 436 columns</p>\n",
       "</div>"
      ],
      "text/plain": [
       "         adu_anecdote  adu_other  adu_statistics  adu_testimony  \\\n",
       "idx                                                               \n",
       "1677322            12         11               0              1   \n",
       "1818732             7          8               0              0   \n",
       "1680635             9          4               0              0   \n",
       "1647477            10          6               0              4   \n",
       "1785853             7         13               3              3   \n",
       "\n",
       "                                                   content      ids  \\\n",
       "idx                                                                   \n",
       "1677322  A State Supreme Court judge yesterday removed ...  1677322   \n",
       "1818732  A battle between Yonkers and its neighbors ove...  1818732   \n",
       "1680635  A bipartisan, Congressionally mandated task fo...  1680635   \n",
       "1647477  A commission investigating the United Nations'...  1647477   \n",
       "1785853  A federal study showing that fourth graders in...  1785853   \n",
       "\n",
       "         mpqa_arg_assessments  mpqa_arg_authority  mpqa_arg_causation  \\\n",
       "idx                                                                     \n",
       "1677322                     0                   0                   0   \n",
       "1818732                     0                   0                   2   \n",
       "1680635                     0                   0                   1   \n",
       "1647477                     0                   1                   2   \n",
       "1785853                     0                   0                   2   \n",
       "\n",
       "         mpqa_arg_conditionals  ...  lemma3_world trade organ  \\\n",
       "idx                             ...                             \n",
       "1677322                      0  ...                       0.0   \n",
       "1818732                      1  ...                       0.0   \n",
       "1680635                      0  ...                       0.0   \n",
       "1647477                      0  ...                       0.0   \n",
       "1785853                      0  ...                       0.0   \n",
       "\n",
       "         lemma3_year presid bush  lemma3_york public research  \\\n",
       "idx                                                             \n",
       "1677322                      0.0                          0.0   \n",
       "1818732                      0.0                          0.0   \n",
       "1680635                      0.0                          0.0   \n",
       "1647477                      0.0                          0.0   \n",
       "1785853                      0.0                          0.0   \n",
       "\n",
       "         lemma3_york state budget  lemma3_york state capitol  \\\n",
       "idx                                                            \n",
       "1677322                       0.0                        0.0   \n",
       "1818732                       0.0                        0.0   \n",
       "1680635                       0.0                        0.0   \n",
       "1647477                       0.0                        0.0   \n",
       "1785853                       0.0                        0.0   \n",
       "\n",
       "         lemma3_york state legislatur  personality_a_majority  \\\n",
       "idx                                                             \n",
       "1677322                           0.0             challenging   \n",
       "1818732                           0.0               no_effect   \n",
       "1680635                           0.0               no_effect   \n",
       "1647477                           0.0               no_effect   \n",
       "1785853                           0.0             challenging   \n",
       "\n",
       "         personality_b_majority  topic_group  dominant_topic  \n",
       "idx                                                           \n",
       "1677322             reinforcing        state            12.0  \n",
       "1818732               no_effect        state            11.0  \n",
       "1680635             reinforcing       global             0.0  \n",
       "1647477             reinforcing       global             0.0  \n",
       "1785853             reinforcing        state             9.0  \n",
       "\n",
       "[5 rows x 436 columns]"
      ]
     },
     "execution_count": 28,
     "metadata": {},
     "output_type": "execute_result"
    }
   ],
   "source": [
    "training_df.head()"
   ]
  },
  {
   "cell_type": "code",
   "execution_count": 38,
   "metadata": {},
   "outputs": [
    {
     "data": {
      "text/html": [
       "<div>\n",
       "<style scoped>\n",
       "    .dataframe tbody tr th:only-of-type {\n",
       "        vertical-align: middle;\n",
       "    }\n",
       "\n",
       "    .dataframe tbody tr th {\n",
       "        vertical-align: top;\n",
       "    }\n",
       "\n",
       "    .dataframe thead th {\n",
       "        text-align: right;\n",
       "    }\n",
       "</style>\n",
       "<table border=\"1\" class=\"dataframe\">\n",
       "  <thead>\n",
       "    <tr style=\"text-align: right;\">\n",
       "      <th>personality_b_majority</th>\n",
       "      <th>challenging</th>\n",
       "      <th>no_effect</th>\n",
       "      <th>reinforcing</th>\n",
       "    </tr>\n",
       "    <tr>\n",
       "      <th>topic_group</th>\n",
       "      <th></th>\n",
       "      <th></th>\n",
       "      <th></th>\n",
       "    </tr>\n",
       "  </thead>\n",
       "  <tbody>\n",
       "    <tr>\n",
       "      <th>global</th>\n",
       "      <td>17</td>\n",
       "      <td>36</td>\n",
       "      <td>145</td>\n",
       "    </tr>\n",
       "    <tr>\n",
       "      <th>national</th>\n",
       "      <td>37</td>\n",
       "      <td>46</td>\n",
       "      <td>281</td>\n",
       "    </tr>\n",
       "    <tr>\n",
       "      <th>state</th>\n",
       "      <td>20</td>\n",
       "      <td>39</td>\n",
       "      <td>162</td>\n",
       "    </tr>\n",
       "  </tbody>\n",
       "</table>\n",
       "</div>"
      ],
      "text/plain": [
       "personality_b_majority  challenging  no_effect  reinforcing\n",
       "topic_group                                                \n",
       "global                           17         36          145\n",
       "national                         37         46          281\n",
       "state                            20         39          162"
      ]
     },
     "execution_count": 38,
     "metadata": {},
     "output_type": "execute_result"
    }
   ],
   "source": [
    "pd.crosstab(training_df['topic_group'], training_df['personality_a_majority'] )\n",
    "pd.crosstab(training_df['topic_group'], training_df['personality_b_majority'] )"
   ]
  },
  {
   "cell_type": "code",
   "execution_count": 20,
   "metadata": {},
   "outputs": [
    {
     "data": {
      "text/plain": [
       "(array(['state', 'global', 'national'], dtype=object), 18, national    364\n",
       " state       221\n",
       " global      198\n",
       " Name: topic_group, dtype: int64)"
      ]
     },
     "execution_count": 20,
     "metadata": {},
     "output_type": "execute_result"
    }
   ],
   "source": [
    "training_df.topic_group.unique(), len(training_df.dominant_topic.unique()), training_df.topic_group.value_counts()"
   ]
  },
  {
   "cell_type": "code",
   "execution_count": 46,
   "metadata": {},
   "outputs": [
    {
     "data": {
      "text/plain": [
       "[2, 3]"
      ]
     },
     "execution_count": 46,
     "metadata": {},
     "output_type": "execute_result"
    }
   ],
   "source": [
    "A_ = [1,2,3]\n",
    "A_.remove(1)\n",
    "A_"
   ]
  },
  {
   "cell_type": "code",
   "execution_count": 47,
   "metadata": {},
   "outputs": [],
   "source": [
    "from pathlib import Path\n",
    "def analyze_sign(df_orig, profiles, p_value_threshold = 0.05,info='', save=True):\n",
    "    groups = df_orig.topic_group.unique().tolist() + ['all']\n",
    "    for g in groups:\n",
    "        for profile in profiles:\n",
    "            result = {}\n",
    "            result['group'] = g\n",
    "            result['profile'] = profile\n",
    "            \n",
    "            \n",
    "            print(\"Analyzing \",  g, 'for ', profile)\n",
    "            \n",
    "            if g is not 'all':\n",
    "                df = df_orig.copy()\n",
    "                df = df[df['topic_group'] == g]\n",
    "            \n",
    "            numeric_features_list = list(df.select_dtypes(include=[np.number]))\n",
    "            numeric_features_list.remove('dominant_topic')\n",
    "            lemmas = [x for x in numeric_features_list if x.startswith('lemma')]\n",
    "            for lemma in lemmas:\n",
    "                numeric_features_list.remove(lemma)\n",
    "            \n",
    "            result['significance'] = significance_testing.significance(df, features = numeric_features_list, \n",
    "                                               save = True, desc='../out/significance/{}_{}_train_{}'.format(\n",
    "                                               g, profile, info), \n",
    "                                               independent_var=profile,\n",
    "                                               p_value_threshold = p_value_threshold)\n",
    "            \n",
    "            Path('../out/heatmaps/personality_group').mkdir(parents=True, exist_ok=True)\n",
    "\n",
    "            effectsize_filtered = analysis.get_sign_features_hm(result['significance'] )\n",
    "            analysis.plot_hm(effectsize_filtered,  filename='personality_group/heatmap_{}_{}_train_{}.pdf'.format(\n",
    "                                               g, profile, info) )\n",
    "        "
   ]
  },
  {
   "cell_type": "code",
   "execution_count": 49,
   "metadata": {},
   "outputs": [
    {
     "name": "stdout",
     "output_type": "stream",
     "text": [
      "Analyzing  state for  personality_a_majority\n",
      "data has 221 instances\n",
      "bonforrini_threshold:  0.016666666666666666\n",
      "mpqa_arg_doubt\n",
      "INNER EXCEPTION All numbers are identical in mannwhitneyu\n",
      "exception for feature  All numbers are identical in kruskal\n",
      "exception for feature  All numbers are identical in kruskal\n",
      "exception for feature  All numbers are identical in kruskal\n",
      "Analyzing  state for  personality_b_majority\n",
      "data has 221 instances\n",
      "bonforrini_threshold:  0.016666666666666666\n",
      "exception for feature  All numbers are identical in kruskal\n",
      "exception for feature  All numbers are identical in kruskal\n",
      "mpqa_arg_wants\n",
      "INNER EXCEPTION All numbers are identical in mannwhitneyu\n",
      "exception for feature  invalid value encountered in greater\n",
      "liwc_scores_categories_Exclam\n",
      "INNER EXCEPTION All numbers are identical in mannwhitneyu\n",
      "exception for feature  All numbers are identical in kruskal\n",
      "Analyzing  global for  personality_a_majority\n",
      "data has 198 instances\n",
      "bonforrini_threshold:  0.016666666666666666\n",
      "exception for feature  All numbers are identical in kruskal\n",
      "liwc_scores_categories_Exclam\n",
      "INNER EXCEPTION All numbers are identical in mannwhitneyu\n",
      "exception for feature  All numbers are identical in kruskal\n",
      "Analyzing  global for  personality_b_majority\n",
      "data has 198 instances\n",
      "bonforrini_threshold:  0.016666666666666666\n",
      "exception for feature  All numbers are identical in kruskal\n",
      "mpqa_arg_rhetoricalquestion\n",
      "INNER EXCEPTION All numbers are identical in mannwhitneyu\n",
      "exception for feature  invalid value encountered in greater\n",
      "liwc_scores_categories_Exclam\n",
      "INNER EXCEPTION All numbers are identical in mannwhitneyu\n",
      "exception for feature  All numbers are identical in kruskal\n",
      "Analyzing  national for  personality_a_majority\n",
      "data has 364 instances\n",
      "bonforrini_threshold:  0.016666666666666666\n",
      "exception for feature  All numbers are identical in kruskal\n",
      "Analyzing  national for  personality_b_majority\n",
      "data has 364 instances\n",
      "bonforrini_threshold:  0.016666666666666666\n",
      "exception for feature  All numbers are identical in kruskal\n",
      "liwc_scores_categories_Exclam\n",
      "INNER EXCEPTION All numbers are identical in mannwhitneyu\n",
      "liwc_scores_categories_Quote\n",
      "INNER EXCEPTION All numbers are identical in mannwhitneyu\n",
      "Analyzing  all for  personality_a_majority\n",
      "data has 364 instances\n",
      "bonforrini_threshold:  0.016666666666666666\n",
      "exception for feature  All numbers are identical in kruskal\n",
      "Analyzing  all for  personality_b_majority\n",
      "data has 364 instances\n",
      "bonforrini_threshold:  0.016666666666666666\n",
      "exception for feature  All numbers are identical in kruskal\n",
      "liwc_scores_categories_Exclam\n",
      "INNER EXCEPTION All numbers are identical in mannwhitneyu\n",
      "liwc_scores_categories_Quote\n",
      "INNER EXCEPTION All numbers are identical in mannwhitneyu\n"
     ]
    },
    {
     "data": {
      "image/png": "[encoded data removed]",
      "text/plain": [
       "<Figure size 720x720 with 2 Axes>"
      ]
     },
     "metadata": {
      "needs_background": "light"
     },
     "output_type": "display_data"
    },
    {
     "data": {
      "image/png": "[encoded data removed]",
      "text/plain": [
       "<Figure size 720x720 with 2 Axes>"
      ]
     },
     "metadata": {
      "needs_background": "light"
     },
     "output_type": "display_data"
    },
    {
     "data": {
      "image/png": "[encoded data removed]",
      "text/plain": [
       "<Figure size 720x720 with 2 Axes>"
      ]
     },
     "metadata": {
      "needs_background": "light"
     },
     "output_type": "display_data"
    },
    {
     "data": {
      "image/png": "[encoded data removed]",
      "text/plain": [
       "<Figure size 720x720 with 2 Axes>"
      ]
     },
     "metadata": {
      "needs_background": "light"
     },
     "output_type": "display_data"
    },
    {
     "data": {
      "image/png": "[encoded data removed]",
      "text/plain": [
       "<Figure size 720x720 with 2 Axes>"
      ]
     },
     "metadata": {
      "needs_background": "light"
     },
     "output_type": "display_data"
    },
    {
     "data": {
      "image/png": "[encoded data removed]",
      "text/plain": [
       "<Figure size 720x720 with 2 Axes>"
      ]
     },
     "metadata": {
      "needs_background": "light"
     },
     "output_type": "display_data"
    },
    {
     "data": {
      "image/png": "[encoded data removed]",
      "text/plain": [
       "<Figure size 720x720 with 2 Axes>"
      ]
     },
     "metadata": {
      "needs_background": "light"
     },
     "output_type": "display_data"
    },
    {
     "data": {
      "image/png": "[encoded data removed]",
      "text/plain": [
       "<Figure size 720x720 with 2 Axes>"
      ]
     },
     "metadata": {
      "needs_background": "light"
     },
     "output_type": "display_data"
    }
   ],
   "source": [
    "analyze_sign(training_df, ['personality_a_majority', 'personality_b_majority'])"
   ]
  },
  {
   "cell_type": "code",
   "execution_count": null,
   "metadata": {
    "scrolled": true
   },
   "outputs": [],
   "source": [
    "numeric_features_list = list(training_df.select_dtypes(include=[np.number]))\n",
    "#utility.create_dirs('out/significance/')\n",
    "print(\"A\")\n",
    "\n",
    "a_significance = significance_testing.significance(training_df, features = numeric_features_list, \n",
    "                                   save = True, desc='../out/significance/personality_a_trainset', \n",
    "                                   independent_var='personality_a_majority',\n",
    "                                   p_value_threshold = 0.05)\n",
    "print(\"\\nB\")\n",
    "b_significance = significance_testing.significance(training_df, features = numeric_features_list, \n",
    "                                   save = True, desc='../out/significance/personality_groups/personality_b_trainset', \n",
    "                                   independent_var='personality_b_majority',\n",
    "                                   p_value_threshold = 0.05)"
   ]
  },
  {
   "cell_type": "code",
   "execution_count": null,
   "metadata": {},
   "outputs": [],
   "source": [
    "\n",
    "a_effectsize_filtered = analysis.get_sign_features_hm(a_significance )\n",
    "b_effectsize_filtered = analysis.get_sign_features_hm(b_significance )\n"
   ]
  },
  {
   "cell_type": "code",
   "execution_count": null,
   "metadata": {},
   "outputs": [],
   "source": [
    "#'Extreme Ideology - Effect Size (Whole Editorial)'\n",
    "analysis.plot_hm(a_effectsize_filtered, \n",
    "        filename='heatmap_effectsize_personality_a.pdf' )\n",
    "\n",
    "#'lean Ideology - Effect Size (Whole Editorial)'\n",
    "analysis.plot_hm(b_effectsize_filtered, \n",
    "        filename='heatmap_effectsize_personality_b.pdf' )"
   ]
  },
  {
   "cell_type": "markdown",
   "metadata": {},
   "source": [
    "## Training models"
   ]
  },
  {
   "cell_type": "code",
   "execution_count": null,
   "metadata": {},
   "outputs": [],
   "source": [
    "df = pd.read_csv('../data/personality_all_features.csv', index_col='idx')\n"
   ]
  },
  {
   "cell_type": "code",
   "execution_count": null,
   "metadata": {},
   "outputs": [],
   "source": [
    "\n",
    "\n",
    "\n",
    "results_standard = experiment.run_experiments(df, ideologies=['personality_a_majority', 'personality_b_majority'],\n",
    "                                    filename=\"../out/style_content_models_results/personality_experiments_standard\",                   remove_outliers=True,\n",
    "                    normalize=\"standard\")\n"
   ]
  },
  {
   "cell_type": "code",
   "execution_count": null,
   "metadata": {
    "scrolled": true
   },
   "outputs": [],
   "source": [
    "results_log = experiment.run_experiments(df, ideologies=['personality_a_majority', 'personality_b_majority'],\n",
    "                                    filename=\"../out/style_content_models_results/personality_experiments_log1\",                   \n",
    "                                         remove_outliers=True, normalize=\"log\")"
   ]
  },
  {
   "cell_type": "code",
   "execution_count": null,
   "metadata": {},
   "outputs": [],
   "source": [
    "results_minmax = experiment.run_experiments(df, ideologies=['personality_a_majority', 'personality_b_majority'],\n",
    "                                    filename=\"../out/style_content_models_results/personality_experiments_minmax.csv\",                   remove_outliers=True,\n",
    "                    normalize=\"minmax\")"
   ]
  },
  {
   "cell_type": "code",
   "execution_count": null,
   "metadata": {},
   "outputs": [],
   "source": [
    "experiment.train_baseline(df, 'personality_a_majority')"
   ]
  },
  {
   "cell_type": "code",
   "execution_count": null,
   "metadata": {},
   "outputs": [],
   "source": [
    "experiment.train_baseline(df, 'personality_b_majority')"
   ]
  },
  {
   "cell_type": "markdown",
   "metadata": {},
   "source": [
    "## Significance between models"
   ]
  },
  {
   "cell_type": "code",
   "execution_count": null,
   "metadata": {},
   "outputs": [],
   "source": [
    "PATH_RESULT_A = '../out/style_content_models_results/personality_experiments_{}_personality_a_majority.csv'\n",
    "\n",
    "a_cross_models_sqrt_df    = cross.run_model_pairs_significance(PATH_RESULT_A.format('sqrt'), df,'personality_a_majority', 'sqrt'    , 'sqrt_a' )\n",
    "a_cross_models_standard_df= cross.run_model_pairs_significance(PATH_RESULT_A.format('standard'), df,'personality_a_majority', 'standard', 'standard_a' )\n",
    "#a_cross_models_log_df     = cross.run_model_pairs_significance(PATH_RESULT_A.format('log'), df,'a_majority', 'log'     , 'log_a' )\n",
    "a_cross_models_minmax_df  = cross.run_model_pairs_significance(PATH_RESULT_A.format('minmax'), df,'personality_a_majority', 'minmax'   , 'minmax_a' )"
   ]
  },
  {
   "cell_type": "code",
   "execution_count": null,
   "metadata": {},
   "outputs": [],
   "source": [
    "#a_cross_models_sqrt_df # none \n",
    "a_cross_models_standard_df #dummy against style+content\n",
    "#a_cross_models_minmax_df"
   ]
  },
  {
   "cell_type": "code",
   "execution_count": null,
   "metadata": {},
   "outputs": [],
   "source": [
    "PATH_RESULT_B = '../out/style_content_models_results/personality_experiments_{}_personality_b_majority.csv'\n",
    "\n",
    "b_cross_models_sqrt_df    = cross.run_model_pairs_significance(PATH_RESULT_B.format('sqrt'), df,'personality_b_majority', 'sqrt'    , 'sqrt_b' )\n",
    "b_cross_models_standard_df= cross.run_model_pairs_significance(PATH_RESULT_B.format('standard'), df,'personality_b_majority', 'standard', 'standard_b' )\n",
    "#b_cross_models_log_df     = cross.run_model_pairs_significance(PATH_RESULT_B.format('log'), df,'personality_b_majority', 'log'     , 'log_b' )\n",
    "b_cross_models_minmax_df  = cross.run_model_pairs_significance(PATH_RESULT_B.format('minmax'), df,'personality_b_majority', 'minmax'   , 'minmax_b' )"
   ]
  },
  {
   "cell_type": "code",
   "execution_count": null,
   "metadata": {},
   "outputs": [],
   "source": [
    "#b_cross_models_sqrt_df #   style vs dummy\n",
    "b_cross_models_standard_df #\n",
    "#b_cross_models_minmax_df"
   ]
  },
  {
   "cell_type": "code",
   "execution_count": 5,
   "metadata": {},
   "outputs": [
    {
     "data": {
      "text/html": [
       "<div>\n",
       "<style scoped>\n",
       "    .dataframe tbody tr th:only-of-type {\n",
       "        vertical-align: middle;\n",
       "    }\n",
       "\n",
       "    .dataframe tbody tr th {\n",
       "        vertical-align: top;\n",
       "    }\n",
       "\n",
       "    .dataframe thead th {\n",
       "        text-align: right;\n",
       "    }\n",
       "</style>\n",
       "<table border=\"1\" class=\"dataframe\">\n",
       "  <thead>\n",
       "    <tr style=\"text-align: right;\">\n",
       "      <th></th>\n",
       "      <th>Unnamed: 0</th>\n",
       "      <th>model_pair</th>\n",
       "      <th>is_normal</th>\n",
       "      <th>stat</th>\n",
       "      <th>p_val</th>\n",
       "      <th>significant</th>\n",
       "      <th>data</th>\n",
       "    </tr>\n",
       "  </thead>\n",
       "  <tbody>\n",
       "    <tr>\n",
       "      <th>0</th>\n",
       "      <td>0</td>\n",
       "      <td>(('dummy',), ('lemma',))</td>\n",
       "      <td>True</td>\n",
       "      <td>-0.572626</td>\n",
       "      <td>0.597547</td>\n",
       "      <td>False</td>\n",
       "      <td>{\"('dummy',)\": [0.39, 0.36, 0.3, 0.3, 0.23], \"...</td>\n",
       "    </tr>\n",
       "    <tr>\n",
       "      <th>1</th>\n",
       "      <td>1</td>\n",
       "      <td>(('dummy',), ('mpqa_subjobg',))</td>\n",
       "      <td>True</td>\n",
       "      <td>-1.721807</td>\n",
       "      <td>0.160211</td>\n",
       "      <td>False</td>\n",
       "      <td>{\"('dummy',)\": [0.39, 0.36, 0.3, 0.3, 0.23], \"...</td>\n",
       "    </tr>\n",
       "    <tr>\n",
       "      <th>2</th>\n",
       "      <td>2</td>\n",
       "      <td>(('dummy',), ('liwc', 'mpqa_arg', 'mpqa_subjob...</td>\n",
       "      <td>True</td>\n",
       "      <td>-2.466824</td>\n",
       "      <td>0.069182</td>\n",
       "      <td>False</td>\n",
       "      <td>{\"('dummy',)\": [0.39, 0.36, 0.3, 0.3, 0.23], \"...</td>\n",
       "    </tr>\n",
       "    <tr>\n",
       "      <th>3</th>\n",
       "      <td>3</td>\n",
       "      <td>(('dummy',), ('liwc', 'mpqa_arg', 'adu', 'lemm...</td>\n",
       "      <td>True</td>\n",
       "      <td>-3.014476</td>\n",
       "      <td>0.039377</td>\n",
       "      <td>True</td>\n",
       "      <td>{\"('dummy',)\": [0.39, 0.36, 0.3, 0.3, 0.23], \"...</td>\n",
       "    </tr>\n",
       "    <tr>\n",
       "      <th>4</th>\n",
       "      <td>4</td>\n",
       "      <td>(('dummy',), ('liwc', 'nrc', 'mpqa_arg', 'adu'...</td>\n",
       "      <td>True</td>\n",
       "      <td>-2.988288</td>\n",
       "      <td>0.040406</td>\n",
       "      <td>True</td>\n",
       "      <td>{\"('dummy',)\": [0.39, 0.36, 0.3, 0.3, 0.23], \"...</td>\n",
       "    </tr>\n",
       "    <tr>\n",
       "      <th>5</th>\n",
       "      <td>5</td>\n",
       "      <td>(('lemma',), ('mpqa_subjobg',))</td>\n",
       "      <td>True</td>\n",
       "      <td>-1.102766</td>\n",
       "      <td>0.332014</td>\n",
       "      <td>False</td>\n",
       "      <td>{\"('lemma',)\": [0.4321123321123321, 0.27854365...</td>\n",
       "    </tr>\n",
       "    <tr>\n",
       "      <th>6</th>\n",
       "      <td>6</td>\n",
       "      <td>(('lemma',), ('liwc', 'mpqa_arg', 'mpqa_subjob...</td>\n",
       "      <td>False</td>\n",
       "      <td>3.000000</td>\n",
       "      <td>0.224916</td>\n",
       "      <td>False</td>\n",
       "      <td>{\"('lemma',)\": [0.4321123321123321, 0.27854365...</td>\n",
       "    </tr>\n",
       "    <tr>\n",
       "      <th>7</th>\n",
       "      <td>7</td>\n",
       "      <td>(('lemma',), ('liwc', 'mpqa_arg', 'adu', 'lemm...</td>\n",
       "      <td>True</td>\n",
       "      <td>-1.592901</td>\n",
       "      <td>0.186402</td>\n",
       "      <td>False</td>\n",
       "      <td>{\"('lemma',)\": [0.4321123321123321, 0.27854365...</td>\n",
       "    </tr>\n",
       "    <tr>\n",
       "      <th>8</th>\n",
       "      <td>8</td>\n",
       "      <td>(('lemma',), ('liwc', 'nrc', 'mpqa_arg', 'adu'...</td>\n",
       "      <td>True</td>\n",
       "      <td>-1.232474</td>\n",
       "      <td>0.285260</td>\n",
       "      <td>False</td>\n",
       "      <td>{\"('lemma',)\": [0.4321123321123321, 0.27854365...</td>\n",
       "    </tr>\n",
       "    <tr>\n",
       "      <th>9</th>\n",
       "      <td>9</td>\n",
       "      <td>(('mpqa_subjobg',), ('liwc', 'mpqa_arg', 'mpqa...</td>\n",
       "      <td>True</td>\n",
       "      <td>-0.735387</td>\n",
       "      <td>0.502894</td>\n",
       "      <td>False</td>\n",
       "      <td>{\"('mpqa_subjobg',)\": [0.38335738335738334, 0....</td>\n",
       "    </tr>\n",
       "    <tr>\n",
       "      <th>10</th>\n",
       "      <td>10</td>\n",
       "      <td>(('mpqa_subjobg',), ('liwc', 'mpqa_arg', 'adu'...</td>\n",
       "      <td>True</td>\n",
       "      <td>-0.652729</td>\n",
       "      <td>0.549544</td>\n",
       "      <td>False</td>\n",
       "      <td>{\"('mpqa_subjobg',)\": [0.38335738335738334, 0....</td>\n",
       "    </tr>\n",
       "    <tr>\n",
       "      <th>11</th>\n",
       "      <td>11</td>\n",
       "      <td>(('mpqa_subjobg',), ('liwc', 'nrc', 'mpqa_arg'...</td>\n",
       "      <td>True</td>\n",
       "      <td>-0.844370</td>\n",
       "      <td>0.446004</td>\n",
       "      <td>False</td>\n",
       "      <td>{\"('mpqa_subjobg',)\": [0.38335738335738334, 0....</td>\n",
       "    </tr>\n",
       "    <tr>\n",
       "      <th>12</th>\n",
       "      <td>12</td>\n",
       "      <td>(('liwc', 'mpqa_arg', 'mpqa_subjobg', 'lemma')...</td>\n",
       "      <td>True</td>\n",
       "      <td>0.031025</td>\n",
       "      <td>0.976736</td>\n",
       "      <td>False</td>\n",
       "      <td>{\"('liwc', 'mpqa_arg', 'mpqa_subjobg', 'lemma'...</td>\n",
       "    </tr>\n",
       "    <tr>\n",
       "      <th>13</th>\n",
       "      <td>13</td>\n",
       "      <td>(('liwc', 'mpqa_arg', 'mpqa_subjobg', 'lemma')...</td>\n",
       "      <td>True</td>\n",
       "      <td>-0.319795</td>\n",
       "      <td>0.765130</td>\n",
       "      <td>False</td>\n",
       "      <td>{\"('liwc', 'mpqa_arg', 'mpqa_subjobg', 'lemma'...</td>\n",
       "    </tr>\n",
       "    <tr>\n",
       "      <th>14</th>\n",
       "      <td>14</td>\n",
       "      <td>(('liwc', 'mpqa_arg', 'adu', 'lemma'), ('liwc'...</td>\n",
       "      <td>True</td>\n",
       "      <td>-0.187247</td>\n",
       "      <td>0.860581</td>\n",
       "      <td>False</td>\n",
       "      <td>{\"('liwc', 'mpqa_arg', 'adu', 'lemma')\": [0.45...</td>\n",
       "    </tr>\n",
       "  </tbody>\n",
       "</table>\n",
       "</div>"
      ],
      "text/plain": [
       "    Unnamed: 0                                         model_pair  is_normal  \\\n",
       "0            0                           (('dummy',), ('lemma',))       True   \n",
       "1            1                    (('dummy',), ('mpqa_subjobg',))       True   \n",
       "2            2  (('dummy',), ('liwc', 'mpqa_arg', 'mpqa_subjob...       True   \n",
       "3            3  (('dummy',), ('liwc', 'mpqa_arg', 'adu', 'lemm...       True   \n",
       "4            4  (('dummy',), ('liwc', 'nrc', 'mpqa_arg', 'adu'...       True   \n",
       "5            5                    (('lemma',), ('mpqa_subjobg',))       True   \n",
       "6            6  (('lemma',), ('liwc', 'mpqa_arg', 'mpqa_subjob...      False   \n",
       "7            7  (('lemma',), ('liwc', 'mpqa_arg', 'adu', 'lemm...       True   \n",
       "8            8  (('lemma',), ('liwc', 'nrc', 'mpqa_arg', 'adu'...       True   \n",
       "9            9  (('mpqa_subjobg',), ('liwc', 'mpqa_arg', 'mpqa...       True   \n",
       "10          10  (('mpqa_subjobg',), ('liwc', 'mpqa_arg', 'adu'...       True   \n",
       "11          11  (('mpqa_subjobg',), ('liwc', 'nrc', 'mpqa_arg'...       True   \n",
       "12          12  (('liwc', 'mpqa_arg', 'mpqa_subjobg', 'lemma')...       True   \n",
       "13          13  (('liwc', 'mpqa_arg', 'mpqa_subjobg', 'lemma')...       True   \n",
       "14          14  (('liwc', 'mpqa_arg', 'adu', 'lemma'), ('liwc'...       True   \n",
       "\n",
       "        stat     p_val  significant  \\\n",
       "0  -0.572626  0.597547        False   \n",
       "1  -1.721807  0.160211        False   \n",
       "2  -2.466824  0.069182        False   \n",
       "3  -3.014476  0.039377         True   \n",
       "4  -2.988288  0.040406         True   \n",
       "5  -1.102766  0.332014        False   \n",
       "6   3.000000  0.224916        False   \n",
       "7  -1.592901  0.186402        False   \n",
       "8  -1.232474  0.285260        False   \n",
       "9  -0.735387  0.502894        False   \n",
       "10 -0.652729  0.549544        False   \n",
       "11 -0.844370  0.446004        False   \n",
       "12  0.031025  0.976736        False   \n",
       "13 -0.319795  0.765130        False   \n",
       "14 -0.187247  0.860581        False   \n",
       "\n",
       "                                                 data  \n",
       "0   {\"('dummy',)\": [0.39, 0.36, 0.3, 0.3, 0.23], \"...  \n",
       "1   {\"('dummy',)\": [0.39, 0.36, 0.3, 0.3, 0.23], \"...  \n",
       "2   {\"('dummy',)\": [0.39, 0.36, 0.3, 0.3, 0.23], \"...  \n",
       "3   {\"('dummy',)\": [0.39, 0.36, 0.3, 0.3, 0.23], \"...  \n",
       "4   {\"('dummy',)\": [0.39, 0.36, 0.3, 0.3, 0.23], \"...  \n",
       "5   {\"('lemma',)\": [0.4321123321123321, 0.27854365...  \n",
       "6   {\"('lemma',)\": [0.4321123321123321, 0.27854365...  \n",
       "7   {\"('lemma',)\": [0.4321123321123321, 0.27854365...  \n",
       "8   {\"('lemma',)\": [0.4321123321123321, 0.27854365...  \n",
       "9   {\"('mpqa_subjobg',)\": [0.38335738335738334, 0....  \n",
       "10  {\"('mpqa_subjobg',)\": [0.38335738335738334, 0....  \n",
       "11  {\"('mpqa_subjobg',)\": [0.38335738335738334, 0....  \n",
       "12  {\"('liwc', 'mpqa_arg', 'mpqa_subjobg', 'lemma'...  \n",
       "13  {\"('liwc', 'mpqa_arg', 'mpqa_subjobg', 'lemma'...  \n",
       "14  {\"('liwc', 'mpqa_arg', 'adu', 'lemma')\": [0.45...  "
      ]
     },
     "execution_count": 5,
     "metadata": {},
     "output_type": "execute_result"
    }
   ],
   "source": [
    "a_cross_models_standard_df = pd.read_csv('../out/model_pair_comparison/standard_a')\n",
    "a_cross_models_standard_df"
   ]
  },
  {
   "cell_type": "code",
   "execution_count": 10,
   "metadata": {},
   "outputs": [
    {
     "data": {
      "text/plain": [
       "[\"(('dummy',), ('liwc', 'mpqa_arg', 'adu', 'lemma'))\",\n",
       " \"(('dummy',), ('liwc', 'nrc', 'mpqa_arg', 'adu', 'lemma'))\"]"
      ]
     },
     "execution_count": 10,
     "metadata": {},
     "output_type": "execute_result"
    }
   ],
   "source": [
    "a_cross_models_standard_df[a_cross_models_standard_df['significant'] == True]['model_pair'].values.tolist()"
   ]
  },
  {
   "cell_type": "code",
   "execution_count": null,
   "metadata": {},
   "outputs": [],
   "source": []
  }
 ],
 "metadata": {
  "kernelspec": {
   "display_name": "Python 3",
   "language": "python",
   "name": "python3"
  },
  "language_info": {
   "codemirror_mode": {
    "name": "ipython",
    "version": 3
   },
   "file_extension": ".py",
   "mimetype": "text/x-python",
   "name": "python",
   "nbconvert_exporter": "python",
   "pygments_lexer": "ipython3",
   "version": "3.7.3"
  }
 },
 "nbformat": 4,
 "nbformat_minor": 4
}
